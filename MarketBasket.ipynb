{
 "cells": [
  {
   "cell_type": "markdown",
   "metadata": {},
   "source": [
    "![title](imagens/Projeto6.png)"
   ]
  },
  {
   "cell_type": "markdown",
   "metadata": {},
   "source": [
    "# O Que é MBA (Market Basket Analysis)?\n",
    "\n",
    "A Análise de Cesta de Compras (Market Basket Analysis) é uma das principais técnicas usadas por grandes varejistas para descobrir associações entre itens. A técnica funciona procurando combinações de itens que ocorrem juntos com frequência nas transações. Em outras palavras, permite que os varejistas identifiquem as relações entre os itens que as pessoas compram.\n",
    "\n",
    "A Análise de Cesta de Compras emprega algoritmos de regras de associação, que são amplamente utilizadas para analisar cesta de varejo ou dados de transação e têm o objetivo de identificar regras fortes descobertas em dados de transações comerciais usando medidas de interesse, com base no conceito de regras fortes."
   ]
  },
  {
   "cell_type": "markdown",
   "metadata": {},
   "source": [
    "## Instalando e Carregando os Pacotes"
   ]
  },
  {
   "cell_type": "code",
   "execution_count": 1,
   "metadata": {},
   "outputs": [],
   "source": [
    "# https://pypi.org/project/efficient-apriori/\n",
    "!pip install -q efficient_apriori"
   ]
  },
  {
   "cell_type": "code",
   "execution_count": 2,
   "metadata": {
    "id": "moEakKJBKmJg"
   },
   "outputs": [],
   "source": [
    "# Imports\n",
    "import numpy as np\n",
    "import pandas as pd\n",
    "import matplotlib.pyplot as plt\n",
    "from datetime import datetime\n",
    "from itertools import combinations\n",
    "import efficient_apriori\n",
    "from efficient_apriori import apriori"
   ]
  },
  {
   "cell_type": "markdown",
   "metadata": {
    "id": "wwAUjMuu42MJ"
   },
   "source": [
    "## Carregando os Dados"
   ]
  },
  {
   "cell_type": "code",
   "execution_count": 3,
   "metadata": {
    "id": "-zHvUbETMK0K"
   },
   "outputs": [],
   "source": [
    "# Carrega os dados\n",
    "aisle = pd.read_csv('dados/aisles.csv')\n",
    "department = pd.read_csv('dados/departments.csv')\n",
    "order = pd.read_csv('dados/orders.csv')\n",
    "product = pd.read_csv('dados/products.csv')\n",
    "order_product_prior = pd.read_csv('dados/order_products__prior.csv')\n",
    "order_product_train = pd.read_csv('dados/order_products__train.csv')"
   ]
  },
  {
   "cell_type": "markdown",
   "metadata": {
    "id": "-Krhy2g4_XCo"
   },
   "source": [
    "## Análise Exploratória"
   ]
  },
  {
   "cell_type": "code",
   "execution_count": 4,
   "metadata": {},
   "outputs": [
    {
     "data": {
      "text/plain": [
       "(134, 2)"
      ]
     },
     "execution_count": 4,
     "metadata": {},
     "output_type": "execute_result"
    }
   ],
   "source": [
    "aisle.shape"
   ]
  },
  {
   "cell_type": "code",
   "execution_count": 5,
   "metadata": {
    "colab": {
     "base_uri": "https://localhost:8080/"
    },
    "id": "rahShd_bOtvb",
    "outputId": "951cd5f7-bf6c-401a-ca55-9a4da3718385"
   },
   "outputs": [
    {
     "data": {
      "text/html": [
       "<div>\n",
       "<style scoped>\n",
       "    .dataframe tbody tr th:only-of-type {\n",
       "        vertical-align: middle;\n",
       "    }\n",
       "\n",
       "    .dataframe tbody tr th {\n",
       "        vertical-align: top;\n",
       "    }\n",
       "\n",
       "    .dataframe thead th {\n",
       "        text-align: right;\n",
       "    }\n",
       "</style>\n",
       "<table border=\"1\" class=\"dataframe\">\n",
       "  <thead>\n",
       "    <tr style=\"text-align: right;\">\n",
       "      <th></th>\n",
       "      <th>aisle_id</th>\n",
       "      <th>aisle</th>\n",
       "    </tr>\n",
       "  </thead>\n",
       "  <tbody>\n",
       "    <tr>\n",
       "      <th>0</th>\n",
       "      <td>1</td>\n",
       "      <td>prepared soups salads</td>\n",
       "    </tr>\n",
       "    <tr>\n",
       "      <th>1</th>\n",
       "      <td>2</td>\n",
       "      <td>specialty cheeses</td>\n",
       "    </tr>\n",
       "    <tr>\n",
       "      <th>2</th>\n",
       "      <td>3</td>\n",
       "      <td>energy granola bars</td>\n",
       "    </tr>\n",
       "    <tr>\n",
       "      <th>3</th>\n",
       "      <td>4</td>\n",
       "      <td>instant foods</td>\n",
       "    </tr>\n",
       "    <tr>\n",
       "      <th>4</th>\n",
       "      <td>5</td>\n",
       "      <td>marinades meat preparation</td>\n",
       "    </tr>\n",
       "  </tbody>\n",
       "</table>\n",
       "</div>"
      ],
      "text/plain": [
       "   aisle_id                       aisle\n",
       "0         1       prepared soups salads\n",
       "1         2           specialty cheeses\n",
       "2         3         energy granola bars\n",
       "3         4               instant foods\n",
       "4         5  marinades meat preparation"
      ]
     },
     "execution_count": 5,
     "metadata": {},
     "output_type": "execute_result"
    }
   ],
   "source": [
    "aisle.head()"
   ]
  },
  {
   "cell_type": "code",
   "execution_count": null,
   "metadata": {},
   "outputs": [],
   "source": [
    "department.shape"
   ]
  },
  {
   "cell_type": "code",
   "execution_count": null,
   "metadata": {
    "colab": {
     "base_uri": "https://localhost:8080/"
    },
    "id": "o5VAuY4iPaLS",
    "outputId": "4e6cb22f-e3a6-4ef1-d917-d5707ca64380"
   },
   "outputs": [],
   "source": [
    "department.head()"
   ]
  },
  {
   "cell_type": "code",
   "execution_count": null,
   "metadata": {},
   "outputs": [],
   "source": [
    "product.shape"
   ]
  },
  {
   "cell_type": "code",
   "execution_count": null,
   "metadata": {
    "colab": {
     "base_uri": "https://localhost:8080/"
    },
    "id": "EvdDMt3xOlEs",
    "outputId": "aeec6308-694b-473c-ab2c-fdf791680246"
   },
   "outputs": [],
   "source": [
    "product.head()"
   ]
  },
  {
   "cell_type": "code",
   "execution_count": null,
   "metadata": {},
   "outputs": [],
   "source": [
    "order.shape"
   ]
  },
  {
   "cell_type": "code",
   "execution_count": null,
   "metadata": {
    "colab": {
     "base_uri": "https://localhost:8080/"
    },
    "id": "GWunGD687Wy-",
    "outputId": "8c759905-39d4-4a87-b4fb-ef1d1e8f46de"
   },
   "outputs": [],
   "source": [
    "order.head()"
   ]
  },
  {
   "cell_type": "code",
   "execution_count": null,
   "metadata": {},
   "outputs": [],
   "source": [
    "order_product_prior.shape"
   ]
  },
  {
   "cell_type": "code",
   "execution_count": null,
   "metadata": {
    "colab": {
     "base_uri": "https://localhost:8080/"
    },
    "id": "YqeQ3b667ZfS",
    "outputId": "cb151659-03eb-48df-d895-c3179ca7932a"
   },
   "outputs": [],
   "source": [
    "order_product_prior.head()"
   ]
  },
  {
   "cell_type": "markdown",
   "metadata": {
    "id": "nqaCbjm0nRYb"
   },
   "source": [
    "Por que não usar programação e verificar o total de registros em todos os datasets de uma vez?"
   ]
  },
  {
   "cell_type": "code",
   "execution_count": null,
   "metadata": {
    "colab": {
     "base_uri": "https://localhost:8080/"
    },
    "id": "lc3DJxGs_bZI",
    "outputId": "7f32e7d5-a2dd-4592-8101-127bfbab1256"
   },
   "outputs": [],
   "source": [
    "# Total de registros por dataset\n",
    "count_array = np.array([['Aisles', len(aisle)],\n",
    "                        ['Department', len(department)],\n",
    "                        ['Product', len(product)],\n",
    "                        ['Order', len(order)],\n",
    "                        ['Order_Product_Prior', len(order_product_prior)],\n",
    "                        ['Order_Product_Train', len(order_product_train)]])\n",
    "count_record = pd.DataFrame(count_array, columns = ['Arquivo', 'Total de Registros'])\n",
    "count_record"
   ]
  },
  {
   "cell_type": "code",
   "execution_count": null,
   "metadata": {
    "colab": {
     "base_uri": "https://localhost:8080/"
    },
    "id": "syO-ryWqncOG",
    "outputId": "72330ccc-98d2-4d03-e1eb-eb7c47a4ad1c"
   },
   "outputs": [],
   "source": [
    "# Total de itens nas categorias de eval_set\n",
    "order['eval_set'].value_counts()"
   ]
  },
  {
   "cell_type": "markdown",
   "metadata": {
    "id": "1fF1ortu8ASN"
   },
   "source": [
    "## Limpeza dos Dados"
   ]
  },
  {
   "cell_type": "markdown",
   "metadata": {
    "id": "FfnMMJ8Q8D0v"
   },
   "source": [
    "### Verificando Valores Ausentes"
   ]
  },
  {
   "cell_type": "code",
   "execution_count": null,
   "metadata": {
    "colab": {
     "base_uri": "https://localhost:8080/"
    },
    "id": "S1G16z0-7_RR",
    "outputId": "c0c8ec1f-a290-41a1-c046-fa81697a1ae2"
   },
   "outputs": [],
   "source": [
    "aisle.isna().sum()"
   ]
  },
  {
   "cell_type": "code",
   "execution_count": null,
   "metadata": {
    "colab": {
     "base_uri": "https://localhost:8080/"
    },
    "id": "wVvcS1a_8Rio",
    "outputId": "a04b932a-610f-4272-abc2-105514897be5"
   },
   "outputs": [],
   "source": [
    "department.isna().sum()"
   ]
  },
  {
   "cell_type": "code",
   "execution_count": null,
   "metadata": {
    "colab": {
     "base_uri": "https://localhost:8080/"
    },
    "id": "UpOvdrXO8VOg",
    "outputId": "eb6bd2e0-8948-4734-94b8-edbf3c9f5a2f"
   },
   "outputs": [],
   "source": [
    "order.isna().sum()"
   ]
  },
  {
   "cell_type": "code",
   "execution_count": null,
   "metadata": {
    "colab": {
     "base_uri": "https://localhost:8080/"
    },
    "id": "lYsuq1tl9HYQ",
    "outputId": "0e3f4f92-8c39-44e3-ee46-de64f3806508"
   },
   "outputs": [],
   "source": [
    "product.isna().sum()"
   ]
  },
  {
   "cell_type": "code",
   "execution_count": null,
   "metadata": {
    "colab": {
     "base_uri": "https://localhost:8080/"
    },
    "id": "HPYw3qOp9JER",
    "outputId": "7b661c57-7a2f-40fa-f73c-c3bfb0ec2ce1"
   },
   "outputs": [],
   "source": [
    "order_product_prior.isna().sum()"
   ]
  },
  {
   "cell_type": "code",
   "execution_count": null,
   "metadata": {
    "colab": {
     "base_uri": "https://localhost:8080/"
    },
    "id": "OOA0ENpf9QQr",
    "outputId": "a8b47e0f-8275-4704-fec7-5d6e6fc551ee"
   },
   "outputs": [],
   "source": [
    "order_product_train.isna().sum()"
   ]
  },
  {
   "cell_type": "markdown",
   "metadata": {
    "id": "LLQGe8qIcf3s"
   },
   "source": [
    "### Feature Extraction"
   ]
  },
  {
   "cell_type": "markdown",
   "metadata": {
    "id": "vSG5qtyzkOL0"
   },
   "source": [
    "### Merge da Tabela order_product_prior com order, product, aisle e department"
   ]
  },
  {
   "cell_type": "code",
   "execution_count": null,
   "metadata": {
    "id": "UxFUMfW7mGpi"
   },
   "outputs": [],
   "source": [
    "# Merge\n",
    "order_product_prior = order_product_prior.merge(order, on = 'order_id', how = 'left')\n",
    "order_product_prior = order_product_prior.merge(product, on = 'product_id', how = 'left')\n",
    "order_product_prior = order_product_prior.merge(aisle, on = 'aisle_id', how = 'left')\n",
    "order_product_prior = order_product_prior.merge(department, on = 'department_id', how = 'left')"
   ]
  },
  {
   "cell_type": "code",
   "execution_count": null,
   "metadata": {
    "colab": {
     "base_uri": "https://localhost:8080/"
    },
    "id": "68GKrrHZtcob",
    "outputId": "01f8ec08-25d5-4622-93a7-040d6cc8b204",
    "scrolled": true
   },
   "outputs": [],
   "source": [
    "order_product_prior.head(10)"
   ]
  },
  {
   "cell_type": "code",
   "execution_count": null,
   "metadata": {},
   "outputs": [],
   "source": [
    "order_product_prior.isna().sum()"
   ]
  },
  {
   "cell_type": "code",
   "execution_count": null,
   "metadata": {},
   "outputs": [],
   "source": [
    "order_product_prior.isnull().sum() / len(order_product_prior) * 100"
   ]
  },
  {
   "cell_type": "markdown",
   "metadata": {},
   "source": [
    "Mantive a variável days_since_prior_order por duas razões:\n",
    "\n",
    "1- O percentual de valores ausentes é apenas de 6.4%.\n",
    "\n",
    "2- Não usaremos a variável com o algoritmo MBA."
   ]
  },
  {
   "cell_type": "markdown",
   "metadata": {
    "id": "NjSL_jOE4C_U"
   },
   "source": [
    "### Merge da Tabela order_product_train com order, product, aisle e department"
   ]
  },
  {
   "cell_type": "code",
   "execution_count": null,
   "metadata": {
    "id": "S8zPjkLh4DlW"
   },
   "outputs": [],
   "source": [
    "%%time\n",
    "order_product_train = order_product_train.merge(order, on = 'order_id', how = 'left')\n",
    "order_product_train = order_product_train.merge(product, on = 'product_id', how = 'left')\n",
    "order_product_train = order_product_train.merge(aisle, on = 'aisle_id', how = 'left')\n",
    "order_product_train = order_product_train.merge(department, on = 'department_id', how = 'left')"
   ]
  },
  {
   "cell_type": "code",
   "execution_count": null,
   "metadata": {
    "colab": {
     "base_uri": "https://localhost:8080/"
    },
    "id": "cnrjGiTZ4LWh",
    "outputId": "c099e3a0-ea27-47aa-d6ec-efba5b66c666",
    "scrolled": true
   },
   "outputs": [],
   "source": [
    "order_product_train.head(10)"
   ]
  },
  {
   "cell_type": "code",
   "execution_count": null,
   "metadata": {},
   "outputs": [],
   "source": [
    "order_product_train.isna().sum()"
   ]
  },
  {
   "cell_type": "markdown",
   "metadata": {
    "id": "gKkQ7d6YeJ8i"
   },
   "source": [
    "> Agrupar os dados para aplicar o algoritmo Apriori e preparar o dataset com todas as transações."
   ]
  },
  {
   "cell_type": "code",
   "execution_count": null,
   "metadata": {
    "id": "CnrGi9h78Kwz"
   },
   "outputs": [],
   "source": [
    "%%time\n",
    "order_grouped = pd.DataFrame(order_product_prior.groupby('order_id')['product_id'])"
   ]
  },
  {
   "cell_type": "code",
   "execution_count": null,
   "metadata": {},
   "outputs": [],
   "source": [
    "order_grouped.shape"
   ]
  },
  {
   "cell_type": "code",
   "execution_count": null,
   "metadata": {},
   "outputs": [],
   "source": [
    "len(order_grouped[0])"
   ]
  },
  {
   "cell_type": "code",
   "execution_count": null,
   "metadata": {},
   "outputs": [],
   "source": [
    "order_grouped.head()"
   ]
  },
  {
   "cell_type": "code",
   "execution_count": null,
   "metadata": {
    "id": "PxNrpPjSeOxD"
   },
   "outputs": [],
   "source": [
    "# Listas\n",
    "prod = []"
   ]
  },
  {
   "cell_type": "code",
   "execution_count": null,
   "metadata": {},
   "outputs": [],
   "source": [
    "%%time\n",
    "for i in range(len(order_grouped[0])):\n",
    "    prod.append(list(order_grouped.iloc[i][1]))"
   ]
  },
  {
   "cell_type": "code",
   "execution_count": null,
   "metadata": {},
   "outputs": [],
   "source": [
    "prod_ = prod"
   ]
  },
  {
   "cell_type": "code",
   "execution_count": null,
   "metadata": {},
   "outputs": [],
   "source": [
    "order_ = order_grouped[0]"
   ]
  },
  {
   "cell_type": "code",
   "execution_count": null,
   "metadata": {},
   "outputs": [],
   "source": [
    "# Prepara o dataframe\n",
    "transactions = pd.DataFrame({'OrderID' : order_, 'Products' : prod_})"
   ]
  },
  {
   "cell_type": "code",
   "execution_count": null,
   "metadata": {
    "id": "5OIS1o_J8Kwz",
    "outputId": "1be8c470-b6e8-4782-a1aa-4dbe353bf887"
   },
   "outputs": [],
   "source": [
    "transactions.head(10)"
   ]
  },
  {
   "cell_type": "markdown",
   "metadata": {
    "id": "iIu3daJt_DPQ"
   },
   "source": [
    "## Análise Estatística Descritiva"
   ]
  },
  {
   "cell_type": "markdown",
   "metadata": {
    "id": "cfLnAnPrdWog"
   },
   "source": [
    "### 1- Qual o Número de Pedidos Mais Frequente Entre os Usuários?"
   ]
  },
  {
   "cell_type": "code",
   "execution_count": null,
   "metadata": {},
   "outputs": [],
   "source": [
    "# Agrupa os dados por usuário e número do pedido, agregando pelo maior valor\n",
    "ord_max_count = order.groupby(\"user_id\")['order_number'].aggregate(np.max).reset_index()\n",
    "ord_max_count.head()"
   ]
  },
  {
   "cell_type": "code",
   "execution_count": null,
   "metadata": {},
   "outputs": [],
   "source": [
    "# Faz a contagem por número de pedidos\n",
    "ord_max_count = ord_max_count.order_number.value_counts()\n",
    "ord_max_count.head()"
   ]
  },
  {
   "cell_type": "code",
   "execution_count": null,
   "metadata": {
    "colab": {
     "base_uri": "https://localhost:8080/",
     "height": 341
    },
    "id": "9jbNIoii_PTd",
    "outputId": "af6f505b-a382-46ab-ca05-fa8d53365749"
   },
   "outputs": [],
   "source": [
    "# Plot\n",
    "plt.style.use('ggplot')\n",
    "plt.figure(figsize = (20,8))\n",
    "plt.bar(ord_max_count.index, ord_max_count.values, color = 'indigo', width = 0.6)\n",
    "plt.xticks(ord_max_count.index, rotation = 'vertical')\n",
    "plt.ylabel('Frequência', fontsize = 14, fontweight = 'bold')\n",
    "plt.xlabel('Número de Pedidos Mais Frequente Entre os Usuários', fontsize = 14, fontweight = 'bold')\n",
    "plt.show()"
   ]
  },
  {
   "cell_type": "markdown",
   "metadata": {
    "id": "S6xhr0Y5LCi1"
   },
   "source": [
    "### 2- Qual Dia da Semana Tem o Maior Número de Pedidos?"
   ]
  },
  {
   "cell_type": "code",
   "execution_count": null,
   "metadata": {},
   "outputs": [],
   "source": [
    "# Frequências de pedidos por dia da semana (dow = day of the week)\n",
    "x = [0,1,2,3,4,5,6]\n",
    "y = [order[order['order_dow']==0].shape[0],\n",
    "     order[order['order_dow']==1].shape[0],\n",
    "     order[order['order_dow']==2].shape[0],\n",
    "     order[order['order_dow']==3].shape[0],\n",
    "     order[order['order_dow']==4].shape[0],\n",
    "     order[order['order_dow']==5].shape[0],\n",
    "     order[order['order_dow']==6].shape[0]]"
   ]
  },
  {
   "cell_type": "code",
   "execution_count": null,
   "metadata": {
    "id": "LAtk7-cDLD15",
    "outputId": "dfba10d1-1f8a-40b1-984a-27e3596af252"
   },
   "outputs": [],
   "source": [
    "# Plot\n",
    "plt.figure(figsize = (10,5))\n",
    "plt.bar(x,y, color = 'slateblue')\n",
    "plt.xlabel('Dia da Semana', fontsize = 14, fontweight = 'bold')\n",
    "plt.ylabel('Frequência', fontsize = 14, fontweight = 'bold')\n",
    "plt.xticks(x,['Domingo', 'Segunda', 'Terça', 'Quarta', 'Quinta', 'Sexta', 'Sábado'], rotation = 'vertical')\n",
    "plt.show()"
   ]
  },
  {
   "cell_type": "markdown",
   "metadata": {
    "id": "Vlu0rClmLRX7"
   },
   "source": [
    "### 3- Qual Hora do Dia Tem o Maior Número de Pedidos?"
   ]
  },
  {
   "cell_type": "code",
   "execution_count": null,
   "metadata": {},
   "outputs": [],
   "source": [
    "# Frequências de pedidos pela hora do dia\n",
    "x = list(range(0,24))\n",
    "y = []\n",
    "for i in range(24):\n",
    "    y.append(order[order['order_hour_of_day']==i].shape[0])"
   ]
  },
  {
   "cell_type": "code",
   "execution_count": null,
   "metadata": {
    "id": "Wyhr2eJ0LVj0",
    "outputId": "2e7e3254-c9da-4f04-b72b-c88f508bf9dc"
   },
   "outputs": [],
   "source": [
    "# Plot\n",
    "plt.figure(figsize = (20,5))\n",
    "plt.bar(x,y,color = 'forestgreen')\n",
    "plt.xticks(np.arange(0,24,1))\n",
    "plt.xlabel('Hora do Dia', fontsize = 14, fontweight = 'bold')\n",
    "plt.ylabel('Frequência', fontsize = 14, fontweight = 'bold')\n",
    "plt.show()"
   ]
  },
  {
   "cell_type": "markdown",
   "metadata": {
    "id": "L5end6XVMW8Z",
    "outputId": "129c7d74-7c86-416c-a345-66a2e2aec374"
   },
   "source": [
    "### 4- Qual Departamento Tem o Maior Número de Pedidos?"
   ]
  },
  {
   "cell_type": "code",
   "execution_count": null,
   "metadata": {
    "id": "Xj-xJSf48Kw1",
    "outputId": "aea35015-d643-4f89-bce3-88f21bd41579"
   },
   "outputs": [],
   "source": [
    "# Contagem de pedidos por departamento\n",
    "dept_cnt = order_product_prior['department'].value_counts()"
   ]
  },
  {
   "cell_type": "code",
   "execution_count": null,
   "metadata": {},
   "outputs": [],
   "source": [
    "# Plot\n",
    "fig = plt.figure(figsize = (20,10))\n",
    "dept_cnt.plot(kind = \"bar\", color = 'maroon')\n",
    "plt.xticks(rotation = 90)\n",
    "plt.xlabel('Departmento', fontsize = 14, fontweight = 'bold')\n",
    "plt.ylabel('Frequência', fontsize = 14, fontweight = 'bold')\n",
    "plt.show()"
   ]
  },
  {
   "cell_type": "markdown",
   "metadata": {
    "id": "6vCLr18i8Kw1"
   },
   "source": [
    "### 5- Quais os 20 Principais Corredores Por Frequência de Pedidos?"
   ]
  },
  {
   "cell_type": "code",
   "execution_count": null,
   "metadata": {},
   "outputs": [],
   "source": [
    "# Os 20 principais corredores e sua frequência de pedidos\n",
    "aisle_cnt = order_product_prior['aisle'].value_counts()"
   ]
  },
  {
   "cell_type": "code",
   "execution_count": null,
   "metadata": {
    "id": "6DCRRQSL8Kw1",
    "outputId": "81918552-60d6-4fd6-d589-54f49aba3260"
   },
   "outputs": [],
   "source": [
    "# Plot\n",
    "fig = plt.figure(figsize = (20,10))\n",
    "aisle_cnt[0:20].plot(kind = \"bar\", color = 'darkgoldenrod')\n",
    "plt.xticks(rotation = 90)\n",
    "plt.xlabel('Corredor', fontsize = 14, fontweight = 'bold')\n",
    "plt.ylabel('Frequência', fontsize = 14, fontweight = 'bold')\n",
    "plt.show()"
   ]
  },
  {
   "cell_type": "markdown",
   "metadata": {
    "id": "MtMFx3Mh8Kw2"
   },
   "source": [
    "### 6- Quais os 20 Principais Produtos Por Frequência de Pedidos?"
   ]
  },
  {
   "cell_type": "code",
   "execution_count": null,
   "metadata": {},
   "outputs": [],
   "source": [
    "# Os 20 principais produtos por frequência de pedido\n",
    "prod_cnt = order_product_prior['product_name'].value_counts()"
   ]
  },
  {
   "cell_type": "code",
   "execution_count": null,
   "metadata": {
    "id": "ZYn_0y6p8Kw2",
    "outputId": "adf8b823-b72e-4bf1-8b6e-391730cfab42",
    "scrolled": true
   },
   "outputs": [],
   "source": [
    "# Plot\n",
    "fig = plt.figure(figsize = (20,10))\n",
    "prod_cnt[0:20].plot(kind = \"bar\", color = 'purple')\n",
    "plt.xticks(rotation = 90)\n",
    "plt.xlabel('Produto', fontsize = 14, fontweight = 'bold')\n",
    "plt.ylabel('Frequência', fontsize = 14, fontweight = 'bold')\n",
    "plt.show()"
   ]
  },
  {
   "cell_type": "markdown",
   "metadata": {
    "id": "Jz3Ulxi98Kw2"
   },
   "source": [
    "### 7- Análise de Novos Pedidos Semelhantes a Pedidos Anteriores (reorder)"
   ]
  },
  {
   "cell_type": "code",
   "execution_count": null,
   "metadata": {
    "id": "-WNkyckR8Kw2"
   },
   "outputs": [],
   "source": [
    "%%time\n",
    "temp_df = order_product_prior.groupby(\"product_name\")[\"reordered\"].agg(['count', 'sum']).rename(columns = {'count':'total','sum':'reorders'})\n",
    "temp_df = temp_df.sort_values('total', ascending = False).reset_index()\n"
   ]
  },
  {
   "cell_type": "code",
   "execution_count": null,
   "metadata": {},
   "outputs": [],
   "source": [
    "# Prepara as listas\n",
    "labels = list(temp_df.product_name[0:20])\n",
    "reorder = list(temp_df.reorders[0:20])\n",
    "total = list(temp_df.total[0:20])    "
   ]
  },
  {
   "cell_type": "code",
   "execution_count": null,
   "metadata": {
    "id": "7mzSUbd_8Kw2",
    "outputId": "cd5ed0ea-175b-4abf-8d3d-ce75a90d91d8"
   },
   "outputs": [],
   "source": [
    "# Plot  \n",
    "width = 0.35 \n",
    "fig, ax = plt.subplots(figsize = (20,10))\n",
    "ax.bar(labels, reorder, width, label = 'Reorder', color = 'green')\n",
    "ax.bar(labels, total, width, bottom = reorder, label = 'Total', color = 'red')\n",
    "ax.set_ylabel('Total de Pedidos', fontsize = 14, fontweight = 'bold')\n",
    "ax.legend()\n",
    "ax.set_title(\"Produtos Mais Populares\")\n",
    "plt.xticks(rotation = 90)\n",
    "plt.show()"
   ]
  },
  {
   "cell_type": "markdown",
   "metadata": {},
   "source": [
    "### 7- Análise de Reorder Por Departamento ao Longo do Tempo"
   ]
  },
  {
   "cell_type": "code",
   "execution_count": null,
   "metadata": {
    "id": "kdITWPAA8Kw3",
    "outputId": "d5259442-848e-4aa8-9f95-c205383ef09e"
   },
   "outputs": [],
   "source": [
    "# Agrupando os dados por departamento e reorder\n",
    "grouped_df = order_product_prior.groupby([\"department\"])[\"reordered\"].aggregate(\"mean\").reset_index()\n",
    "grouped_df.head()"
   ]
  },
  {
   "cell_type": "code",
   "execution_count": null,
   "metadata": {
    "id": "dIuH36Sz8Kw3",
    "outputId": "e89ae605-97ab-4354-acc8-db58c27c5e14"
   },
   "outputs": [],
   "source": [
    "# Plot\n",
    "plt.figure(figsize = (12,8))\n",
    "plt.plot(list(grouped_df['department']), grouped_df['reordered'].values, alpha=0.8)\n",
    "plt.scatter(list(grouped_df['department']), grouped_df['reordered'].values)\n",
    "plt.ylabel('Taxa de Reorder', fontsize = 12)\n",
    "plt.xlabel('Departmento', fontsize = 12)\n",
    "plt.title(\"Departmento x Taxa de Reorder\", fontsize = 15)\n",
    "plt.xticks(rotation = 'vertical')\n",
    "plt.show()"
   ]
  },
  {
   "cell_type": "markdown",
   "metadata": {},
   "source": [
    "### 8- Análise de Reorder e Pedidos"
   ]
  },
  {
   "cell_type": "code",
   "execution_count": null,
   "metadata": {
    "id": "4Qa5SQu58Kw3"
   },
   "outputs": [],
   "source": [
    "%%time\n",
    "temp_df = order_product_prior.groupby(\"department\")[\"reordered\"].agg(['count', 'sum']).rename(columns = {'count':'total','sum':'reorders'})\n",
    "temp_df = temp_df.sort_values('total', ascending = False).reset_index()\n"
   ]
  },
  {
   "cell_type": "code",
   "execution_count": null,
   "metadata": {
    "id": "Qk_oMOxj8Kw3",
    "outputId": "70aae430-8773-4236-edd2-aca46c233137"
   },
   "outputs": [],
   "source": [
    "temp_df.head()"
   ]
  },
  {
   "cell_type": "code",
   "execution_count": null,
   "metadata": {},
   "outputs": [],
   "source": [
    "# Listas\n",
    "labels = list(temp_df.department[0:20])\n",
    "reorder = list(temp_df.reorders[0:20])\n",
    "total = list(temp_df.total[0:20])"
   ]
  },
  {
   "cell_type": "code",
   "execution_count": null,
   "metadata": {
    "id": "RlYcMZWB8Kw4",
    "outputId": "094057fc-2eba-4679-8f4e-fe6ed46dad6c"
   },
   "outputs": [],
   "source": [
    "# Plot\n",
    "width = 0.35  \n",
    "fig, ax = plt.subplots(figsize = (20,10))\n",
    "ax.bar(labels, reorder, width, label = 'Reorder', color = 'magenta')\n",
    "ax.bar(labels, total, width, bottom = reorder, label = 'Pedidos', color = 'blue')\n",
    "ax.set_ylabel('Total de Pedidos', fontsize = 14, fontweight = 'bold')\n",
    "ax.legend()\n",
    "ax.set_title(\"Total de Pedidos e Reorders dos Departmentos\")\n",
    "plt.xticks(rotation = 90)\n",
    "plt.show()"
   ]
  },
  {
   "cell_type": "markdown",
   "metadata": {},
   "source": [
    "### 9- Análise de Reorder Por Corredor"
   ]
  },
  {
   "cell_type": "code",
   "execution_count": null,
   "metadata": {
    "id": "b_ak9rsN8Kw4",
    "outputId": "4a2c498d-ffb6-4cc8-9988-39129f7094d4"
   },
   "outputs": [],
   "source": [
    "grouped_df = order_product_prior.groupby([\"aisle\"])[\"reordered\"].aggregate(\"mean\").reset_index()\n",
    "grouped_df.head()"
   ]
  },
  {
   "cell_type": "code",
   "execution_count": null,
   "metadata": {
    "id": "apgxk92p8Kw4",
    "outputId": "4408de19-3532-4d2f-e5f8-38d9c0eb2843"
   },
   "outputs": [],
   "source": [
    "list(grouped_df['aisle'])[0:20]"
   ]
  },
  {
   "cell_type": "code",
   "execution_count": null,
   "metadata": {
    "id": "XtPU9gHY8Kw4",
    "outputId": "810e0a0e-8eb0-4666-e9ed-909b39ae2e3e"
   },
   "outputs": [],
   "source": [
    "# Corredor x Taxa de Reorder\n",
    "plt.figure(figsize=(14,7))\n",
    "plt.plot(list(grouped_df['aisle'])[0:20], grouped_df['reordered'].values[0:20], alpha=0.8)\n",
    "plt.scatter(list(grouped_df['aisle'])[0:20], grouped_df['reordered'].values[0:20])\n",
    "plt.ylabel('Taxa de Reorder', fontsize=12)\n",
    "plt.xlabel('Corredor', fontsize=12)\n",
    "plt.title(\"Corredor x Taxa de Reorder\", fontsize = 15)\n",
    "plt.xticks(rotation = 'vertical')\n",
    "plt.show()"
   ]
  },
  {
   "cell_type": "markdown",
   "metadata": {},
   "source": [
    "### 10- Análise de Reorder Por Corredor (Total)"
   ]
  },
  {
   "cell_type": "code",
   "execution_count": null,
   "metadata": {
    "id": "EswFp6lP8Kw4"
   },
   "outputs": [],
   "source": [
    "%%time\n",
    "temp_df = order_product_prior.groupby(\"aisle\")[\"reordered\"].agg(['count', 'sum']).rename(columns = {'count':'total','sum':'reorders'})\n",
    "temp_df = temp_df.sort_values('total', ascending = False).reset_index()\n"
   ]
  },
  {
   "cell_type": "code",
   "execution_count": null,
   "metadata": {
    "id": "UhQRe5FZ8Kw4",
    "outputId": "fb0230d3-4e6b-4c64-d2dc-bd78a1c48b0f"
   },
   "outputs": [],
   "source": [
    "temp_df.head()"
   ]
  },
  {
   "cell_type": "code",
   "execution_count": null,
   "metadata": {},
   "outputs": [],
   "source": [
    "# Listas\n",
    "labels = list(temp_df.aisle[0:20])\n",
    "reorder = list(temp_df.reorders[0:20])\n",
    "total = list(temp_df.total[0:20])"
   ]
  },
  {
   "cell_type": "code",
   "execution_count": null,
   "metadata": {
    "id": "jFu5lDCY8Kw5",
    "outputId": "ef697245-915f-48da-d33e-2a8b9eb4ca89"
   },
   "outputs": [],
   "source": [
    "# Plot\n",
    "width = 0.35      \n",
    "fig, ax = plt.subplots(figsize = (20,10))\n",
    "ax.bar(labels, reorder, width, label = 'Reorder', color = 'green')\n",
    "ax.bar(labels, total, width, bottom = reorder, label = 'Total', color = 'red')\n",
    "ax.set_ylabel('Total de Pedidos', fontsize = 14, fontweight = 'bold')\n",
    "ax.legend()\n",
    "ax.set_title(\"Total de Pedidos e Reorders dos Corredores\")\n",
    "plt.xticks(rotation = 90)\n",
    "plt.show()"
   ]
  },
  {
   "cell_type": "markdown",
   "metadata": {
    "id": "HMt_QFRB8Kw5"
   },
   "source": [
    "> Vamos verificar a relação entre como a ordem de adição do produto ao carrinho afeta a proporção de novos pedidos"
   ]
  },
  {
   "cell_type": "code",
   "execution_count": null,
   "metadata": {},
   "outputs": [],
   "source": [
    "import warnings\n",
    "warnings.filterwarnings('ignore')"
   ]
  },
  {
   "cell_type": "code",
   "execution_count": null,
   "metadata": {},
   "outputs": [],
   "source": [
    "!pip install -q shutup"
   ]
  },
  {
   "cell_type": "code",
   "execution_count": null,
   "metadata": {},
   "outputs": [],
   "source": [
    "import shutup; shutup.please()"
   ]
  },
  {
   "cell_type": "code",
   "execution_count": null,
   "metadata": {
    "id": "AC47rxvl8Kw5",
    "outputId": "76142fa5-ba7a-48e5-fd8c-a8c52f0108ae"
   },
   "outputs": [],
   "source": [
    "order_product_prior[\"add_to_cart_order_mod\"] = order_product_prior[\"add_to_cart_order\"].copy()\n",
    "order_product_prior[\"add_to_cart_order_mod\"].loc[order_product_prior[\"add_to_cart_order_mod\"] > 70] = 70\n",
    "grouped_df = order_product_prior.groupby([\"add_to_cart_order_mod\"])[\"reordered\"].aggregate(\"mean\").reset_index()"
   ]
  },
  {
   "cell_type": "code",
   "execution_count": null,
   "metadata": {
    "id": "RzFR0Yep8Kw5",
    "outputId": "147fe536-1f46-452d-ce64-97b3bb9f40f1"
   },
   "outputs": [],
   "source": [
    "grouped_df.head(10)"
   ]
  },
  {
   "cell_type": "markdown",
   "metadata": {
    "id": "vbFsBoCY8Kw6"
   },
   "source": [
    "## Implementação do Algoritmo Apriori"
   ]
  },
  {
   "cell_type": "markdown",
   "metadata": {},
   "source": [
    "Métricas:\n",
    "\n",
    "![title](imagens/regras.png)"
   ]
  },
  {
   "cell_type": "markdown",
   "metadata": {},
   "source": [
    "Support = Fração de transações que contêm A e B.\n",
    "\n",
    "![title](imagens/support.png)"
   ]
  },
  {
   "cell_type": "markdown",
   "metadata": {},
   "source": [
    "Confidence = A frequência com que B aparece em transações que contêm apenas A.\n",
    "\n",
    "![title](imagens/confidence.png)"
   ]
  },
  {
   "cell_type": "markdown",
   "metadata": {},
   "source": [
    "Lift = Quanto aumentou nossa confiança de que B será comprado, dado que A foi comprado.\n",
    "\n",
    "![title](imagens/lift.png)"
   ]
  },
  {
   "cell_type": "code",
   "execution_count": null,
   "metadata": {
    "id": "Ck9rRfcc8Kw6"
   },
   "outputs": [],
   "source": [
    "# Prepara a tupla com as transações\n",
    "transactions_tup = [tuple(row) for row in transactions['Products'].tolist()]"
   ]
  },
  {
   "cell_type": "markdown",
   "metadata": {
    "id": "HY1Kftp18Kw6"
   },
   "source": [
    "### Executa o Algoritmo Apriori Com Support = 0.01 e Confidence = 0.2"
   ]
  },
  {
   "cell_type": "code",
   "execution_count": null,
   "metadata": {
    "id": "QPld36368Kw6",
    "outputId": "016e2c36-734a-4cd9-f94d-ed8270335a16"
   },
   "outputs": [],
   "source": [
    "st = datetime.now()\n",
    "itemsets_ap, rules_ap = apriori(transactions_tup[:500000], min_support = 0.01, min_confidence = 0.2)\n",
    "print('Tempo de Execução : ', datetime.now() - st)"
   ]
  },
  {
   "cell_type": "code",
   "execution_count": null,
   "metadata": {
    "id": "iAJ7tVz38Kw6",
    "outputId": "9f4d3d9e-d9ea-47b8-eab4-36404a4755c1"
   },
   "outputs": [],
   "source": [
    "rules_ap"
   ]
  },
  {
   "cell_type": "code",
   "execution_count": null,
   "metadata": {
    "id": "dHu4BZdd8Kw6"
   },
   "outputs": [],
   "source": [
    "# Listas de itens para considerar\n",
    "item_A = [27966,47209,21137,47766,21903,49683,47626,28204,16797,21903,21137,27966]\n",
    "item_B = [13176,13176,24852,24852,24852,24852,24852,24852,24852,13176,13176,21137]\n",
    "temp = pd.DataFrame()\n",
    "temp['itemA'] = item_A\n",
    "temp['itemB'] = item_B"
   ]
  },
  {
   "cell_type": "code",
   "execution_count": null,
   "metadata": {},
   "outputs": [],
   "source": [
    "# Listas para as métricas\n",
    "support_A = []\n",
    "support_B = []\n",
    "support_AB = []\n",
    "confidence_AB = []\n",
    "lift_AB = []"
   ]
  },
  {
   "cell_type": "code",
   "execution_count": null,
   "metadata": {
    "id": "A8xRXLp18Kw6"
   },
   "outputs": [],
   "source": [
    "# Loop\n",
    "for i in range(len(temp)):\n",
    "    \n",
    "    # Calcula o support de A\n",
    "    support_A.append(itemsets_ap[1][tuple([temp['itemA'][i],])] / 500000)\n",
    "    \n",
    "    # Calcula o support de B\n",
    "    support_B.append(itemsets_ap[1][tuple([temp['itemB'][i],])] / 500000)\n",
    "    \n",
    "    # Calcula o support de A e B\n",
    "    if tuple([temp['itemA'][i],temp['itemB'][i]]) in itemsets_ap[2].keys():\n",
    "        support_AB.append(itemsets_ap[2][tuple([temp['itemA'][i],temp['itemB'][i]])] / 500000)\n",
    "    else:\n",
    "        support_AB.append(itemsets_ap[2][tuple([temp['itemB'][i],temp['itemA'][i]])] / 500000)\n",
    "    \n",
    "    # Calcula a confidence\n",
    "    confidence_AB.append(support_AB[i] / support_A[i])\n",
    "    \n",
    "    # Calcula o lift\n",
    "    lift_AB.append(support_AB[i] / (support_A[i] * support_B[i]))"
   ]
  },
  {
   "cell_type": "code",
   "execution_count": null,
   "metadata": {
    "id": "CyiFSU6W8Kw7"
   },
   "outputs": [],
   "source": [
    "# Dataframe com as regras de associação\n",
    "df_rules_ap = pd.DataFrame()\n",
    "df_rules_ap['product_id'] = item_A\n",
    "df_rules_ap = df_rules_ap.merge(product, on = 'product_id', how = 'left')\n",
    "df_rules_ap['Product_A'] = df_rules_ap['product_name']\n",
    "df_rules_ap = df_rules_ap.drop(columns = ['product_id','product_name','aisle_id','department_id'], axis = 1)\n",
    "df_rules_ap['product_id'] = item_B\n",
    "df_rules_ap = df_rules_ap.merge(product, on = 'product_id', how = 'left')\n",
    "df_rules_ap['Product_B'] = df_rules_ap['product_name']\n",
    "df_rules_ap = df_rules_ap.drop(columns = ['product_id','product_name','aisle_id','department_id'], axis = 1)\n",
    "\n",
    "df_rules_ap['Support_A'] = support_A\n",
    "df_rules_ap['Support_B'] = support_B\n",
    "df_rules_ap['Support_AB'] = support_AB\n",
    "df_rules_ap['Confidence_AB'] = confidence_AB\n",
    "df_rules_ap['Lift_AB'] = lift_AB"
   ]
  },
  {
   "cell_type": "code",
   "execution_count": null,
   "metadata": {
    "id": "TlwA4R028Kw7",
    "outputId": "dbbc09b7-2851-4fb1-a3df-0790cdd5701d",
    "scrolled": true
   },
   "outputs": [],
   "source": [
    "df_rules_ap.sort_values(by = 'Confidence_AB', ascending = False)"
   ]
  },
  {
   "cell_type": "code",
   "execution_count": null,
   "metadata": {
    "id": "Es32kwj58Kw7",
    "outputId": "c206fc2d-5644-40c5-9322-14be3b327e59"
   },
   "outputs": [],
   "source": [
    "df_rules_ap.sort_values(by = 'Lift_AB', ascending = False)"
   ]
  },
  {
   "cell_type": "markdown",
   "metadata": {
    "id": "HvWTaY8F8Kw7"
   },
   "source": [
    "### Executa o Algoritmo Apriori Com Support = 0.005 e Confidence = 0.2"
   ]
  },
  {
   "cell_type": "code",
   "execution_count": null,
   "metadata": {
    "id": "rB5MHDKH8Kw7",
    "outputId": "bccee306-72e8-4bb9-b1f9-c717cd4d128d"
   },
   "outputs": [],
   "source": [
    "st = datetime.now()\n",
    "itemsets_ap_1, rules_ap_1 = apriori(transactions_tup[:500000], min_support = 0.005, min_confidence = 0.2)\n",
    "print('Tempo de Execução: ', datetime.now() - st)"
   ]
  },
  {
   "cell_type": "code",
   "execution_count": null,
   "metadata": {
    "id": "LAJ5MPgK8Kw7",
    "outputId": "d57e5668-3c7e-4af0-8742-3112a7ab7a3a"
   },
   "outputs": [],
   "source": [
    "rules_ap_1"
   ]
  },
  {
   "cell_type": "code",
   "execution_count": null,
   "metadata": {
    "id": "dMHkTsE-8Kw7"
   },
   "outputs": [],
   "source": [
    "# Lista de itens para considerar\n",
    "item_A1 = [27966,47209,4605,21137,47766,21903,49683,5876,37646,40706,47626,5876,30391,22935,37646,31717,\n",
    "           28204,27845,24964,45066,9076,16797,21903,8277,30391,21137,27966,19057,26209,45007,39275,30489,\n",
    "           42265,30391,8277,4920,39275,44632]\n",
    "item_B1 = [13176,13176,24852,24852,24852,24852,24852,47209,24852,24852,24852,13176,13176,13176,13176,26209,\n",
    "           24852,24852,22935,24852,24852,24852,13176,24852,47209,13176,21137,13176,24852,13176,21137,24852,\n",
    "           24852,21137,13176,24852,13176,24852]\n",
    "temp1 = pd.DataFrame()\n",
    "temp1['itemA'] = item_A1\n",
    "temp1['itemB'] = item_B1"
   ]
  },
  {
   "cell_type": "code",
   "execution_count": null,
   "metadata": {},
   "outputs": [],
   "source": [
    "# Listas de métricas\n",
    "support_A1 = []\n",
    "support_B1 = []\n",
    "support_AB1 = []\n",
    "confidence_AB1 = []\n",
    "lift_AB1 = []"
   ]
  },
  {
   "cell_type": "code",
   "execution_count": null,
   "metadata": {
    "id": "jntXrWc_8Kw8"
   },
   "outputs": [],
   "source": [
    "# Loop\n",
    "for i in range(len(temp1)):\n",
    "    \n",
    "    support_A1.append(itemsets_ap_1[1][tuple([temp1['itemA'][i],])] / 500000)\n",
    "    \n",
    "    support_B1.append(itemsets_ap_1[1][tuple([temp1['itemB'][i],])] / 500000)\n",
    "    \n",
    "    if tuple([temp1['itemA'][i],temp1['itemB'][i]]) in itemsets_ap_1[2].keys():\n",
    "        support_AB1.append(itemsets_ap_1[2][tuple([temp1['itemA'][i],temp1['itemB'][i]])] / 500000)\n",
    "    else:\n",
    "        support_AB1.append(itemsets_ap_1[2][tuple([temp1['itemB'][i],temp1['itemA'][i]])] / 500000)\n",
    "    \n",
    "    confidence_AB1.append(support_AB1[i] / support_A1[i])\n",
    "    \n",
    "    lift_AB1.append(support_AB1[i] / (support_A1[i] * support_B1[i]))"
   ]
  },
  {
   "cell_type": "code",
   "execution_count": null,
   "metadata": {
    "id": "ZNddO7_78Kw8"
   },
   "outputs": [],
   "source": [
    "# Dataframe com as regras de associação\n",
    "df_rules_ap1 = pd.DataFrame()\n",
    "df_rules_ap1['product_id'] = item_A1\n",
    "df_rules_ap1 = df_rules_ap1.merge(product, on = 'product_id', how = 'left')\n",
    "df_rules_ap1['Product_A'] = df_rules_ap1['product_name']\n",
    "df_rules_ap1 = df_rules_ap1.drop(columns = ['product_id','product_name','aisle_id','department_id'], axis = 1)\n",
    "df_rules_ap1['product_id'] = item_B1\n",
    "df_rules_ap1 = df_rules_ap1.merge(product, on = 'product_id', how = 'left')\n",
    "df_rules_ap1['Product_B'] = df_rules_ap1['product_name']\n",
    "df_rules_ap1 = df_rules_ap1.drop(columns = ['product_id','product_name','aisle_id','department_id'], axis = 1)\n",
    "df_rules_ap1['Support_A'] = support_A1\n",
    "df_rules_ap1['Support_B'] = support_B1\n",
    "df_rules_ap1['Support_AB'] = support_AB1\n",
    "df_rules_ap1['Confidence_AB'] = confidence_AB1\n",
    "df_rules_ap1['Lift_AB'] = lift_AB1"
   ]
  },
  {
   "cell_type": "code",
   "execution_count": null,
   "metadata": {
    "id": "IFZWz9k78Kw8",
    "outputId": "adf8b394-2c9e-48ff-dcef-d8f04328c80c"
   },
   "outputs": [],
   "source": [
    "df_rules_ap1.sort_values(by = 'Confidence_AB', ascending = False).head(10)"
   ]
  },
  {
   "cell_type": "code",
   "execution_count": null,
   "metadata": {
    "id": "4ycRyseN8Kw8",
    "outputId": "3816b880-5c30-43b2-a7f3-2b797030851e"
   },
   "outputs": [],
   "source": [
    "df_rules_ap1.sort_values(by = 'Lift_AB', ascending = False).head(10)"
   ]
  },
  {
   "cell_type": "markdown",
   "metadata": {},
   "source": [
    "## Conclusão\n",
    "\n",
    "Aplicando Matemática e Estatística via programação executamos uma análise de MBA gerando como resultado as regras de associação entre os produtos com diferentes métricas. Podemos agora levar nossas conclusões aos tomadores de decisão e partir para o próximo projeto."
   ]
  }
 ],
 "metadata": {
  "colab": {
   "collapsed_sections": [
    "LLQGe8qIcf3s"
   ],
   "name": "Copy of ML_Project.ipynb",
   "provenance": [
    {
     "file_id": "1GIKEtfM-U_W3jLzt-S-qTAEleUzQihDb",
     "timestamp": 1619733841555
    }
   ]
  },
  "kernelspec": {
   "display_name": "Python 3 (ipykernel)",
   "language": "python",
   "name": "python3"
  },
  "language_info": {
   "codemirror_mode": {
    "name": "ipython",
    "version": 3
   },
   "file_extension": ".py",
   "mimetype": "text/x-python",
   "name": "python",
   "nbconvert_exporter": "python",
   "pygments_lexer": "ipython3",
   "version": "3.13.5"
  }
 },
 "nbformat": 4,
 "nbformat_minor": 4
}
