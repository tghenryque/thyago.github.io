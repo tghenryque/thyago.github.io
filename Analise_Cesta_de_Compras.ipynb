{
 "cells": [
  {
   "cell_type": "markdown",
   "metadata": {},
   "source": [
    "# O Que é MBA (Market Basket Analysis)?\n",
    "\n",
    "A Análise de Cesta de Compras (Market Basket Analysis) é uma das principais técnicas usadas por grandes varejistas para descobrir associações entre itens. A técnica funciona procurando combinações de itens que ocorrem juntos com frequência nas transações. Em outras palavras, permite que os varejistas identifiquem as relações entre os itens que as pessoas compram.\n",
    "\n",
    "A Análise de Cesta de Compras emprega algoritmos de regras de associação, que são amplamente utilizadas para analisar cesta de varejo ou dados de transação e têm o objetivo de identificar regras fortes descobertas em dados de transações comerciais usando medidas de interesse, com base no conceito de regras fortes."
   ]
  },
  {
   "cell_type": "markdown",
   "metadata": {},
   "source": [
    "## Instalando e Carregando os Pacotes"
   ]
  },
  {
   "cell_type": "code",
   "execution_count": 1,
   "metadata": {},
   "outputs": [],
   "source": [
    "# https://pypi.org/project/efficient-apriori/\n",
    "!pip install -q efficient_apriori"
   ]
  },
  {
   "cell_type": "code",
   "execution_count": 2,
   "metadata": {
    "id": "moEakKJBKmJg"
   },
   "outputs": [],
   "source": [
    "# Imports\n",
    "import numpy as np\n",
    "import pandas as pd\n",
    "import matplotlib.pyplot as plt\n",
    "from datetime import datetime\n",
    "from itertools import combinations\n",
    "import efficient_apriori\n",
    "from efficient_apriori import apriori"
   ]
  },
  {
   "cell_type": "markdown",
   "metadata": {
    "id": "wwAUjMuu42MJ"
   },
   "source": [
    "## Carregando os Dados"
   ]
  },
  {
   "cell_type": "code",
   "execution_count": 3,
   "metadata": {
    "id": "-zHvUbETMK0K"
   },
   "outputs": [],
   "source": [
    "# Carrega os dados\n",
    "aisle = pd.read_csv('dados/aisles.csv')\n",
    "department = pd.read_csv('dados/departments.csv')\n",
    "order = pd.read_csv('dados/orders.csv')\n",
    "product = pd.read_csv('dados/products.csv')\n",
    "order_product_prior = pd.read_csv('dados/order_products__prior.csv')\n",
    "order_product_train = pd.read_csv('dados/order_products__train.csv')"
   ]
  },
  {
   "cell_type": "markdown",
   "metadata": {
    "id": "-Krhy2g4_XCo"
   },
   "source": [
    "## Análise Exploratória"
   ]
  },
  {
   "cell_type": "code",
   "execution_count": 4,
   "metadata": {},
   "outputs": [
    {
     "data": {
      "text/plain": [
       "(134, 2)"
      ]
     },
     "execution_count": 4,
     "metadata": {},
     "output_type": "execute_result"
    }
   ],
   "source": [
    "aisle.shape"
   ]
  },
  {
   "cell_type": "code",
   "execution_count": 5,
   "metadata": {
    "colab": {
     "base_uri": "https://localhost:8080/"
    },
    "id": "rahShd_bOtvb",
    "outputId": "951cd5f7-bf6c-401a-ca55-9a4da3718385"
   },
   "outputs": [
    {
     "data": {
      "text/html": [
       "<div>\n",
       "<style scoped>\n",
       "    .dataframe tbody tr th:only-of-type {\n",
       "        vertical-align: middle;\n",
       "    }\n",
       "\n",
       "    .dataframe tbody tr th {\n",
       "        vertical-align: top;\n",
       "    }\n",
       "\n",
       "    .dataframe thead th {\n",
       "        text-align: right;\n",
       "    }\n",
       "</style>\n",
       "<table border=\"1\" class=\"dataframe\">\n",
       "  <thead>\n",
       "    <tr style=\"text-align: right;\">\n",
       "      <th></th>\n",
       "      <th>aisle_id</th>\n",
       "      <th>aisle</th>\n",
       "    </tr>\n",
       "  </thead>\n",
       "  <tbody>\n",
       "    <tr>\n",
       "      <th>0</th>\n",
       "      <td>1</td>\n",
       "      <td>prepared soups salads</td>\n",
       "    </tr>\n",
       "    <tr>\n",
       "      <th>1</th>\n",
       "      <td>2</td>\n",
       "      <td>specialty cheeses</td>\n",
       "    </tr>\n",
       "    <tr>\n",
       "      <th>2</th>\n",
       "      <td>3</td>\n",
       "      <td>energy granola bars</td>\n",
       "    </tr>\n",
       "    <tr>\n",
       "      <th>3</th>\n",
       "      <td>4</td>\n",
       "      <td>instant foods</td>\n",
       "    </tr>\n",
       "    <tr>\n",
       "      <th>4</th>\n",
       "      <td>5</td>\n",
       "      <td>marinades meat preparation</td>\n",
       "    </tr>\n",
       "  </tbody>\n",
       "</table>\n",
       "</div>"
      ],
      "text/plain": [
       "   aisle_id                       aisle\n",
       "0         1       prepared soups salads\n",
       "1         2           specialty cheeses\n",
       "2         3         energy granola bars\n",
       "3         4               instant foods\n",
       "4         5  marinades meat preparation"
      ]
     },
     "execution_count": 5,
     "metadata": {},
     "output_type": "execute_result"
    }
   ],
   "source": [
    "aisle.head()"
   ]
  },
  {
   "cell_type": "code",
   "execution_count": 6,
   "metadata": {},
   "outputs": [
    {
     "data": {
      "text/plain": [
       "(21, 2)"
      ]
     },
     "execution_count": 6,
     "metadata": {},
     "output_type": "execute_result"
    }
   ],
   "source": [
    "department.shape"
   ]
  },
  {
   "cell_type": "code",
   "execution_count": 7,
   "metadata": {
    "colab": {
     "base_uri": "https://localhost:8080/"
    },
    "id": "o5VAuY4iPaLS",
    "outputId": "4e6cb22f-e3a6-4ef1-d917-d5707ca64380"
   },
   "outputs": [
    {
     "data": {
      "text/html": [
       "<div>\n",
       "<style scoped>\n",
       "    .dataframe tbody tr th:only-of-type {\n",
       "        vertical-align: middle;\n",
       "    }\n",
       "\n",
       "    .dataframe tbody tr th {\n",
       "        vertical-align: top;\n",
       "    }\n",
       "\n",
       "    .dataframe thead th {\n",
       "        text-align: right;\n",
       "    }\n",
       "</style>\n",
       "<table border=\"1\" class=\"dataframe\">\n",
       "  <thead>\n",
       "    <tr style=\"text-align: right;\">\n",
       "      <th></th>\n",
       "      <th>department_id</th>\n",
       "      <th>department</th>\n",
       "    </tr>\n",
       "  </thead>\n",
       "  <tbody>\n",
       "    <tr>\n",
       "      <th>0</th>\n",
       "      <td>1</td>\n",
       "      <td>frozen</td>\n",
       "    </tr>\n",
       "    <tr>\n",
       "      <th>1</th>\n",
       "      <td>2</td>\n",
       "      <td>other</td>\n",
       "    </tr>\n",
       "    <tr>\n",
       "      <th>2</th>\n",
       "      <td>3</td>\n",
       "      <td>bakery</td>\n",
       "    </tr>\n",
       "    <tr>\n",
       "      <th>3</th>\n",
       "      <td>4</td>\n",
       "      <td>produce</td>\n",
       "    </tr>\n",
       "    <tr>\n",
       "      <th>4</th>\n",
       "      <td>5</td>\n",
       "      <td>alcohol</td>\n",
       "    </tr>\n",
       "  </tbody>\n",
       "</table>\n",
       "</div>"
      ],
      "text/plain": [
       "   department_id department\n",
       "0              1     frozen\n",
       "1              2      other\n",
       "2              3     bakery\n",
       "3              4    produce\n",
       "4              5    alcohol"
      ]
     },
     "execution_count": 7,
     "metadata": {},
     "output_type": "execute_result"
    }
   ],
   "source": [
    "department.head()"
   ]
  },
  {
   "cell_type": "code",
   "execution_count": 8,
   "metadata": {},
   "outputs": [
    {
     "data": {
      "text/plain": [
       "(49688, 4)"
      ]
     },
     "execution_count": 8,
     "metadata": {},
     "output_type": "execute_result"
    }
   ],
   "source": [
    "product.shape"
   ]
  },
  {
   "cell_type": "code",
   "execution_count": 9,
   "metadata": {
    "colab": {
     "base_uri": "https://localhost:8080/"
    },
    "id": "EvdDMt3xOlEs",
    "outputId": "aeec6308-694b-473c-ab2c-fdf791680246"
   },
   "outputs": [
    {
     "data": {
      "text/html": [
       "<div>\n",
       "<style scoped>\n",
       "    .dataframe tbody tr th:only-of-type {\n",
       "        vertical-align: middle;\n",
       "    }\n",
       "\n",
       "    .dataframe tbody tr th {\n",
       "        vertical-align: top;\n",
       "    }\n",
       "\n",
       "    .dataframe thead th {\n",
       "        text-align: right;\n",
       "    }\n",
       "</style>\n",
       "<table border=\"1\" class=\"dataframe\">\n",
       "  <thead>\n",
       "    <tr style=\"text-align: right;\">\n",
       "      <th></th>\n",
       "      <th>product_id</th>\n",
       "      <th>product_name</th>\n",
       "      <th>aisle_id</th>\n",
       "      <th>department_id</th>\n",
       "    </tr>\n",
       "  </thead>\n",
       "  <tbody>\n",
       "    <tr>\n",
       "      <th>0</th>\n",
       "      <td>1</td>\n",
       "      <td>Chocolate Sandwich Cookies</td>\n",
       "      <td>61</td>\n",
       "      <td>19</td>\n",
       "    </tr>\n",
       "    <tr>\n",
       "      <th>1</th>\n",
       "      <td>2</td>\n",
       "      <td>All-Seasons Salt</td>\n",
       "      <td>104</td>\n",
       "      <td>13</td>\n",
       "    </tr>\n",
       "    <tr>\n",
       "      <th>2</th>\n",
       "      <td>3</td>\n",
       "      <td>Robust Golden Unsweetened Oolong Tea</td>\n",
       "      <td>94</td>\n",
       "      <td>7</td>\n",
       "    </tr>\n",
       "    <tr>\n",
       "      <th>3</th>\n",
       "      <td>4</td>\n",
       "      <td>Smart Ones Classic Favorites Mini Rigatoni Wit...</td>\n",
       "      <td>38</td>\n",
       "      <td>1</td>\n",
       "    </tr>\n",
       "    <tr>\n",
       "      <th>4</th>\n",
       "      <td>5</td>\n",
       "      <td>Green Chile Anytime Sauce</td>\n",
       "      <td>5</td>\n",
       "      <td>13</td>\n",
       "    </tr>\n",
       "  </tbody>\n",
       "</table>\n",
       "</div>"
      ],
      "text/plain": [
       "   product_id                                       product_name  aisle_id  \\\n",
       "0           1                         Chocolate Sandwich Cookies        61   \n",
       "1           2                                   All-Seasons Salt       104   \n",
       "2           3               Robust Golden Unsweetened Oolong Tea        94   \n",
       "3           4  Smart Ones Classic Favorites Mini Rigatoni Wit...        38   \n",
       "4           5                          Green Chile Anytime Sauce         5   \n",
       "\n",
       "   department_id  \n",
       "0             19  \n",
       "1             13  \n",
       "2              7  \n",
       "3              1  \n",
       "4             13  "
      ]
     },
     "execution_count": 9,
     "metadata": {},
     "output_type": "execute_result"
    }
   ],
   "source": [
    "product.head()"
   ]
  },
  {
   "cell_type": "code",
   "execution_count": 10,
   "metadata": {},
   "outputs": [
    {
     "data": {
      "text/plain": [
       "(3421083, 7)"
      ]
     },
     "execution_count": 10,
     "metadata": {},
     "output_type": "execute_result"
    }
   ],
   "source": [
    "order.shape"
   ]
  },
  {
   "cell_type": "code",
   "execution_count": 11,
   "metadata": {
    "colab": {
     "base_uri": "https://localhost:8080/"
    },
    "id": "GWunGD687Wy-",
    "outputId": "8c759905-39d4-4a87-b4fb-ef1d1e8f46de"
   },
   "outputs": [
    {
     "data": {
      "text/html": [
       "<div>\n",
       "<style scoped>\n",
       "    .dataframe tbody tr th:only-of-type {\n",
       "        vertical-align: middle;\n",
       "    }\n",
       "\n",
       "    .dataframe tbody tr th {\n",
       "        vertical-align: top;\n",
       "    }\n",
       "\n",
       "    .dataframe thead th {\n",
       "        text-align: right;\n",
       "    }\n",
       "</style>\n",
       "<table border=\"1\" class=\"dataframe\">\n",
       "  <thead>\n",
       "    <tr style=\"text-align: right;\">\n",
       "      <th></th>\n",
       "      <th>order_id</th>\n",
       "      <th>user_id</th>\n",
       "      <th>eval_set</th>\n",
       "      <th>order_number</th>\n",
       "      <th>order_dow</th>\n",
       "      <th>order_hour_of_day</th>\n",
       "      <th>days_since_prior_order</th>\n",
       "    </tr>\n",
       "  </thead>\n",
       "  <tbody>\n",
       "    <tr>\n",
       "      <th>0</th>\n",
       "      <td>2539329</td>\n",
       "      <td>1</td>\n",
       "      <td>prior</td>\n",
       "      <td>1</td>\n",
       "      <td>2</td>\n",
       "      <td>8</td>\n",
       "      <td>NaN</td>\n",
       "    </tr>\n",
       "    <tr>\n",
       "      <th>1</th>\n",
       "      <td>2398795</td>\n",
       "      <td>1</td>\n",
       "      <td>prior</td>\n",
       "      <td>2</td>\n",
       "      <td>3</td>\n",
       "      <td>7</td>\n",
       "      <td>15.0</td>\n",
       "    </tr>\n",
       "    <tr>\n",
       "      <th>2</th>\n",
       "      <td>473747</td>\n",
       "      <td>1</td>\n",
       "      <td>prior</td>\n",
       "      <td>3</td>\n",
       "      <td>3</td>\n",
       "      <td>12</td>\n",
       "      <td>21.0</td>\n",
       "    </tr>\n",
       "    <tr>\n",
       "      <th>3</th>\n",
       "      <td>2254736</td>\n",
       "      <td>1</td>\n",
       "      <td>prior</td>\n",
       "      <td>4</td>\n",
       "      <td>4</td>\n",
       "      <td>7</td>\n",
       "      <td>29.0</td>\n",
       "    </tr>\n",
       "    <tr>\n",
       "      <th>4</th>\n",
       "      <td>431534</td>\n",
       "      <td>1</td>\n",
       "      <td>prior</td>\n",
       "      <td>5</td>\n",
       "      <td>4</td>\n",
       "      <td>15</td>\n",
       "      <td>28.0</td>\n",
       "    </tr>\n",
       "  </tbody>\n",
       "</table>\n",
       "</div>"
      ],
      "text/plain": [
       "   order_id  user_id eval_set  order_number  order_dow  order_hour_of_day  \\\n",
       "0   2539329        1    prior             1          2                  8   \n",
       "1   2398795        1    prior             2          3                  7   \n",
       "2    473747        1    prior             3          3                 12   \n",
       "3   2254736        1    prior             4          4                  7   \n",
       "4    431534        1    prior             5          4                 15   \n",
       "\n",
       "   days_since_prior_order  \n",
       "0                     NaN  \n",
       "1                    15.0  \n",
       "2                    21.0  \n",
       "3                    29.0  \n",
       "4                    28.0  "
      ]
     },
     "execution_count": 11,
     "metadata": {},
     "output_type": "execute_result"
    }
   ],
   "source": [
    "order.head()"
   ]
  },
  {
   "cell_type": "code",
   "execution_count": 12,
   "metadata": {},
   "outputs": [
    {
     "data": {
      "text/plain": [
       "(32434489, 4)"
      ]
     },
     "execution_count": 12,
     "metadata": {},
     "output_type": "execute_result"
    }
   ],
   "source": [
    "order_product_prior.shape"
   ]
  },
  {
   "cell_type": "code",
   "execution_count": 13,
   "metadata": {
    "colab": {
     "base_uri": "https://localhost:8080/"
    },
    "id": "YqeQ3b667ZfS",
    "outputId": "cb151659-03eb-48df-d895-c3179ca7932a"
   },
   "outputs": [
    {
     "data": {
      "text/html": [
       "<div>\n",
       "<style scoped>\n",
       "    .dataframe tbody tr th:only-of-type {\n",
       "        vertical-align: middle;\n",
       "    }\n",
       "\n",
       "    .dataframe tbody tr th {\n",
       "        vertical-align: top;\n",
       "    }\n",
       "\n",
       "    .dataframe thead th {\n",
       "        text-align: right;\n",
       "    }\n",
       "</style>\n",
       "<table border=\"1\" class=\"dataframe\">\n",
       "  <thead>\n",
       "    <tr style=\"text-align: right;\">\n",
       "      <th></th>\n",
       "      <th>order_id</th>\n",
       "      <th>product_id</th>\n",
       "      <th>add_to_cart_order</th>\n",
       "      <th>reordered</th>\n",
       "    </tr>\n",
       "  </thead>\n",
       "  <tbody>\n",
       "    <tr>\n",
       "      <th>0</th>\n",
       "      <td>2</td>\n",
       "      <td>33120</td>\n",
       "      <td>1</td>\n",
       "      <td>1</td>\n",
       "    </tr>\n",
       "    <tr>\n",
       "      <th>1</th>\n",
       "      <td>2</td>\n",
       "      <td>28985</td>\n",
       "      <td>2</td>\n",
       "      <td>1</td>\n",
       "    </tr>\n",
       "    <tr>\n",
       "      <th>2</th>\n",
       "      <td>2</td>\n",
       "      <td>9327</td>\n",
       "      <td>3</td>\n",
       "      <td>0</td>\n",
       "    </tr>\n",
       "    <tr>\n",
       "      <th>3</th>\n",
       "      <td>2</td>\n",
       "      <td>45918</td>\n",
       "      <td>4</td>\n",
       "      <td>1</td>\n",
       "    </tr>\n",
       "    <tr>\n",
       "      <th>4</th>\n",
       "      <td>2</td>\n",
       "      <td>30035</td>\n",
       "      <td>5</td>\n",
       "      <td>0</td>\n",
       "    </tr>\n",
       "  </tbody>\n",
       "</table>\n",
       "</div>"
      ],
      "text/plain": [
       "   order_id  product_id  add_to_cart_order  reordered\n",
       "0         2       33120                  1          1\n",
       "1         2       28985                  2          1\n",
       "2         2        9327                  3          0\n",
       "3         2       45918                  4          1\n",
       "4         2       30035                  5          0"
      ]
     },
     "execution_count": 13,
     "metadata": {},
     "output_type": "execute_result"
    }
   ],
   "source": [
    "order_product_prior.head()"
   ]
  },
  {
   "cell_type": "markdown",
   "metadata": {
    "id": "nqaCbjm0nRYb"
   },
   "source": [
    "Por que não usar programação e verificar o total de registros em todos os datasets de uma vez?"
   ]
  },
  {
   "cell_type": "code",
   "execution_count": 14,
   "metadata": {
    "colab": {
     "base_uri": "https://localhost:8080/"
    },
    "id": "lc3DJxGs_bZI",
    "outputId": "7f32e7d5-a2dd-4592-8101-127bfbab1256"
   },
   "outputs": [
    {
     "data": {
      "text/html": [
       "<div>\n",
       "<style scoped>\n",
       "    .dataframe tbody tr th:only-of-type {\n",
       "        vertical-align: middle;\n",
       "    }\n",
       "\n",
       "    .dataframe tbody tr th {\n",
       "        vertical-align: top;\n",
       "    }\n",
       "\n",
       "    .dataframe thead th {\n",
       "        text-align: right;\n",
       "    }\n",
       "</style>\n",
       "<table border=\"1\" class=\"dataframe\">\n",
       "  <thead>\n",
       "    <tr style=\"text-align: right;\">\n",
       "      <th></th>\n",
       "      <th>Arquivo</th>\n",
       "      <th>Total de Registros</th>\n",
       "    </tr>\n",
       "  </thead>\n",
       "  <tbody>\n",
       "    <tr>\n",
       "      <th>0</th>\n",
       "      <td>Aisles</td>\n",
       "      <td>134</td>\n",
       "    </tr>\n",
       "    <tr>\n",
       "      <th>1</th>\n",
       "      <td>Department</td>\n",
       "      <td>21</td>\n",
       "    </tr>\n",
       "    <tr>\n",
       "      <th>2</th>\n",
       "      <td>Product</td>\n",
       "      <td>49688</td>\n",
       "    </tr>\n",
       "    <tr>\n",
       "      <th>3</th>\n",
       "      <td>Order</td>\n",
       "      <td>3421083</td>\n",
       "    </tr>\n",
       "    <tr>\n",
       "      <th>4</th>\n",
       "      <td>Order_Product_Prior</td>\n",
       "      <td>32434489</td>\n",
       "    </tr>\n",
       "    <tr>\n",
       "      <th>5</th>\n",
       "      <td>Order_Product_Train</td>\n",
       "      <td>1384617</td>\n",
       "    </tr>\n",
       "  </tbody>\n",
       "</table>\n",
       "</div>"
      ],
      "text/plain": [
       "               Arquivo Total de Registros\n",
       "0               Aisles                134\n",
       "1           Department                 21\n",
       "2              Product              49688\n",
       "3                Order            3421083\n",
       "4  Order_Product_Prior           32434489\n",
       "5  Order_Product_Train            1384617"
      ]
     },
     "execution_count": 14,
     "metadata": {},
     "output_type": "execute_result"
    }
   ],
   "source": [
    "# Total de registros por dataset\n",
    "count_array = np.array([['Aisles', len(aisle)],\n",
    "                        ['Department', len(department)],\n",
    "                        ['Product', len(product)],\n",
    "                        ['Order', len(order)],\n",
    "                        ['Order_Product_Prior', len(order_product_prior)],\n",
    "                        ['Order_Product_Train', len(order_product_train)]])\n",
    "count_record = pd.DataFrame(count_array, columns = ['Arquivo', 'Total de Registros'])\n",
    "count_record"
   ]
  },
  {
   "cell_type": "code",
   "execution_count": 16,
   "metadata": {
    "colab": {
     "base_uri": "https://localhost:8080/"
    },
    "id": "syO-ryWqncOG",
    "outputId": "72330ccc-98d2-4d03-e1eb-eb7c47a4ad1c"
   },
   "outputs": [
    {
     "data": {
      "text/plain": [
       "eval_set\n",
       "prior    3214874\n",
       "train     131209\n",
       "test       75000\n",
       "Name: count, dtype: int64"
      ]
     },
     "execution_count": 16,
     "metadata": {},
     "output_type": "execute_result"
    }
   ],
   "source": [
    "# Total de itens nas categorias de eval_set\n",
    "order['eval_set'].value_counts()"
   ]
  },
  {
   "cell_type": "markdown",
   "metadata": {
    "id": "1fF1ortu8ASN"
   },
   "source": [
    "## Limpeza dos Dados"
   ]
  },
  {
   "cell_type": "markdown",
   "metadata": {
    "id": "FfnMMJ8Q8D0v"
   },
   "source": [
    "### Verificando Valores Ausentes"
   ]
  },
  {
   "cell_type": "code",
   "execution_count": 17,
   "metadata": {
    "colab": {
     "base_uri": "https://localhost:8080/"
    },
    "id": "S1G16z0-7_RR",
    "outputId": "c0c8ec1f-a290-41a1-c046-fa81697a1ae2"
   },
   "outputs": [
    {
     "data": {
      "text/plain": [
       "aisle_id    0\n",
       "aisle       0\n",
       "dtype: int64"
      ]
     },
     "execution_count": 17,
     "metadata": {},
     "output_type": "execute_result"
    }
   ],
   "source": [
    "aisle.isna().sum()"
   ]
  },
  {
   "cell_type": "code",
   "execution_count": 18,
   "metadata": {
    "colab": {
     "base_uri": "https://localhost:8080/"
    },
    "id": "wVvcS1a_8Rio",
    "outputId": "a04b932a-610f-4272-abc2-105514897be5"
   },
   "outputs": [
    {
     "data": {
      "text/plain": [
       "department_id    0\n",
       "department       0\n",
       "dtype: int64"
      ]
     },
     "execution_count": 18,
     "metadata": {},
     "output_type": "execute_result"
    }
   ],
   "source": [
    "department.isna().sum()"
   ]
  },
  {
   "cell_type": "code",
   "execution_count": 19,
   "metadata": {
    "colab": {
     "base_uri": "https://localhost:8080/"
    },
    "id": "UpOvdrXO8VOg",
    "outputId": "eb6bd2e0-8948-4734-94b8-edbf3c9f5a2f"
   },
   "outputs": [
    {
     "data": {
      "text/plain": [
       "order_id                       0\n",
       "user_id                        0\n",
       "eval_set                       0\n",
       "order_number                   0\n",
       "order_dow                      0\n",
       "order_hour_of_day              0\n",
       "days_since_prior_order    206209\n",
       "dtype: int64"
      ]
     },
     "execution_count": 19,
     "metadata": {},
     "output_type": "execute_result"
    }
   ],
   "source": [
    "order.isna().sum()"
   ]
  },
  {
   "cell_type": "code",
   "execution_count": 20,
   "metadata": {
    "colab": {
     "base_uri": "https://localhost:8080/"
    },
    "id": "lYsuq1tl9HYQ",
    "outputId": "0e3f4f92-8c39-44e3-ee46-de64f3806508"
   },
   "outputs": [
    {
     "data": {
      "text/plain": [
       "product_id       0\n",
       "product_name     0\n",
       "aisle_id         0\n",
       "department_id    0\n",
       "dtype: int64"
      ]
     },
     "execution_count": 20,
     "metadata": {},
     "output_type": "execute_result"
    }
   ],
   "source": [
    "product.isna().sum()"
   ]
  },
  {
   "cell_type": "code",
   "execution_count": 21,
   "metadata": {
    "colab": {
     "base_uri": "https://localhost:8080/"
    },
    "id": "HPYw3qOp9JER",
    "outputId": "7b661c57-7a2f-40fa-f73c-c3bfb0ec2ce1"
   },
   "outputs": [
    {
     "data": {
      "text/plain": [
       "order_id             0\n",
       "product_id           0\n",
       "add_to_cart_order    0\n",
       "reordered            0\n",
       "dtype: int64"
      ]
     },
     "execution_count": 21,
     "metadata": {},
     "output_type": "execute_result"
    }
   ],
   "source": [
    "order_product_prior.isna().sum()"
   ]
  },
  {
   "cell_type": "code",
   "execution_count": 22,
   "metadata": {
    "colab": {
     "base_uri": "https://localhost:8080/"
    },
    "id": "OOA0ENpf9QQr",
    "outputId": "a8b47e0f-8275-4704-fec7-5d6e6fc551ee"
   },
   "outputs": [
    {
     "data": {
      "text/plain": [
       "order_id             0\n",
       "product_id           0\n",
       "add_to_cart_order    0\n",
       "reordered            0\n",
       "dtype: int64"
      ]
     },
     "execution_count": 22,
     "metadata": {},
     "output_type": "execute_result"
    }
   ],
   "source": [
    "order_product_train.isna().sum()"
   ]
  },
  {
   "cell_type": "markdown",
   "metadata": {
    "id": "LLQGe8qIcf3s"
   },
   "source": [
    "### Feature Extraction"
   ]
  },
  {
   "cell_type": "markdown",
   "metadata": {
    "id": "vSG5qtyzkOL0"
   },
   "source": [
    "### Merge da Tabela order_product_prior com order, product, aisle e department"
   ]
  },
  {
   "cell_type": "code",
   "execution_count": 23,
   "metadata": {
    "id": "UxFUMfW7mGpi"
   },
   "outputs": [],
   "source": [
    "# Merge\n",
    "order_product_prior = order_product_prior.merge(order, on = 'order_id', how = 'left')\n",
    "order_product_prior = order_product_prior.merge(product, on = 'product_id', how = 'left')\n",
    "order_product_prior = order_product_prior.merge(aisle, on = 'aisle_id', how = 'left')\n",
    "order_product_prior = order_product_prior.merge(department, on = 'department_id', how = 'left')"
   ]
  },
  {
   "cell_type": "code",
   "execution_count": 24,
   "metadata": {
    "colab": {
     "base_uri": "https://localhost:8080/"
    },
    "id": "68GKrrHZtcob",
    "outputId": "01f8ec08-25d5-4622-93a7-040d6cc8b204",
    "scrolled": true
   },
   "outputs": [
    {
     "data": {
      "text/html": [
       "<div>\n",
       "<style scoped>\n",
       "    .dataframe tbody tr th:only-of-type {\n",
       "        vertical-align: middle;\n",
       "    }\n",
       "\n",
       "    .dataframe tbody tr th {\n",
       "        vertical-align: top;\n",
       "    }\n",
       "\n",
       "    .dataframe thead th {\n",
       "        text-align: right;\n",
       "    }\n",
       "</style>\n",
       "<table border=\"1\" class=\"dataframe\">\n",
       "  <thead>\n",
       "    <tr style=\"text-align: right;\">\n",
       "      <th></th>\n",
       "      <th>order_id</th>\n",
       "      <th>product_id</th>\n",
       "      <th>add_to_cart_order</th>\n",
       "      <th>reordered</th>\n",
       "      <th>user_id</th>\n",
       "      <th>eval_set</th>\n",
       "      <th>order_number</th>\n",
       "      <th>order_dow</th>\n",
       "      <th>order_hour_of_day</th>\n",
       "      <th>days_since_prior_order</th>\n",
       "      <th>product_name</th>\n",
       "      <th>aisle_id</th>\n",
       "      <th>department_id</th>\n",
       "      <th>aisle</th>\n",
       "      <th>department</th>\n",
       "    </tr>\n",
       "  </thead>\n",
       "  <tbody>\n",
       "    <tr>\n",
       "      <th>0</th>\n",
       "      <td>2</td>\n",
       "      <td>33120</td>\n",
       "      <td>1</td>\n",
       "      <td>1</td>\n",
       "      <td>202279</td>\n",
       "      <td>prior</td>\n",
       "      <td>3</td>\n",
       "      <td>5</td>\n",
       "      <td>9</td>\n",
       "      <td>8.0</td>\n",
       "      <td>Organic Egg Whites</td>\n",
       "      <td>86</td>\n",
       "      <td>16</td>\n",
       "      <td>eggs</td>\n",
       "      <td>dairy eggs</td>\n",
       "    </tr>\n",
       "    <tr>\n",
       "      <th>1</th>\n",
       "      <td>2</td>\n",
       "      <td>28985</td>\n",
       "      <td>2</td>\n",
       "      <td>1</td>\n",
       "      <td>202279</td>\n",
       "      <td>prior</td>\n",
       "      <td>3</td>\n",
       "      <td>5</td>\n",
       "      <td>9</td>\n",
       "      <td>8.0</td>\n",
       "      <td>Michigan Organic Kale</td>\n",
       "      <td>83</td>\n",
       "      <td>4</td>\n",
       "      <td>fresh vegetables</td>\n",
       "      <td>produce</td>\n",
       "    </tr>\n",
       "    <tr>\n",
       "      <th>2</th>\n",
       "      <td>2</td>\n",
       "      <td>9327</td>\n",
       "      <td>3</td>\n",
       "      <td>0</td>\n",
       "      <td>202279</td>\n",
       "      <td>prior</td>\n",
       "      <td>3</td>\n",
       "      <td>5</td>\n",
       "      <td>9</td>\n",
       "      <td>8.0</td>\n",
       "      <td>Garlic Powder</td>\n",
       "      <td>104</td>\n",
       "      <td>13</td>\n",
       "      <td>spices seasonings</td>\n",
       "      <td>pantry</td>\n",
       "    </tr>\n",
       "    <tr>\n",
       "      <th>3</th>\n",
       "      <td>2</td>\n",
       "      <td>45918</td>\n",
       "      <td>4</td>\n",
       "      <td>1</td>\n",
       "      <td>202279</td>\n",
       "      <td>prior</td>\n",
       "      <td>3</td>\n",
       "      <td>5</td>\n",
       "      <td>9</td>\n",
       "      <td>8.0</td>\n",
       "      <td>Coconut Butter</td>\n",
       "      <td>19</td>\n",
       "      <td>13</td>\n",
       "      <td>oils vinegars</td>\n",
       "      <td>pantry</td>\n",
       "    </tr>\n",
       "    <tr>\n",
       "      <th>4</th>\n",
       "      <td>2</td>\n",
       "      <td>30035</td>\n",
       "      <td>5</td>\n",
       "      <td>0</td>\n",
       "      <td>202279</td>\n",
       "      <td>prior</td>\n",
       "      <td>3</td>\n",
       "      <td>5</td>\n",
       "      <td>9</td>\n",
       "      <td>8.0</td>\n",
       "      <td>Natural Sweetener</td>\n",
       "      <td>17</td>\n",
       "      <td>13</td>\n",
       "      <td>baking ingredients</td>\n",
       "      <td>pantry</td>\n",
       "    </tr>\n",
       "    <tr>\n",
       "      <th>5</th>\n",
       "      <td>2</td>\n",
       "      <td>17794</td>\n",
       "      <td>6</td>\n",
       "      <td>1</td>\n",
       "      <td>202279</td>\n",
       "      <td>prior</td>\n",
       "      <td>3</td>\n",
       "      <td>5</td>\n",
       "      <td>9</td>\n",
       "      <td>8.0</td>\n",
       "      <td>Carrots</td>\n",
       "      <td>83</td>\n",
       "      <td>4</td>\n",
       "      <td>fresh vegetables</td>\n",
       "      <td>produce</td>\n",
       "    </tr>\n",
       "    <tr>\n",
       "      <th>6</th>\n",
       "      <td>2</td>\n",
       "      <td>40141</td>\n",
       "      <td>7</td>\n",
       "      <td>1</td>\n",
       "      <td>202279</td>\n",
       "      <td>prior</td>\n",
       "      <td>3</td>\n",
       "      <td>5</td>\n",
       "      <td>9</td>\n",
       "      <td>8.0</td>\n",
       "      <td>Original Unflavored Gelatine Mix</td>\n",
       "      <td>105</td>\n",
       "      <td>13</td>\n",
       "      <td>doughs gelatins bake mixes</td>\n",
       "      <td>pantry</td>\n",
       "    </tr>\n",
       "    <tr>\n",
       "      <th>7</th>\n",
       "      <td>2</td>\n",
       "      <td>1819</td>\n",
       "      <td>8</td>\n",
       "      <td>1</td>\n",
       "      <td>202279</td>\n",
       "      <td>prior</td>\n",
       "      <td>3</td>\n",
       "      <td>5</td>\n",
       "      <td>9</td>\n",
       "      <td>8.0</td>\n",
       "      <td>All Natural No Stir Creamy Almond Butter</td>\n",
       "      <td>88</td>\n",
       "      <td>13</td>\n",
       "      <td>spreads</td>\n",
       "      <td>pantry</td>\n",
       "    </tr>\n",
       "    <tr>\n",
       "      <th>8</th>\n",
       "      <td>2</td>\n",
       "      <td>43668</td>\n",
       "      <td>9</td>\n",
       "      <td>0</td>\n",
       "      <td>202279</td>\n",
       "      <td>prior</td>\n",
       "      <td>3</td>\n",
       "      <td>5</td>\n",
       "      <td>9</td>\n",
       "      <td>8.0</td>\n",
       "      <td>Classic Blend Cole Slaw</td>\n",
       "      <td>123</td>\n",
       "      <td>4</td>\n",
       "      <td>packaged vegetables fruits</td>\n",
       "      <td>produce</td>\n",
       "    </tr>\n",
       "    <tr>\n",
       "      <th>9</th>\n",
       "      <td>3</td>\n",
       "      <td>33754</td>\n",
       "      <td>1</td>\n",
       "      <td>1</td>\n",
       "      <td>205970</td>\n",
       "      <td>prior</td>\n",
       "      <td>16</td>\n",
       "      <td>5</td>\n",
       "      <td>17</td>\n",
       "      <td>12.0</td>\n",
       "      <td>Total 2% with Strawberry Lowfat Greek Strained...</td>\n",
       "      <td>120</td>\n",
       "      <td>16</td>\n",
       "      <td>yogurt</td>\n",
       "      <td>dairy eggs</td>\n",
       "    </tr>\n",
       "  </tbody>\n",
       "</table>\n",
       "</div>"
      ],
      "text/plain": [
       "   order_id  product_id  add_to_cart_order  reordered  user_id eval_set  \\\n",
       "0         2       33120                  1          1   202279    prior   \n",
       "1         2       28985                  2          1   202279    prior   \n",
       "2         2        9327                  3          0   202279    prior   \n",
       "3         2       45918                  4          1   202279    prior   \n",
       "4         2       30035                  5          0   202279    prior   \n",
       "5         2       17794                  6          1   202279    prior   \n",
       "6         2       40141                  7          1   202279    prior   \n",
       "7         2        1819                  8          1   202279    prior   \n",
       "8         2       43668                  9          0   202279    prior   \n",
       "9         3       33754                  1          1   205970    prior   \n",
       "\n",
       "   order_number  order_dow  order_hour_of_day  days_since_prior_order  \\\n",
       "0             3          5                  9                     8.0   \n",
       "1             3          5                  9                     8.0   \n",
       "2             3          5                  9                     8.0   \n",
       "3             3          5                  9                     8.0   \n",
       "4             3          5                  9                     8.0   \n",
       "5             3          5                  9                     8.0   \n",
       "6             3          5                  9                     8.0   \n",
       "7             3          5                  9                     8.0   \n",
       "8             3          5                  9                     8.0   \n",
       "9            16          5                 17                    12.0   \n",
       "\n",
       "                                        product_name  aisle_id  department_id  \\\n",
       "0                                 Organic Egg Whites        86             16   \n",
       "1                              Michigan Organic Kale        83              4   \n",
       "2                                      Garlic Powder       104             13   \n",
       "3                                     Coconut Butter        19             13   \n",
       "4                                  Natural Sweetener        17             13   \n",
       "5                                            Carrots        83              4   \n",
       "6                   Original Unflavored Gelatine Mix       105             13   \n",
       "7           All Natural No Stir Creamy Almond Butter        88             13   \n",
       "8                            Classic Blend Cole Slaw       123              4   \n",
       "9  Total 2% with Strawberry Lowfat Greek Strained...       120             16   \n",
       "\n",
       "                        aisle  department  \n",
       "0                        eggs  dairy eggs  \n",
       "1            fresh vegetables     produce  \n",
       "2           spices seasonings      pantry  \n",
       "3               oils vinegars      pantry  \n",
       "4          baking ingredients      pantry  \n",
       "5            fresh vegetables     produce  \n",
       "6  doughs gelatins bake mixes      pantry  \n",
       "7                     spreads      pantry  \n",
       "8  packaged vegetables fruits     produce  \n",
       "9                      yogurt  dairy eggs  "
      ]
     },
     "execution_count": 24,
     "metadata": {},
     "output_type": "execute_result"
    }
   ],
   "source": [
    "order_product_prior.head(10)"
   ]
  },
  {
   "cell_type": "code",
   "execution_count": 25,
   "metadata": {},
   "outputs": [
    {
     "data": {
      "text/plain": [
       "order_id                        0\n",
       "product_id                      0\n",
       "add_to_cart_order               0\n",
       "reordered                       0\n",
       "user_id                         0\n",
       "eval_set                        0\n",
       "order_number                    0\n",
       "order_dow                       0\n",
       "order_hour_of_day               0\n",
       "days_since_prior_order    2078068\n",
       "product_name                    0\n",
       "aisle_id                        0\n",
       "department_id                   0\n",
       "aisle                           0\n",
       "department                      0\n",
       "dtype: int64"
      ]
     },
     "execution_count": 25,
     "metadata": {},
     "output_type": "execute_result"
    }
   ],
   "source": [
    "order_product_prior.isna().sum()"
   ]
  },
  {
   "cell_type": "code",
   "execution_count": 26,
   "metadata": {},
   "outputs": [
    {
     "data": {
      "text/plain": [
       "order_id                  0.00000\n",
       "product_id                0.00000\n",
       "add_to_cart_order         0.00000\n",
       "reordered                 0.00000\n",
       "user_id                   0.00000\n",
       "eval_set                  0.00000\n",
       "order_number              0.00000\n",
       "order_dow                 0.00000\n",
       "order_hour_of_day         0.00000\n",
       "days_since_prior_order    6.40697\n",
       "product_name              0.00000\n",
       "aisle_id                  0.00000\n",
       "department_id             0.00000\n",
       "aisle                     0.00000\n",
       "department                0.00000\n",
       "dtype: float64"
      ]
     },
     "execution_count": 26,
     "metadata": {},
     "output_type": "execute_result"
    }
   ],
   "source": [
    "order_product_prior.isnull().sum() / len(order_product_prior) * 100"
   ]
  },
  {
   "cell_type": "markdown",
   "metadata": {},
   "source": [
    "Mantive a variável days_since_prior_order por duas razões:\n",
    "\n",
    "1- O percentual de valores ausentes é apenas de 6.4%.\n",
    "\n",
    "2- Não usaremos a variável com o algoritmo MBA."
   ]
  },
  {
   "cell_type": "markdown",
   "metadata": {
    "id": "NjSL_jOE4C_U"
   },
   "source": [
    "### Merge da Tabela order_product_train com order, product, aisle e department"
   ]
  },
  {
   "cell_type": "code",
   "execution_count": 27,
   "metadata": {
    "id": "S8zPjkLh4DlW"
   },
   "outputs": [
    {
     "name": "stdout",
     "output_type": "stream",
     "text": [
      "CPU times: total: 1.47 s\n",
      "Wall time: 2.09 s\n"
     ]
    }
   ],
   "source": [
    "%%time\n",
    "order_product_train = order_product_train.merge(order, on = 'order_id', how = 'left')\n",
    "order_product_train = order_product_train.merge(product, on = 'product_id', how = 'left')\n",
    "order_product_train = order_product_train.merge(aisle, on = 'aisle_id', how = 'left')\n",
    "order_product_train = order_product_train.merge(department, on = 'department_id', how = 'left')"
   ]
  },
  {
   "cell_type": "code",
   "execution_count": 28,
   "metadata": {
    "colab": {
     "base_uri": "https://localhost:8080/"
    },
    "id": "cnrjGiTZ4LWh",
    "outputId": "c099e3a0-ea27-47aa-d6ec-efba5b66c666",
    "scrolled": true
   },
   "outputs": [
    {
     "data": {
      "text/html": [
       "<div>\n",
       "<style scoped>\n",
       "    .dataframe tbody tr th:only-of-type {\n",
       "        vertical-align: middle;\n",
       "    }\n",
       "\n",
       "    .dataframe tbody tr th {\n",
       "        vertical-align: top;\n",
       "    }\n",
       "\n",
       "    .dataframe thead th {\n",
       "        text-align: right;\n",
       "    }\n",
       "</style>\n",
       "<table border=\"1\" class=\"dataframe\">\n",
       "  <thead>\n",
       "    <tr style=\"text-align: right;\">\n",
       "      <th></th>\n",
       "      <th>order_id</th>\n",
       "      <th>product_id</th>\n",
       "      <th>add_to_cart_order</th>\n",
       "      <th>reordered</th>\n",
       "      <th>user_id</th>\n",
       "      <th>eval_set</th>\n",
       "      <th>order_number</th>\n",
       "      <th>order_dow</th>\n",
       "      <th>order_hour_of_day</th>\n",
       "      <th>days_since_prior_order</th>\n",
       "      <th>product_name</th>\n",
       "      <th>aisle_id</th>\n",
       "      <th>department_id</th>\n",
       "      <th>aisle</th>\n",
       "      <th>department</th>\n",
       "    </tr>\n",
       "  </thead>\n",
       "  <tbody>\n",
       "    <tr>\n",
       "      <th>0</th>\n",
       "      <td>1</td>\n",
       "      <td>49302</td>\n",
       "      <td>1</td>\n",
       "      <td>1</td>\n",
       "      <td>112108</td>\n",
       "      <td>train</td>\n",
       "      <td>4</td>\n",
       "      <td>4</td>\n",
       "      <td>10</td>\n",
       "      <td>9.0</td>\n",
       "      <td>Bulgarian Yogurt</td>\n",
       "      <td>120</td>\n",
       "      <td>16</td>\n",
       "      <td>yogurt</td>\n",
       "      <td>dairy eggs</td>\n",
       "    </tr>\n",
       "    <tr>\n",
       "      <th>1</th>\n",
       "      <td>1</td>\n",
       "      <td>11109</td>\n",
       "      <td>2</td>\n",
       "      <td>1</td>\n",
       "      <td>112108</td>\n",
       "      <td>train</td>\n",
       "      <td>4</td>\n",
       "      <td>4</td>\n",
       "      <td>10</td>\n",
       "      <td>9.0</td>\n",
       "      <td>Organic 4% Milk Fat Whole Milk Cottage Cheese</td>\n",
       "      <td>108</td>\n",
       "      <td>16</td>\n",
       "      <td>other creams cheeses</td>\n",
       "      <td>dairy eggs</td>\n",
       "    </tr>\n",
       "    <tr>\n",
       "      <th>2</th>\n",
       "      <td>1</td>\n",
       "      <td>10246</td>\n",
       "      <td>3</td>\n",
       "      <td>0</td>\n",
       "      <td>112108</td>\n",
       "      <td>train</td>\n",
       "      <td>4</td>\n",
       "      <td>4</td>\n",
       "      <td>10</td>\n",
       "      <td>9.0</td>\n",
       "      <td>Organic Celery Hearts</td>\n",
       "      <td>83</td>\n",
       "      <td>4</td>\n",
       "      <td>fresh vegetables</td>\n",
       "      <td>produce</td>\n",
       "    </tr>\n",
       "    <tr>\n",
       "      <th>3</th>\n",
       "      <td>1</td>\n",
       "      <td>49683</td>\n",
       "      <td>4</td>\n",
       "      <td>0</td>\n",
       "      <td>112108</td>\n",
       "      <td>train</td>\n",
       "      <td>4</td>\n",
       "      <td>4</td>\n",
       "      <td>10</td>\n",
       "      <td>9.0</td>\n",
       "      <td>Cucumber Kirby</td>\n",
       "      <td>83</td>\n",
       "      <td>4</td>\n",
       "      <td>fresh vegetables</td>\n",
       "      <td>produce</td>\n",
       "    </tr>\n",
       "    <tr>\n",
       "      <th>4</th>\n",
       "      <td>1</td>\n",
       "      <td>43633</td>\n",
       "      <td>5</td>\n",
       "      <td>1</td>\n",
       "      <td>112108</td>\n",
       "      <td>train</td>\n",
       "      <td>4</td>\n",
       "      <td>4</td>\n",
       "      <td>10</td>\n",
       "      <td>9.0</td>\n",
       "      <td>Lightly Smoked Sardines in Olive Oil</td>\n",
       "      <td>95</td>\n",
       "      <td>15</td>\n",
       "      <td>canned meat seafood</td>\n",
       "      <td>canned goods</td>\n",
       "    </tr>\n",
       "    <tr>\n",
       "      <th>5</th>\n",
       "      <td>1</td>\n",
       "      <td>13176</td>\n",
       "      <td>6</td>\n",
       "      <td>0</td>\n",
       "      <td>112108</td>\n",
       "      <td>train</td>\n",
       "      <td>4</td>\n",
       "      <td>4</td>\n",
       "      <td>10</td>\n",
       "      <td>9.0</td>\n",
       "      <td>Bag of Organic Bananas</td>\n",
       "      <td>24</td>\n",
       "      <td>4</td>\n",
       "      <td>fresh fruits</td>\n",
       "      <td>produce</td>\n",
       "    </tr>\n",
       "    <tr>\n",
       "      <th>6</th>\n",
       "      <td>1</td>\n",
       "      <td>47209</td>\n",
       "      <td>7</td>\n",
       "      <td>0</td>\n",
       "      <td>112108</td>\n",
       "      <td>train</td>\n",
       "      <td>4</td>\n",
       "      <td>4</td>\n",
       "      <td>10</td>\n",
       "      <td>9.0</td>\n",
       "      <td>Organic Hass Avocado</td>\n",
       "      <td>24</td>\n",
       "      <td>4</td>\n",
       "      <td>fresh fruits</td>\n",
       "      <td>produce</td>\n",
       "    </tr>\n",
       "    <tr>\n",
       "      <th>7</th>\n",
       "      <td>1</td>\n",
       "      <td>22035</td>\n",
       "      <td>8</td>\n",
       "      <td>1</td>\n",
       "      <td>112108</td>\n",
       "      <td>train</td>\n",
       "      <td>4</td>\n",
       "      <td>4</td>\n",
       "      <td>10</td>\n",
       "      <td>9.0</td>\n",
       "      <td>Organic Whole String Cheese</td>\n",
       "      <td>21</td>\n",
       "      <td>16</td>\n",
       "      <td>packaged cheese</td>\n",
       "      <td>dairy eggs</td>\n",
       "    </tr>\n",
       "    <tr>\n",
       "      <th>8</th>\n",
       "      <td>36</td>\n",
       "      <td>39612</td>\n",
       "      <td>1</td>\n",
       "      <td>0</td>\n",
       "      <td>79431</td>\n",
       "      <td>train</td>\n",
       "      <td>23</td>\n",
       "      <td>6</td>\n",
       "      <td>18</td>\n",
       "      <td>30.0</td>\n",
       "      <td>Grated Pecorino Romano Cheese</td>\n",
       "      <td>2</td>\n",
       "      <td>16</td>\n",
       "      <td>specialty cheeses</td>\n",
       "      <td>dairy eggs</td>\n",
       "    </tr>\n",
       "    <tr>\n",
       "      <th>9</th>\n",
       "      <td>36</td>\n",
       "      <td>19660</td>\n",
       "      <td>2</td>\n",
       "      <td>1</td>\n",
       "      <td>79431</td>\n",
       "      <td>train</td>\n",
       "      <td>23</td>\n",
       "      <td>6</td>\n",
       "      <td>18</td>\n",
       "      <td>30.0</td>\n",
       "      <td>Spring Water</td>\n",
       "      <td>115</td>\n",
       "      <td>7</td>\n",
       "      <td>water seltzer sparkling water</td>\n",
       "      <td>beverages</td>\n",
       "    </tr>\n",
       "  </tbody>\n",
       "</table>\n",
       "</div>"
      ],
      "text/plain": [
       "   order_id  product_id  add_to_cart_order  reordered  user_id eval_set  \\\n",
       "0         1       49302                  1          1   112108    train   \n",
       "1         1       11109                  2          1   112108    train   \n",
       "2         1       10246                  3          0   112108    train   \n",
       "3         1       49683                  4          0   112108    train   \n",
       "4         1       43633                  5          1   112108    train   \n",
       "5         1       13176                  6          0   112108    train   \n",
       "6         1       47209                  7          0   112108    train   \n",
       "7         1       22035                  8          1   112108    train   \n",
       "8        36       39612                  1          0    79431    train   \n",
       "9        36       19660                  2          1    79431    train   \n",
       "\n",
       "   order_number  order_dow  order_hour_of_day  days_since_prior_order  \\\n",
       "0             4          4                 10                     9.0   \n",
       "1             4          4                 10                     9.0   \n",
       "2             4          4                 10                     9.0   \n",
       "3             4          4                 10                     9.0   \n",
       "4             4          4                 10                     9.0   \n",
       "5             4          4                 10                     9.0   \n",
       "6             4          4                 10                     9.0   \n",
       "7             4          4                 10                     9.0   \n",
       "8            23          6                 18                    30.0   \n",
       "9            23          6                 18                    30.0   \n",
       "\n",
       "                                    product_name  aisle_id  department_id  \\\n",
       "0                               Bulgarian Yogurt       120             16   \n",
       "1  Organic 4% Milk Fat Whole Milk Cottage Cheese       108             16   \n",
       "2                          Organic Celery Hearts        83              4   \n",
       "3                                 Cucumber Kirby        83              4   \n",
       "4           Lightly Smoked Sardines in Olive Oil        95             15   \n",
       "5                         Bag of Organic Bananas        24              4   \n",
       "6                           Organic Hass Avocado        24              4   \n",
       "7                    Organic Whole String Cheese        21             16   \n",
       "8                  Grated Pecorino Romano Cheese         2             16   \n",
       "9                                   Spring Water       115              7   \n",
       "\n",
       "                           aisle    department  \n",
       "0                         yogurt    dairy eggs  \n",
       "1           other creams cheeses    dairy eggs  \n",
       "2               fresh vegetables       produce  \n",
       "3               fresh vegetables       produce  \n",
       "4            canned meat seafood  canned goods  \n",
       "5                   fresh fruits       produce  \n",
       "6                   fresh fruits       produce  \n",
       "7                packaged cheese    dairy eggs  \n",
       "8              specialty cheeses    dairy eggs  \n",
       "9  water seltzer sparkling water     beverages  "
      ]
     },
     "execution_count": 28,
     "metadata": {},
     "output_type": "execute_result"
    }
   ],
   "source": [
    "order_product_train.head(10)"
   ]
  },
  {
   "cell_type": "code",
   "execution_count": 29,
   "metadata": {},
   "outputs": [
    {
     "data": {
      "text/plain": [
       "order_id                  0\n",
       "product_id                0\n",
       "add_to_cart_order         0\n",
       "reordered                 0\n",
       "user_id                   0\n",
       "eval_set                  0\n",
       "order_number              0\n",
       "order_dow                 0\n",
       "order_hour_of_day         0\n",
       "days_since_prior_order    0\n",
       "product_name              0\n",
       "aisle_id                  0\n",
       "department_id             0\n",
       "aisle                     0\n",
       "department                0\n",
       "dtype: int64"
      ]
     },
     "execution_count": 29,
     "metadata": {},
     "output_type": "execute_result"
    }
   ],
   "source": [
    "order_product_train.isna().sum()"
   ]
  },
  {
   "cell_type": "markdown",
   "metadata": {
    "id": "gKkQ7d6YeJ8i"
   },
   "source": [
    "> Agrupar os dados para aplicar o algoritmo Apriori e preparar o dataset com todas as transações."
   ]
  },
  {
   "cell_type": "code",
   "execution_count": 30,
   "metadata": {
    "id": "CnrGi9h78Kwz"
   },
   "outputs": [
    {
     "name": "stdout",
     "output_type": "stream",
     "text": [
      "CPU times: total: 3min 36s\n",
      "Wall time: 3min 50s\n"
     ]
    }
   ],
   "source": [
    "%%time\n",
    "order_grouped = pd.DataFrame(order_product_prior.groupby('order_id')['product_id'])"
   ]
  },
  {
   "cell_type": "code",
   "execution_count": 31,
   "metadata": {},
   "outputs": [
    {
     "data": {
      "text/plain": [
       "(3214874, 2)"
      ]
     },
     "execution_count": 31,
     "metadata": {},
     "output_type": "execute_result"
    }
   ],
   "source": [
    "order_grouped.shape"
   ]
  },
  {
   "cell_type": "code",
   "execution_count": 32,
   "metadata": {},
   "outputs": [
    {
     "data": {
      "text/plain": [
       "3214874"
      ]
     },
     "execution_count": 32,
     "metadata": {},
     "output_type": "execute_result"
    }
   ],
   "source": [
    "len(order_grouped[0])"
   ]
  },
  {
   "cell_type": "code",
   "execution_count": 33,
   "metadata": {},
   "outputs": [
    {
     "data": {
      "text/html": [
       "<div>\n",
       "<style scoped>\n",
       "    .dataframe tbody tr th:only-of-type {\n",
       "        vertical-align: middle;\n",
       "    }\n",
       "\n",
       "    .dataframe tbody tr th {\n",
       "        vertical-align: top;\n",
       "    }\n",
       "\n",
       "    .dataframe thead th {\n",
       "        text-align: right;\n",
       "    }\n",
       "</style>\n",
       "<table border=\"1\" class=\"dataframe\">\n",
       "  <thead>\n",
       "    <tr style=\"text-align: right;\">\n",
       "      <th></th>\n",
       "      <th>0</th>\n",
       "      <th>1</th>\n",
       "    </tr>\n",
       "  </thead>\n",
       "  <tbody>\n",
       "    <tr>\n",
       "      <th>0</th>\n",
       "      <td>2</td>\n",
       "      <td>0    33120\n",
       "1    28985\n",
       "2     9327\n",
       "3    45918\n",
       "4 ...</td>\n",
       "    </tr>\n",
       "    <tr>\n",
       "      <th>1</th>\n",
       "      <td>3</td>\n",
       "      <td>9     33754\n",
       "10    24838\n",
       "11    17704\n",
       "12    2190...</td>\n",
       "    </tr>\n",
       "    <tr>\n",
       "      <th>2</th>\n",
       "      <td>4</td>\n",
       "      <td>17    46842\n",
       "18    26434\n",
       "19    39758\n",
       "20    2776...</td>\n",
       "    </tr>\n",
       "    <tr>\n",
       "      <th>3</th>\n",
       "      <td>5</td>\n",
       "      <td>30    13176\n",
       "31    15005\n",
       "32    47329\n",
       "33    2796...</td>\n",
       "    </tr>\n",
       "    <tr>\n",
       "      <th>4</th>\n",
       "      <td>6</td>\n",
       "      <td>56    40462\n",
       "57    15873\n",
       "58    41897\n",
       "Name: prod...</td>\n",
       "    </tr>\n",
       "  </tbody>\n",
       "</table>\n",
       "</div>"
      ],
      "text/plain": [
       "   0                                                  1\n",
       "0  2  0    33120\n",
       "1    28985\n",
       "2     9327\n",
       "3    45918\n",
       "4 ...\n",
       "1  3  9     33754\n",
       "10    24838\n",
       "11    17704\n",
       "12    2190...\n",
       "2  4  17    46842\n",
       "18    26434\n",
       "19    39758\n",
       "20    2776...\n",
       "3  5  30    13176\n",
       "31    15005\n",
       "32    47329\n",
       "33    2796...\n",
       "4  6  56    40462\n",
       "57    15873\n",
       "58    41897\n",
       "Name: prod..."
      ]
     },
     "execution_count": 33,
     "metadata": {},
     "output_type": "execute_result"
    }
   ],
   "source": [
    "order_grouped.head()"
   ]
  },
  {
   "cell_type": "code",
   "execution_count": 34,
   "metadata": {
    "id": "PxNrpPjSeOxD"
   },
   "outputs": [],
   "source": [
    "# Listas\n",
    "prod = []"
   ]
  },
  {
   "cell_type": "code",
   "execution_count": 35,
   "metadata": {},
   "outputs": [
    {
     "name": "stdout",
     "output_type": "stream",
     "text": [
      "CPU times: total: 3min 31s\n",
      "Wall time: 3min 52s\n"
     ]
    }
   ],
   "source": [
    "%%time\n",
    "for i in range(len(order_grouped[0])):\n",
    "    prod.append(list(order_grouped.iloc[i][1]))"
   ]
  },
  {
   "cell_type": "code",
   "execution_count": 36,
   "metadata": {},
   "outputs": [],
   "source": [
    "prod_ = prod"
   ]
  },
  {
   "cell_type": "code",
   "execution_count": 37,
   "metadata": {},
   "outputs": [],
   "source": [
    "order_ = order_grouped[0]"
   ]
  },
  {
   "cell_type": "code",
   "execution_count": 38,
   "metadata": {},
   "outputs": [],
   "source": [
    "# Prepara o dataframe\n",
    "transactions = pd.DataFrame({'OrderID' : order_, 'Products' : prod_})"
   ]
  },
  {
   "cell_type": "code",
   "execution_count": 39,
   "metadata": {
    "id": "5OIS1o_J8Kwz",
    "outputId": "1be8c470-b6e8-4782-a1aa-4dbe353bf887"
   },
   "outputs": [
    {
     "data": {
      "text/html": [
       "<div>\n",
       "<style scoped>\n",
       "    .dataframe tbody tr th:only-of-type {\n",
       "        vertical-align: middle;\n",
       "    }\n",
       "\n",
       "    .dataframe tbody tr th {\n",
       "        vertical-align: top;\n",
       "    }\n",
       "\n",
       "    .dataframe thead th {\n",
       "        text-align: right;\n",
       "    }\n",
       "</style>\n",
       "<table border=\"1\" class=\"dataframe\">\n",
       "  <thead>\n",
       "    <tr style=\"text-align: right;\">\n",
       "      <th></th>\n",
       "      <th>OrderID</th>\n",
       "      <th>Products</th>\n",
       "    </tr>\n",
       "  </thead>\n",
       "  <tbody>\n",
       "    <tr>\n",
       "      <th>0</th>\n",
       "      <td>2</td>\n",
       "      <td>[33120, 28985, 9327, 45918, 30035, 17794, 4014...</td>\n",
       "    </tr>\n",
       "    <tr>\n",
       "      <th>1</th>\n",
       "      <td>3</td>\n",
       "      <td>[33754, 24838, 17704, 21903, 17668, 46667, 174...</td>\n",
       "    </tr>\n",
       "    <tr>\n",
       "      <th>2</th>\n",
       "      <td>4</td>\n",
       "      <td>[46842, 26434, 39758, 27761, 10054, 21351, 225...</td>\n",
       "    </tr>\n",
       "    <tr>\n",
       "      <th>3</th>\n",
       "      <td>5</td>\n",
       "      <td>[13176, 15005, 47329, 27966, 23909, 48370, 132...</td>\n",
       "    </tr>\n",
       "    <tr>\n",
       "      <th>4</th>\n",
       "      <td>6</td>\n",
       "      <td>[40462, 15873, 41897]</td>\n",
       "    </tr>\n",
       "    <tr>\n",
       "      <th>5</th>\n",
       "      <td>7</td>\n",
       "      <td>[34050, 46802]</td>\n",
       "    </tr>\n",
       "    <tr>\n",
       "      <th>6</th>\n",
       "      <td>8</td>\n",
       "      <td>[23423]</td>\n",
       "    </tr>\n",
       "    <tr>\n",
       "      <th>7</th>\n",
       "      <td>9</td>\n",
       "      <td>[21405, 47890, 11182, 2014, 29193, 34203, 1499...</td>\n",
       "    </tr>\n",
       "    <tr>\n",
       "      <th>8</th>\n",
       "      <td>10</td>\n",
       "      <td>[24852, 4796, 31717, 47766, 4605, 1529, 21137,...</td>\n",
       "    </tr>\n",
       "    <tr>\n",
       "      <th>9</th>\n",
       "      <td>11</td>\n",
       "      <td>[30162, 27085, 5994, 1313, 31506]</td>\n",
       "    </tr>\n",
       "  </tbody>\n",
       "</table>\n",
       "</div>"
      ],
      "text/plain": [
       "   OrderID                                           Products\n",
       "0        2  [33120, 28985, 9327, 45918, 30035, 17794, 4014...\n",
       "1        3  [33754, 24838, 17704, 21903, 17668, 46667, 174...\n",
       "2        4  [46842, 26434, 39758, 27761, 10054, 21351, 225...\n",
       "3        5  [13176, 15005, 47329, 27966, 23909, 48370, 132...\n",
       "4        6                              [40462, 15873, 41897]\n",
       "5        7                                     [34050, 46802]\n",
       "6        8                                            [23423]\n",
       "7        9  [21405, 47890, 11182, 2014, 29193, 34203, 1499...\n",
       "8       10  [24852, 4796, 31717, 47766, 4605, 1529, 21137,...\n",
       "9       11                  [30162, 27085, 5994, 1313, 31506]"
      ]
     },
     "execution_count": 39,
     "metadata": {},
     "output_type": "execute_result"
    }
   ],
   "source": [
    "transactions.head(10)"
   ]
  },
  {
   "cell_type": "markdown",
   "metadata": {
    "id": "iIu3daJt_DPQ"
   },
   "source": [
    "## Análise Estatística Descritiva"
   ]
  },
  {
   "cell_type": "markdown",
   "metadata": {
    "id": "cfLnAnPrdWog"
   },
   "source": [
    "### 1- Qual o Número de Pedidos Mais Frequente Entre os Usuários?"
   ]
  },
  {
   "cell_type": "code",
   "execution_count": 40,
   "metadata": {},
   "outputs": [
    {
     "name": "stderr",
     "output_type": "stream",
     "text": [
      "C:\\Users\\thyag\\AppData\\Local\\Temp\\ipykernel_14300\\2771087320.py:2: FutureWarning: The provided callable <function max at 0x00000130E1822C00> is currently using SeriesGroupBy.max. In a future version of pandas, the provided callable will be used directly. To keep current behavior pass the string \"max\" instead.\n",
      "  ord_max_count = order.groupby(\"user_id\")['order_number'].aggregate(np.max).reset_index()\n"
     ]
    },
    {
     "data": {
      "text/html": [
       "<div>\n",
       "<style scoped>\n",
       "    .dataframe tbody tr th:only-of-type {\n",
       "        vertical-align: middle;\n",
       "    }\n",
       "\n",
       "    .dataframe tbody tr th {\n",
       "        vertical-align: top;\n",
       "    }\n",
       "\n",
       "    .dataframe thead th {\n",
       "        text-align: right;\n",
       "    }\n",
       "</style>\n",
       "<table border=\"1\" class=\"dataframe\">\n",
       "  <thead>\n",
       "    <tr style=\"text-align: right;\">\n",
       "      <th></th>\n",
       "      <th>user_id</th>\n",
       "      <th>order_number</th>\n",
       "    </tr>\n",
       "  </thead>\n",
       "  <tbody>\n",
       "    <tr>\n",
       "      <th>0</th>\n",
       "      <td>1</td>\n",
       "      <td>11</td>\n",
       "    </tr>\n",
       "    <tr>\n",
       "      <th>1</th>\n",
       "      <td>2</td>\n",
       "      <td>15</td>\n",
       "    </tr>\n",
       "    <tr>\n",
       "      <th>2</th>\n",
       "      <td>3</td>\n",
       "      <td>13</td>\n",
       "    </tr>\n",
       "    <tr>\n",
       "      <th>3</th>\n",
       "      <td>4</td>\n",
       "      <td>6</td>\n",
       "    </tr>\n",
       "    <tr>\n",
       "      <th>4</th>\n",
       "      <td>5</td>\n",
       "      <td>5</td>\n",
       "    </tr>\n",
       "  </tbody>\n",
       "</table>\n",
       "</div>"
      ],
      "text/plain": [
       "   user_id  order_number\n",
       "0        1            11\n",
       "1        2            15\n",
       "2        3            13\n",
       "3        4             6\n",
       "4        5             5"
      ]
     },
     "execution_count": 40,
     "metadata": {},
     "output_type": "execute_result"
    }
   ],
   "source": [
    "# Agrupa os dados por usuário e número do pedido, agregando pelo maior valor\n",
    "ord_max_count = order.groupby(\"user_id\")['order_number'].aggregate(np.max).reset_index()\n",
    "ord_max_count.head()"
   ]
  },
  {
   "cell_type": "code",
   "execution_count": 41,
   "metadata": {},
   "outputs": [
    {
     "data": {
      "text/plain": [
       "order_number\n",
       "4    23986\n",
       "5    19590\n",
       "6    16165\n",
       "7    13850\n",
       "8    11700\n",
       "Name: count, dtype: int64"
      ]
     },
     "execution_count": 41,
     "metadata": {},
     "output_type": "execute_result"
    }
   ],
   "source": [
    "# Faz a contagem por número de pedidos\n",
    "ord_max_count = ord_max_count.order_number.value_counts()\n",
    "ord_max_count.head()"
   ]
  },
  {
   "cell_type": "code",
   "execution_count": 71,
   "metadata": {
    "colab": {
     "base_uri": "https://localhost:8080/",
     "height": 341
    },
    "id": "9jbNIoii_PTd",
    "outputId": "af6f505b-a382-46ab-ca05-fa8d53365749"
   },
   "outputs": [
    {
     "data": {
      "image/png": "[encoded data removed]",
      "text/plain": [
       "<Figure size 2000x800 with 1 Axes>"
      ]
     },
     "metadata": {},
     "output_type": "display_data"
    }
   ],
   "source": [
    "# Plot\n",
    "plt.style.use('ggplot')\n",
    "plt.figure(figsize = (20,8))\n",
    "plt.bar(ord_max_count.index, ord_max_count.values, color = 'blue', width = 0.6)\n",
    "plt.xticks(ord_max_count.index, rotation = 'vertical')\n",
    "plt.ylabel('Frequência', fontsize = 14, fontweight = 'bold')\n",
    "plt.xlabel('Número de Pedidos Mais Frequente Entre os Usuários', fontsize = 14, fontweight = 'bold')\n",
    "plt.show()"
   ]
  },
  {
   "cell_type": "markdown",
   "metadata": {
    "id": "S6xhr0Y5LCi1"
   },
   "source": [
    "### 2- Qual Dia da Semana Tem o Maior Número de Pedidos?"
   ]
  },
  {
   "cell_type": "code",
   "execution_count": 43,
   "metadata": {},
   "outputs": [],
   "source": [
    "# Frequências de pedidos por dia da semana (dow = day of the week)\n",
    "x = [0,1,2,3,4,5,6]\n",
    "y = [order[order['order_dow']==0].shape[0],\n",
    "     order[order['order_dow']==1].shape[0],\n",
    "     order[order['order_dow']==2].shape[0],\n",
    "     order[order['order_dow']==3].shape[0],\n",
    "     order[order['order_dow']==4].shape[0],\n",
    "     order[order['order_dow']==5].shape[0],\n",
    "     order[order['order_dow']==6].shape[0]]"
   ]
  },
  {
   "cell_type": "code",
   "execution_count": 44,
   "metadata": {
    "id": "LAtk7-cDLD15",
    "outputId": "dfba10d1-1f8a-40b1-984a-27e3596af252"
   },
   "outputs": [
    {
     "data": {
      "image/png": "[encoded data removed]",
      "text/plain": [
       "<Figure size 1000x500 with 1 Axes>"
      ]
     },
     "metadata": {},
     "output_type": "display_data"
    }
   ],
   "source": [
    "# Plot\n",
    "plt.figure(figsize = (10,5))\n",
    "plt.bar(x,y, color = 'slateblue')\n",
    "plt.xlabel('Dia da Semana', fontsize = 14, fontweight = 'bold')\n",
    "plt.ylabel('Frequência', fontsize = 14, fontweight = 'bold')\n",
    "plt.xticks(x,['Domingo', 'Segunda', 'Terça', 'Quarta', 'Quinta', 'Sexta', 'Sábado'], rotation = 'vertical')\n",
    "plt.show()"
   ]
  },
  {
   "cell_type": "markdown",
   "metadata": {
    "id": "Vlu0rClmLRX7"
   },
   "source": [
    "### 3- Qual Hora do Dia Tem o Maior Número de Pedidos?"
   ]
  },
  {
   "cell_type": "code",
   "execution_count": 45,
   "metadata": {},
   "outputs": [],
   "source": [
    "# Frequências de pedidos pela hora do dia\n",
    "x = list(range(0,24))\n",
    "y = []\n",
    "for i in range(24):\n",
    "    y.append(order[order['order_hour_of_day']==i].shape[0])"
   ]
  },
  {
   "cell_type": "code",
   "execution_count": 46,
   "metadata": {
    "id": "Wyhr2eJ0LVj0",
    "outputId": "2e7e3254-c9da-4f04-b72b-c88f508bf9dc"
   },
   "outputs": [
    {
     "data": {
      "image/png": "[encoded data removed]",
      "text/plain": [
       "<Figure size 2000x500 with 1 Axes>"
      ]
     },
     "metadata": {},
     "output_type": "display_data"
    }
   ],
   "source": [
    "# Plot\n",
    "plt.figure(figsize = (20,5))\n",
    "plt.bar(x,y,color = 'forestgreen')\n",
    "plt.xticks(np.arange(0,24,1))\n",
    "plt.xlabel('Hora do Dia', fontsize = 14, fontweight = 'bold')\n",
    "plt.ylabel('Frequência', fontsize = 14, fontweight = 'bold')\n",
    "plt.show()"
   ]
  },
  {
   "cell_type": "markdown",
   "metadata": {
    "id": "L5end6XVMW8Z",
    "outputId": "129c7d74-7c86-416c-a345-66a2e2aec374"
   },
   "source": [
    "### 4- Qual Departamento Tem o Maior Número de Pedidos?"
   ]
  },
  {
   "cell_type": "code",
   "execution_count": 47,
   "metadata": {
    "id": "Xj-xJSf48Kw1",
    "outputId": "aea35015-d643-4f89-bce3-88f21bd41579"
   },
   "outputs": [],
   "source": [
    "# Contagem de pedidos por departamento\n",
    "dept_cnt = order_product_prior['department'].value_counts()"
   ]
  },
  {
   "cell_type": "code",
   "execution_count": 48,
   "metadata": {},
   "outputs": [
    {
     "data": {
      "image/png": "[encoded data removed]",
      "text/plain": [
       "<Figure size 2000x1000 with 1 Axes>"
      ]
     },
     "metadata": {},
     "output_type": "display_data"
    }
   ],
   "source": [
    "# Plot\n",
    "fig = plt.figure(figsize = (20,10))\n",
    "dept_cnt.plot(kind = \"bar\", color = 'maroon')\n",
    "plt.xticks(rotation = 90)\n",
    "plt.xlabel('Departmento', fontsize = 14, fontweight = 'bold')\n",
    "plt.ylabel('Frequência', fontsize = 14, fontweight = 'bold')\n",
    "plt.show()"
   ]
  },
  {
   "cell_type": "markdown",
   "metadata": {
    "id": "6vCLr18i8Kw1"
   },
   "source": [
    "### 5- Quais os 20 Principais Corredores Por Frequência de Pedidos?"
   ]
  },
  {
   "cell_type": "code",
   "execution_count": 49,
   "metadata": {},
   "outputs": [],
   "source": [
    "# Os 20 principais corredores e sua frequência de pedidos\n",
    "aisle_cnt = order_product_prior['aisle'].value_counts()"
   ]
  },
  {
   "cell_type": "code",
   "execution_count": 50,
   "metadata": {
    "id": "6DCRRQSL8Kw1",
    "outputId": "81918552-60d6-4fd6-d589-54f49aba3260"
   },
   "outputs": [
    {
     "data": {
      "image/png": "[encoded data removed]",
      "text/plain": [
       "<Figure size 2000x1000 with 1 Axes>"
      ]
     },
     "metadata": {},
     "output_type": "display_data"
    }
   ],
   "source": [
    "# Plot\n",
    "fig = plt.figure(figsize = (20,10))\n",
    "aisle_cnt[0:20].plot(kind = \"bar\", color = 'darkgoldenrod')\n",
    "plt.xticks(rotation = 90)\n",
    "plt.xlabel('Corredor', fontsize = 14, fontweight = 'bold')\n",
    "plt.ylabel('Frequência', fontsize = 14, fontweight = 'bold')\n",
    "plt.show()"
   ]
  },
  {
   "cell_type": "markdown",
   "metadata": {
    "id": "MtMFx3Mh8Kw2"
   },
   "source": [
    "### 6- Quais os 20 Principais Produtos Por Frequência de Pedidos?"
   ]
  },
  {
   "cell_type": "code",
   "execution_count": 51,
   "metadata": {},
   "outputs": [],
   "source": [
    "# Os 20 principais produtos por frequência de pedido\n",
    "prod_cnt = order_product_prior['product_name'].value_counts()"
   ]
  },
  {
   "cell_type": "code",
   "execution_count": 52,
   "metadata": {
    "id": "ZYn_0y6p8Kw2",
    "outputId": "adf8b823-b72e-4bf1-8b6e-391730cfab42",
    "scrolled": true
   },
   "outputs": [
    {
     "data": {
      "image/png": "[encoded data removed]",
      "text/plain": [
       "<Figure size 2000x1000 with 1 Axes>"
      ]
     },
     "metadata": {},
     "output_type": "display_data"
    }
   ],
   "source": [
    "# Plot\n",
    "fig = plt.figure(figsize = (20,10))\n",
    "prod_cnt[0:20].plot(kind = \"bar\", color = 'purple')\n",
    "plt.xticks(rotation = 90)\n",
    "plt.xlabel('Produto', fontsize = 14, fontweight = 'bold')\n",
    "plt.ylabel('Frequência', fontsize = 14, fontweight = 'bold')\n",
    "plt.show()"
   ]
  },
  {
   "cell_type": "markdown",
   "metadata": {
    "id": "Jz3Ulxi98Kw2"
   },
   "source": [
    "### 7- Análise de Novos Pedidos Semelhantes a Pedidos Anteriores (reorder)"
   ]
  },
  {
   "cell_type": "code",
   "execution_count": 53,
   "metadata": {
    "id": "-WNkyckR8Kw2"
   },
   "outputs": [
    {
     "name": "stdout",
     "output_type": "stream",
     "text": [
      "CPU times: total: 5.5 s\n",
      "Wall time: 6.61 s\n"
     ]
    }
   ],
   "source": [
    "%%time\n",
    "temp_df = order_product_prior.groupby(\"product_name\")[\"reordered\"].agg(['count', 'sum']).rename(columns = {'count':'total','sum':'reorders'})\n",
    "temp_df = temp_df.sort_values('total', ascending = False).reset_index()\n"
   ]
  },
  {
   "cell_type": "code",
   "execution_count": 54,
   "metadata": {},
   "outputs": [],
   "source": [
    "# Prepara as listas\n",
    "labels = list(temp_df.product_name[0:20])\n",
    "reorder = list(temp_df.reorders[0:20])\n",
    "total = list(temp_df.total[0:20])    "
   ]
  },
  {
   "cell_type": "code",
   "execution_count": 55,
   "metadata": {
    "id": "7mzSUbd_8Kw2",
    "outputId": "cd5ed0ea-175b-4abf-8d3d-ce75a90d91d8"
   },
   "outputs": [
    {
     "data": {
      "image/png": "[encoded data removed]",
      "text/plain": [
       "<Figure size 2000x1000 with 1 Axes>"
      ]
     },
     "metadata": {},
     "output_type": "display_data"
    }
   ],
   "source": [
    "# Plot  \n",
    "width = 0.35 \n",
    "fig, ax = plt.subplots(figsize = (20,10))\n",
    "ax.bar(labels, reorder, width, label = 'Reorder', color = 'green')\n",
    "ax.bar(labels, total, width, bottom = reorder, label = 'Total', color = 'red')\n",
    "ax.set_ylabel('Total de Pedidos', fontsize = 14, fontweight = 'bold')\n",
    "ax.legend()\n",
    "ax.set_title(\"Produtos Mais Populares\")\n",
    "plt.xticks(rotation = 90)\n",
    "plt.show()"
   ]
  },
  {
   "cell_type": "markdown",
   "metadata": {},
   "source": [
    "### 7- Análise de Reorder Por Departamento ao Longo do Tempo"
   ]
  },
  {
   "cell_type": "code",
   "execution_count": 56,
   "metadata": {
    "id": "kdITWPAA8Kw3",
    "outputId": "d5259442-848e-4aa8-9f95-c205383ef09e"
   },
   "outputs": [
    {
     "data": {
      "text/html": [
       "<div>\n",
       "<style scoped>\n",
       "    .dataframe tbody tr th:only-of-type {\n",
       "        vertical-align: middle;\n",
       "    }\n",
       "\n",
       "    .dataframe tbody tr th {\n",
       "        vertical-align: top;\n",
       "    }\n",
       "\n",
       "    .dataframe thead th {\n",
       "        text-align: right;\n",
       "    }\n",
       "</style>\n",
       "<table border=\"1\" class=\"dataframe\">\n",
       "  <thead>\n",
       "    <tr style=\"text-align: right;\">\n",
       "      <th></th>\n",
       "      <th>department</th>\n",
       "      <th>reordered</th>\n",
       "    </tr>\n",
       "  </thead>\n",
       "  <tbody>\n",
       "    <tr>\n",
       "      <th>0</th>\n",
       "      <td>alcohol</td>\n",
       "      <td>0.569924</td>\n",
       "    </tr>\n",
       "    <tr>\n",
       "      <th>1</th>\n",
       "      <td>babies</td>\n",
       "      <td>0.578971</td>\n",
       "    </tr>\n",
       "    <tr>\n",
       "      <th>2</th>\n",
       "      <td>bakery</td>\n",
       "      <td>0.628141</td>\n",
       "    </tr>\n",
       "    <tr>\n",
       "      <th>3</th>\n",
       "      <td>beverages</td>\n",
       "      <td>0.653460</td>\n",
       "    </tr>\n",
       "    <tr>\n",
       "      <th>4</th>\n",
       "      <td>breakfast</td>\n",
       "      <td>0.560922</td>\n",
       "    </tr>\n",
       "  </tbody>\n",
       "</table>\n",
       "</div>"
      ],
      "text/plain": [
       "  department  reordered\n",
       "0    alcohol   0.569924\n",
       "1     babies   0.578971\n",
       "2     bakery   0.628141\n",
       "3  beverages   0.653460\n",
       "4  breakfast   0.560922"
      ]
     },
     "execution_count": 56,
     "metadata": {},
     "output_type": "execute_result"
    }
   ],
   "source": [
    "# Agrupando os dados por departamento e reorder\n",
    "grouped_df = order_product_prior.groupby([\"department\"])[\"reordered\"].aggregate(\"mean\").reset_index()\n",
    "grouped_df.head()"
   ]
  },
  {
   "cell_type": "code",
   "execution_count": 57,
   "metadata": {
    "id": "dIuH36Sz8Kw3",
    "outputId": "e89ae605-97ab-4354-acc8-db58c27c5e14"
   },
   "outputs": [
    {
     "data": {
      "image/png": "[encoded data removed]",
      "text/plain": [
       "<Figure size 1200x800 with 1 Axes>"
      ]
     },
     "metadata": {},
     "output_type": "display_data"
    }
   ],
   "source": [
    "# Plot\n",
    "plt.figure(figsize = (12,8))\n",
    "plt.plot(list(grouped_df['department']), grouped_df['reordered'].values, alpha=0.8)\n",
    "plt.scatter(list(grouped_df['department']), grouped_df['reordered'].values)\n",
    "plt.ylabel('Taxa de Reorder', fontsize = 12)\n",
    "plt.xlabel('Departmento', fontsize = 12)\n",
    "plt.title(\"Departmento x Taxa de Reorder\", fontsize = 15)\n",
    "plt.xticks(rotation = 'vertical')\n",
    "plt.show()"
   ]
  },
  {
   "cell_type": "markdown",
   "metadata": {},
   "source": [
    "### 8- Análise de Reorder e Pedidos"
   ]
  },
  {
   "cell_type": "code",
   "execution_count": 59,
   "metadata": {
    "id": "4Qa5SQu58Kw3"
   },
   "outputs": [
    {
     "name": "stdout",
     "output_type": "stream",
     "text": [
      "CPU times: total: 2.19 s\n",
      "Wall time: 2.39 s\n"
     ]
    }
   ],
   "source": [
    "%%time\n",
    "temp_df = order_product_prior.groupby(\"department\")[\"reordered\"].agg(['count', 'sum']).rename(columns = {'count':'total','sum':'reorders'})\n",
    "temp_df = temp_df.sort_values('total', ascending = False).reset_index()\n"
   ]
  },
  {
   "cell_type": "code",
   "execution_count": 60,
   "metadata": {
    "id": "Qk_oMOxj8Kw3",
    "outputId": "70aae430-8773-4236-edd2-aca46c233137"
   },
   "outputs": [
    {
     "data": {
      "text/html": [
       "<div>\n",
       "<style scoped>\n",
       "    .dataframe tbody tr th:only-of-type {\n",
       "        vertical-align: middle;\n",
       "    }\n",
       "\n",
       "    .dataframe tbody tr th {\n",
       "        vertical-align: top;\n",
       "    }\n",
       "\n",
       "    .dataframe thead th {\n",
       "        text-align: right;\n",
       "    }\n",
       "</style>\n",
       "<table border=\"1\" class=\"dataframe\">\n",
       "  <thead>\n",
       "    <tr style=\"text-align: right;\">\n",
       "      <th></th>\n",
       "      <th>department</th>\n",
       "      <th>total</th>\n",
       "      <th>reorders</th>\n",
       "    </tr>\n",
       "  </thead>\n",
       "  <tbody>\n",
       "    <tr>\n",
       "      <th>0</th>\n",
       "      <td>produce</td>\n",
       "      <td>9479291</td>\n",
       "      <td>6160710</td>\n",
       "    </tr>\n",
       "    <tr>\n",
       "      <th>1</th>\n",
       "      <td>dairy eggs</td>\n",
       "      <td>5414016</td>\n",
       "      <td>3627221</td>\n",
       "    </tr>\n",
       "    <tr>\n",
       "      <th>2</th>\n",
       "      <td>snacks</td>\n",
       "      <td>2887550</td>\n",
       "      <td>1657973</td>\n",
       "    </tr>\n",
       "    <tr>\n",
       "      <th>3</th>\n",
       "      <td>beverages</td>\n",
       "      <td>2690129</td>\n",
       "      <td>1757892</td>\n",
       "    </tr>\n",
       "    <tr>\n",
       "      <th>4</th>\n",
       "      <td>frozen</td>\n",
       "      <td>2236432</td>\n",
       "      <td>1211890</td>\n",
       "    </tr>\n",
       "  </tbody>\n",
       "</table>\n",
       "</div>"
      ],
      "text/plain": [
       "   department    total  reorders\n",
       "0     produce  9479291   6160710\n",
       "1  dairy eggs  5414016   3627221\n",
       "2      snacks  2887550   1657973\n",
       "3   beverages  2690129   1757892\n",
       "4      frozen  2236432   1211890"
      ]
     },
     "execution_count": 60,
     "metadata": {},
     "output_type": "execute_result"
    }
   ],
   "source": [
    "temp_df.head()"
   ]
  },
  {
   "cell_type": "code",
   "execution_count": 61,
   "metadata": {},
   "outputs": [],
   "source": [
    "# Listas\n",
    "labels = list(temp_df.department[0:20])\n",
    "reorder = list(temp_df.reorders[0:20])\n",
    "total = list(temp_df.total[0:20])"
   ]
  },
  {
   "cell_type": "code",
   "execution_count": 62,
   "metadata": {
    "id": "RlYcMZWB8Kw4",
    "outputId": "094057fc-2eba-4679-8f4e-fe6ed46dad6c"
   },
   "outputs": [
    {
     "data": {
      "image/png": "[encoded data removed]",
      "text/plain": [
       "<Figure size 2000x1000 with 1 Axes>"
      ]
     },
     "metadata": {},
     "output_type": "display_data"
    }
   ],
   "source": [
    "# Plot\n",
    "width = 0.35  \n",
    "fig, ax = plt.subplots(figsize = (20,10))\n",
    "ax.bar(labels, reorder, width, label = 'Reorder', color = 'magenta')\n",
    "ax.bar(labels, total, width, bottom = reorder, label = 'Pedidos', color = 'blue')\n",
    "ax.set_ylabel('Total de Pedidos', fontsize = 14, fontweight = 'bold')\n",
    "ax.legend()\n",
    "ax.set_title(\"Total de Pedidos e Reorders dos Departmentos\")\n",
    "plt.xticks(rotation = 90)\n",
    "plt.show()"
   ]
  },
  {
   "cell_type": "markdown",
   "metadata": {},
   "source": [
    "### 9- Análise de Reorder Por Corredor"
   ]
  },
  {
   "cell_type": "code",
   "execution_count": 63,
   "metadata": {
    "id": "b_ak9rsN8Kw4",
    "outputId": "4a2c498d-ffb6-4cc8-9988-39129f7094d4"
   },
   "outputs": [
    {
     "data": {
      "text/html": [
       "<div>\n",
       "<style scoped>\n",
       "    .dataframe tbody tr th:only-of-type {\n",
       "        vertical-align: middle;\n",
       "    }\n",
       "\n",
       "    .dataframe tbody tr th {\n",
       "        vertical-align: top;\n",
       "    }\n",
       "\n",
       "    .dataframe thead th {\n",
       "        text-align: right;\n",
       "    }\n",
       "</style>\n",
       "<table border=\"1\" class=\"dataframe\">\n",
       "  <thead>\n",
       "    <tr style=\"text-align: right;\">\n",
       "      <th></th>\n",
       "      <th>aisle</th>\n",
       "      <th>reordered</th>\n",
       "    </tr>\n",
       "  </thead>\n",
       "  <tbody>\n",
       "    <tr>\n",
       "      <th>0</th>\n",
       "      <td>air fresheners candles</td>\n",
       "      <td>0.309052</td>\n",
       "    </tr>\n",
       "    <tr>\n",
       "      <th>1</th>\n",
       "      <td>asian foods</td>\n",
       "      <td>0.351132</td>\n",
       "    </tr>\n",
       "    <tr>\n",
       "      <th>2</th>\n",
       "      <td>baby accessories</td>\n",
       "      <td>0.550980</td>\n",
       "    </tr>\n",
       "    <tr>\n",
       "      <th>3</th>\n",
       "      <td>baby bath body care</td>\n",
       "      <td>0.295770</td>\n",
       "    </tr>\n",
       "    <tr>\n",
       "      <th>4</th>\n",
       "      <td>baby food formula</td>\n",
       "      <td>0.590259</td>\n",
       "    </tr>\n",
       "  </tbody>\n",
       "</table>\n",
       "</div>"
      ],
      "text/plain": [
       "                    aisle  reordered\n",
       "0  air fresheners candles   0.309052\n",
       "1             asian foods   0.351132\n",
       "2        baby accessories   0.550980\n",
       "3     baby bath body care   0.295770\n",
       "4       baby food formula   0.590259"
      ]
     },
     "execution_count": 63,
     "metadata": {},
     "output_type": "execute_result"
    }
   ],
   "source": [
    "grouped_df = order_product_prior.groupby([\"aisle\"])[\"reordered\"].aggregate(\"mean\").reset_index()\n",
    "grouped_df.head()"
   ]
  },
  {
   "cell_type": "code",
   "execution_count": 64,
   "metadata": {
    "id": "apgxk92p8Kw4",
    "outputId": "4408de19-3532-4d2f-e5f8-38d9c0eb2843"
   },
   "outputs": [
    {
     "data": {
      "text/plain": [
       "['air fresheners candles',\n",
       " 'asian foods',\n",
       " 'baby accessories',\n",
       " 'baby bath body care',\n",
       " 'baby food formula',\n",
       " 'bakery desserts',\n",
       " 'baking ingredients',\n",
       " 'baking supplies decor',\n",
       " 'beauty',\n",
       " 'beers coolers',\n",
       " 'body lotions soap',\n",
       " 'bread',\n",
       " 'breakfast bakery',\n",
       " 'breakfast bars pastries',\n",
       " 'bulk dried fruits vegetables',\n",
       " 'bulk grains rice dried goods',\n",
       " 'buns rolls',\n",
       " 'butter',\n",
       " 'candy chocolate',\n",
       " 'canned fruit applesauce']"
      ]
     },
     "execution_count": 64,
     "metadata": {},
     "output_type": "execute_result"
    }
   ],
   "source": [
    "list(grouped_df['aisle'])[0:20]"
   ]
  },
  {
   "cell_type": "code",
   "execution_count": 67,
   "metadata": {
    "id": "XtPU9gHY8Kw4",
    "outputId": "810e0a0e-8eb0-4666-e9ed-909b39ae2e3e"
   },
   "outputs": [
    {
     "data": {
      "image/png": "[encoded data removed]",
      "text/plain": [
       "<Figure size 1400x700 with 1 Axes>"
      ]
     },
     "metadata": {},
     "output_type": "display_data"
    }
   ],
   "source": [
    "# Corredor x Taxa de Reorder\n",
    "plt.figure(figsize=(14,7))\n",
    "plt.plot(list(grouped_df['aisle'])[0:20], grouped_df['reordered'].values[0:20], alpha=0.8)\n",
    "plt.scatter(list(grouped_df['aisle'])[0:20], grouped_df['reordered'].values[0:20])\n",
    "plt.ylabel('Taxa de Reorder', fontsize=12)\n",
    "plt.xlabel('Corredor', fontsize=12)\n",
    "plt.title(\"Corredor x Taxa de Reorder\", fontsize = 15)\n",
    "plt.xticks(rotation = 'vertical')\n",
    "plt.show()"
   ]
  },
  {
   "cell_type": "markdown",
   "metadata": {},
   "source": [
    "### 10- Análise de Reorder Por Corredor (Total)"
   ]
  },
  {
   "cell_type": "code",
   "execution_count": 66,
   "metadata": {
    "id": "EswFp6lP8Kw4"
   },
   "outputs": [
    {
     "name": "stdout",
     "output_type": "stream",
     "text": [
      "CPU times: total: 2.66 s\n",
      "Wall time: 2.97 s\n"
     ]
    }
   ],
   "source": [
    "%%time\n",
    "temp_df = order_product_prior.groupby(\"aisle\")[\"reordered\"].agg(['count', 'sum']).rename(columns = {'count':'total','sum':'reorders'})\n",
    "temp_df = temp_df.sort_values('total', ascending = False).reset_index()\n"
   ]
  },
  {
   "cell_type": "code",
   "execution_count": 68,
   "metadata": {
    "id": "UhQRe5FZ8Kw4",
    "outputId": "fb0230d3-4e6b-4c64-d2dc-bd78a1c48b0f"
   },
   "outputs": [
    {
     "data": {
      "text/html": [
       "<div>\n",
       "<style scoped>\n",
       "    .dataframe tbody tr th:only-of-type {\n",
       "        vertical-align: middle;\n",
       "    }\n",
       "\n",
       "    .dataframe tbody tr th {\n",
       "        vertical-align: top;\n",
       "    }\n",
       "\n",
       "    .dataframe thead th {\n",
       "        text-align: right;\n",
       "    }\n",
       "</style>\n",
       "<table border=\"1\" class=\"dataframe\">\n",
       "  <thead>\n",
       "    <tr style=\"text-align: right;\">\n",
       "      <th></th>\n",
       "      <th>aisle</th>\n",
       "      <th>total</th>\n",
       "      <th>reorders</th>\n",
       "    </tr>\n",
       "  </thead>\n",
       "  <tbody>\n",
       "    <tr>\n",
       "      <th>0</th>\n",
       "      <td>fresh fruits</td>\n",
       "      <td>3642188</td>\n",
       "      <td>2615469</td>\n",
       "    </tr>\n",
       "    <tr>\n",
       "      <th>1</th>\n",
       "      <td>fresh vegetables</td>\n",
       "      <td>3418021</td>\n",
       "      <td>2032172</td>\n",
       "    </tr>\n",
       "    <tr>\n",
       "      <th>2</th>\n",
       "      <td>packaged vegetables fruits</td>\n",
       "      <td>1765313</td>\n",
       "      <td>1127177</td>\n",
       "    </tr>\n",
       "    <tr>\n",
       "      <th>3</th>\n",
       "      <td>yogurt</td>\n",
       "      <td>1452343</td>\n",
       "      <td>997018</td>\n",
       "    </tr>\n",
       "    <tr>\n",
       "      <th>4</th>\n",
       "      <td>packaged cheese</td>\n",
       "      <td>979763</td>\n",
       "      <td>573383</td>\n",
       "    </tr>\n",
       "  </tbody>\n",
       "</table>\n",
       "</div>"
      ],
      "text/plain": [
       "                        aisle    total  reorders\n",
       "0                fresh fruits  3642188   2615469\n",
       "1            fresh vegetables  3418021   2032172\n",
       "2  packaged vegetables fruits  1765313   1127177\n",
       "3                      yogurt  1452343    997018\n",
       "4             packaged cheese   979763    573383"
      ]
     },
     "execution_count": 68,
     "metadata": {},
     "output_type": "execute_result"
    }
   ],
   "source": [
    "temp_df.head()"
   ]
  },
  {
   "cell_type": "code",
   "execution_count": 69,
   "metadata": {},
   "outputs": [],
   "source": [
    "# Listas\n",
    "labels = list(temp_df.aisle[0:20])\n",
    "reorder = list(temp_df.reorders[0:20])\n",
    "total = list(temp_df.total[0:20])"
   ]
  },
  {
   "cell_type": "code",
   "execution_count": 70,
   "metadata": {
    "id": "jFu5lDCY8Kw5",
    "outputId": "ef697245-915f-48da-d33e-2a8b9eb4ca89"
   },
   "outputs": [
    {
     "data": {
      "image/png": "[encoded data removed]",
      "text/plain": [
       "<Figure size 2000x1000 with 1 Axes>"
      ]
     },
     "metadata": {},
     "output_type": "display_data"
    }
   ],
   "source": [
    "# Plot\n",
    "width = 0.35      \n",
    "fig, ax = plt.subplots(figsize = (20,10))\n",
    "ax.bar(labels, reorder, width, label = 'Reorder', color = 'green')\n",
    "ax.bar(labels, total, width, bottom = reorder, label = 'Total', color = 'red')\n",
    "ax.set_ylabel('Total de Pedidos', fontsize = 14, fontweight = 'bold')\n",
    "ax.legend()\n",
    "ax.set_title(\"Total de Pedidos e Reorders dos Corredores\")\n",
    "plt.xticks(rotation = 90)\n",
    "plt.show()"
   ]
  },
  {
   "cell_type": "markdown",
   "metadata": {
    "id": "HMt_QFRB8Kw5"
   },
   "source": [
    "> Vamos verificar a relação entre como a ordem de adição do produto ao carrinho afeta a proporção de novos pedidos"
   ]
  },
  {
   "cell_type": "code",
   "execution_count": 72,
   "metadata": {},
   "outputs": [],
   "source": [
    "import warnings\n",
    "warnings.filterwarnings('ignore')"
   ]
  },
  {
   "cell_type": "code",
   "execution_count": 73,
   "metadata": {},
   "outputs": [],
   "source": [
    "!pip install -q shutup"
   ]
  },
  {
   "cell_type": "code",
   "execution_count": 74,
   "metadata": {},
   "outputs": [],
   "source": [
    "import shutup; shutup.please()"
   ]
  },
  {
   "cell_type": "code",
   "execution_count": 75,
   "metadata": {
    "id": "AC47rxvl8Kw5",
    "outputId": "76142fa5-ba7a-48e5-fd8c-a8c52f0108ae"
   },
   "outputs": [],
   "source": [
    "order_product_prior[\"add_to_cart_order_mod\"] = order_product_prior[\"add_to_cart_order\"].copy()\n",
    "order_product_prior[\"add_to_cart_order_mod\"].loc[order_product_prior[\"add_to_cart_order_mod\"] > 70] = 70\n",
    "grouped_df = order_product_prior.groupby([\"add_to_cart_order_mod\"])[\"reordered\"].aggregate(\"mean\").reset_index()"
   ]
  },
  {
   "cell_type": "code",
   "execution_count": 76,
   "metadata": {
    "id": "RzFR0Yep8Kw5",
    "outputId": "147fe536-1f46-452d-ce64-97b3bb9f40f1"
   },
   "outputs": [
    {
     "data": {
      "text/html": [
       "<div>\n",
       "<style scoped>\n",
       "    .dataframe tbody tr th:only-of-type {\n",
       "        vertical-align: middle;\n",
       "    }\n",
       "\n",
       "    .dataframe tbody tr th {\n",
       "        vertical-align: top;\n",
       "    }\n",
       "\n",
       "    .dataframe thead th {\n",
       "        text-align: right;\n",
       "    }\n",
       "</style>\n",
       "<table border=\"1\" class=\"dataframe\">\n",
       "  <thead>\n",
       "    <tr style=\"text-align: right;\">\n",
       "      <th></th>\n",
       "      <th>add_to_cart_order_mod</th>\n",
       "      <th>reordered</th>\n",
       "    </tr>\n",
       "  </thead>\n",
       "  <tbody>\n",
       "    <tr>\n",
       "      <th>0</th>\n",
       "      <td>1</td>\n",
       "      <td>0.677533</td>\n",
       "    </tr>\n",
       "    <tr>\n",
       "      <th>1</th>\n",
       "      <td>2</td>\n",
       "      <td>0.676251</td>\n",
       "    </tr>\n",
       "    <tr>\n",
       "      <th>2</th>\n",
       "      <td>3</td>\n",
       "      <td>0.658037</td>\n",
       "    </tr>\n",
       "    <tr>\n",
       "      <th>3</th>\n",
       "      <td>4</td>\n",
       "      <td>0.636958</td>\n",
       "    </tr>\n",
       "    <tr>\n",
       "      <th>4</th>\n",
       "      <td>5</td>\n",
       "      <td>0.617383</td>\n",
       "    </tr>\n",
       "    <tr>\n",
       "      <th>5</th>\n",
       "      <td>6</td>\n",
       "      <td>0.600420</td>\n",
       "    </tr>\n",
       "    <tr>\n",
       "      <th>6</th>\n",
       "      <td>7</td>\n",
       "      <td>0.585687</td>\n",
       "    </tr>\n",
       "    <tr>\n",
       "      <th>7</th>\n",
       "      <td>8</td>\n",
       "      <td>0.573247</td>\n",
       "    </tr>\n",
       "    <tr>\n",
       "      <th>8</th>\n",
       "      <td>9</td>\n",
       "      <td>0.561474</td>\n",
       "    </tr>\n",
       "    <tr>\n",
       "      <th>9</th>\n",
       "      <td>10</td>\n",
       "      <td>0.551018</td>\n",
       "    </tr>\n",
       "  </tbody>\n",
       "</table>\n",
       "</div>"
      ],
      "text/plain": [
       "   add_to_cart_order_mod  reordered\n",
       "0                      1   0.677533\n",
       "1                      2   0.676251\n",
       "2                      3   0.658037\n",
       "3                      4   0.636958\n",
       "4                      5   0.617383\n",
       "5                      6   0.600420\n",
       "6                      7   0.585687\n",
       "7                      8   0.573247\n",
       "8                      9   0.561474\n",
       "9                     10   0.551018"
      ]
     },
     "execution_count": 76,
     "metadata": {},
     "output_type": "execute_result"
    }
   ],
   "source": [
    "grouped_df.head(10)"
   ]
  },
  {
   "cell_type": "markdown",
   "metadata": {
    "id": "vbFsBoCY8Kw6"
   },
   "source": [
    "## Implementação do Algoritmo Apriori"
   ]
  },
  {
   "cell_type": "code",
   "execution_count": 92,
   "metadata": {
    "id": "Ck9rRfcc8Kw6"
   },
   "outputs": [],
   "source": [
    "# Prepara a tupla com as transações\n",
    "transactions_tup = [tuple(row) for row in transactions['Products'].tolist()]"
   ]
  },
  {
   "cell_type": "markdown",
   "metadata": {
    "id": "HY1Kftp18Kw6"
   },
   "source": [
    "### Executa o Algoritmo Apriori Com Support = 0.01 e Confidence = 0.2"
   ]
  },
  {
   "cell_type": "code",
   "execution_count": 93,
   "metadata": {
    "id": "QPld36368Kw6",
    "outputId": "016e2c36-734a-4cd9-f94d-ed8270335a16"
   },
   "outputs": [
    {
     "name": "stdout",
     "output_type": "stream",
     "text": [
      "Tempo de Execução :  0:00:39.162597\n"
     ]
    }
   ],
   "source": [
    "st = datetime.now()\n",
    "itemsets_ap, rules_ap = apriori(transactions_tup, min_support = 0.01, min_confidence = 0.2)\n",
    "print('Tempo de Execução : ', datetime.now() - st)"
   ]
  },
  {
   "cell_type": "code",
   "execution_count": 112,
   "metadata": {
    "id": "iAJ7tVz38Kw6",
    "outputId": "9f4d3d9e-d9ea-47b8-eab4-36404a4755c1"
   },
   "outputs": [
    {
     "data": {
      "text/plain": [
       "[{21137} -> {13176},\n",
       " {21903} -> {13176},\n",
       " {27966} -> {13176},\n",
       " {47209} -> {13176},\n",
       " {16797} -> {24852},\n",
       " {21137} -> {24852},\n",
       " {27966} -> {21137},\n",
       " {21903} -> {24852},\n",
       " {28204} -> {24852},\n",
       " {47626} -> {24852},\n",
       " {47766} -> {24852}]"
      ]
     },
     "execution_count": 112,
     "metadata": {},
     "output_type": "execute_result"
    }
   ],
   "source": [
    "rules_ap"
   ]
  },
  {
   "cell_type": "code",
   "execution_count": 114,
   "metadata": {},
   "outputs": [
    {
     "name": "stdout",
     "output_type": "stream",
     "text": [
      "DataFrame resultante:\n",
      "    itemA  itemB\n",
      "0   21137  13176\n",
      "1   21903  13176\n",
      "2   27966  13176\n",
      "3   47209  13176\n",
      "4   16797  24852\n",
      "5   21137  24852\n",
      "6   27966  21137\n",
      "7   21903  24852\n",
      "8   28204  24852\n",
      "9   47626  24852\n",
      "10  47766  24852\n",
      "\n",
      "Total de regras processadas: 11\n"
     ]
    }
   ],
   "source": [
    "def extrair_regras_ap(rules_ap):\n",
    "    item_A = []\n",
    "    item_B = []\n",
    "    \n",
    "    for regra in rules_ap:\n",
    "        # Converter para string\n",
    "        regra_str = str(regra)\n",
    "        \n",
    "        # Exemplo: \"{21137} -> {13176} (conf: 0.233, supp: 0.019, lift: 1.973, conv: 1.150)\"\n",
    "        # Pegar apenas a parte antes dos parênteses\n",
    "        parte_regra = regra_str.split(' (conf:')[0]\n",
    "        \n",
    "        # Dividir pela seta\n",
    "        partes = parte_regra.split(' -> ')\n",
    "        \n",
    "        # Extrair números - remover chaves e espaços\n",
    "        num_A = partes[0].replace('{', '').replace('}', '').strip()\n",
    "        num_B = partes[1].replace('{', '').replace('}', '').strip()\n",
    "        \n",
    "        item_A.append(int(num_A))\n",
    "        item_B.append(int(num_B))\n",
    "    \n",
    "    return item_A, item_B\n",
    "\n",
    "# Uso\n",
    "item_A, item_B = extrair_regras_ap(rules_ap)\n",
    "df_regras = pd.DataFrame({'itemA': item_A, 'itemB': item_B})\n",
    "print(\"DataFrame resultante:\")\n",
    "print(df_regras)\n",
    "print(f\"\\nTotal de regras processadas: {len(df_regras)}\")"
   ]
  },
  {
   "cell_type": "code",
   "execution_count": 115,
   "metadata": {
    "id": "dHu4BZdd8Kw6"
   },
   "outputs": [],
   "source": [
    "# Listas de itens para considerar\n",
    "temp = pd.DataFrame()\n",
    "temp['itemA'] = item_A\n",
    "temp['itemB'] = item_B"
   ]
  },
  {
   "cell_type": "code",
   "execution_count": 116,
   "metadata": {},
   "outputs": [],
   "source": [
    "# Listas para as métricas\n",
    "support_A = []\n",
    "support_B = []\n",
    "support_AB = []\n",
    "confidence_AB = []\n",
    "lift_AB = []"
   ]
  },
  {
   "cell_type": "code",
   "execution_count": 117,
   "metadata": {
    "id": "A8xRXLp18Kw6"
   },
   "outputs": [],
   "source": [
    "# Loop\n",
    "for i in range(len(temp)):\n",
    "    \n",
    "    # Calcula o support de A\n",
    "    support_A.append(itemsets_ap[1][tuple([temp['itemA'][i],])] / 500000)\n",
    "    \n",
    "    # Calcula o support de B\n",
    "    support_B.append(itemsets_ap[1][tuple([temp['itemB'][i],])] / 500000)\n",
    "    \n",
    "    # Calcula o support de A e B\n",
    "    if tuple([temp['itemA'][i],temp['itemB'][i]]) in itemsets_ap[2].keys():\n",
    "        support_AB.append(itemsets_ap[2][tuple([temp['itemA'][i],temp['itemB'][i]])] / 500000)\n",
    "    else:\n",
    "        support_AB.append(itemsets_ap[2][tuple([temp['itemB'][i],temp['itemA'][i]])] / 500000)\n",
    "    \n",
    "    # Calcula a confidence\n",
    "    confidence_AB.append(support_AB[i] / support_A[i])\n",
    "    \n",
    "    # Calcula o lift\n",
    "    lift_AB.append(support_AB[i] / (support_A[i] * support_B[i]))"
   ]
  },
  {
   "cell_type": "code",
   "execution_count": 118,
   "metadata": {
    "id": "CyiFSU6W8Kw7"
   },
   "outputs": [],
   "source": [
    "# Dataframe com as regras de associação\n",
    "df_rules_ap = pd.DataFrame()\n",
    "df_rules_ap['product_id'] = item_A\n",
    "df_rules_ap = df_rules_ap.merge(product, on = 'product_id', how = 'left')\n",
    "df_rules_ap['Product_A'] = df_rules_ap['product_name']\n",
    "df_rules_ap = df_rules_ap.drop(columns = ['product_id','product_name','aisle_id','department_id'], axis = 1)\n",
    "df_rules_ap['product_id'] = item_B\n",
    "df_rules_ap = df_rules_ap.merge(product, on = 'product_id', how = 'left')\n",
    "df_rules_ap['Product_B'] = df_rules_ap['product_name']\n",
    "df_rules_ap = df_rules_ap.drop(columns = ['product_id','product_name','aisle_id','department_id'], axis = 1)\n",
    "\n",
    "df_rules_ap['Support_A'] = support_A\n",
    "df_rules_ap['Support_B'] = support_B\n",
    "df_rules_ap['Support_AB'] = support_AB\n",
    "df_rules_ap['Confidence_AB'] = confidence_AB\n",
    "df_rules_ap['Lift_AB'] = lift_AB"
   ]
  },
  {
   "cell_type": "code",
   "execution_count": 119,
   "metadata": {
    "id": "TlwA4R028Kw7",
    "outputId": "dbbc09b7-2851-4fb1-a3df-0790cdd5701d",
    "scrolled": true
   },
   "outputs": [
    {
     "data": {
      "text/html": [
       "<div>\n",
       "<style scoped>\n",
       "    .dataframe tbody tr th:only-of-type {\n",
       "        vertical-align: middle;\n",
       "    }\n",
       "\n",
       "    .dataframe tbody tr th {\n",
       "        vertical-align: top;\n",
       "    }\n",
       "\n",
       "    .dataframe thead th {\n",
       "        text-align: right;\n",
       "    }\n",
       "</style>\n",
       "<table border=\"1\" class=\"dataframe\">\n",
       "  <thead>\n",
       "    <tr style=\"text-align: right;\">\n",
       "      <th></th>\n",
       "      <th>Product_A</th>\n",
       "      <th>Product_B</th>\n",
       "      <th>Support_A</th>\n",
       "      <th>Support_B</th>\n",
       "      <th>Support_AB</th>\n",
       "      <th>Confidence_AB</th>\n",
       "      <th>Lift_AB</th>\n",
       "    </tr>\n",
       "  </thead>\n",
       "  <tbody>\n",
       "    <tr>\n",
       "      <th>8</th>\n",
       "      <td>Organic Fuji Apple</td>\n",
       "      <td>Banana</td>\n",
       "      <td>0.179264</td>\n",
       "      <td>0.945130</td>\n",
       "      <td>0.067886</td>\n",
       "      <td>0.378693</td>\n",
       "      <td>0.400678</td>\n",
       "    </tr>\n",
       "    <tr>\n",
       "      <th>10</th>\n",
       "      <td>Organic Avocado</td>\n",
       "      <td>Banana</td>\n",
       "      <td>0.353630</td>\n",
       "      <td>0.945130</td>\n",
       "      <td>0.106790</td>\n",
       "      <td>0.301982</td>\n",
       "      <td>0.319514</td>\n",
       "    </tr>\n",
       "    <tr>\n",
       "      <th>2</th>\n",
       "      <td>Organic Raspberries</td>\n",
       "      <td>Bag of Organic Bananas</td>\n",
       "      <td>0.274114</td>\n",
       "      <td>0.758900</td>\n",
       "      <td>0.081006</td>\n",
       "      <td>0.295519</td>\n",
       "      <td>0.389405</td>\n",
       "    </tr>\n",
       "    <tr>\n",
       "      <th>3</th>\n",
       "      <td>Organic Hass Avocado</td>\n",
       "      <td>Bag of Organic Bananas</td>\n",
       "      <td>0.427168</td>\n",
       "      <td>0.758900</td>\n",
       "      <td>0.124682</td>\n",
       "      <td>0.291880</td>\n",
       "      <td>0.384610</td>\n",
       "    </tr>\n",
       "    <tr>\n",
       "      <th>4</th>\n",
       "      <td>Strawberries</td>\n",
       "      <td>Banana</td>\n",
       "      <td>0.285902</td>\n",
       "      <td>0.945130</td>\n",
       "      <td>0.082464</td>\n",
       "      <td>0.288434</td>\n",
       "      <td>0.305180</td>\n",
       "    </tr>\n",
       "    <tr>\n",
       "      <th>9</th>\n",
       "      <td>Large Lemon</td>\n",
       "      <td>Banana</td>\n",
       "      <td>0.305314</td>\n",
       "      <td>0.945130</td>\n",
       "      <td>0.081760</td>\n",
       "      <td>0.267790</td>\n",
       "      <td>0.283337</td>\n",
       "    </tr>\n",
       "    <tr>\n",
       "      <th>6</th>\n",
       "      <td>Organic Raspberries</td>\n",
       "      <td>Organic Strawberries</td>\n",
       "      <td>0.274114</td>\n",
       "      <td>0.529366</td>\n",
       "      <td>0.067726</td>\n",
       "      <td>0.247072</td>\n",
       "      <td>0.466733</td>\n",
       "    </tr>\n",
       "    <tr>\n",
       "      <th>0</th>\n",
       "      <td>Organic Strawberries</td>\n",
       "      <td>Bag of Organic Bananas</td>\n",
       "      <td>0.529366</td>\n",
       "      <td>0.758900</td>\n",
       "      <td>0.123256</td>\n",
       "      <td>0.232837</td>\n",
       "      <td>0.306809</td>\n",
       "    </tr>\n",
       "    <tr>\n",
       "      <th>7</th>\n",
       "      <td>Organic Baby Spinach</td>\n",
       "      <td>Banana</td>\n",
       "      <td>0.483842</td>\n",
       "      <td>0.945130</td>\n",
       "      <td>0.102790</td>\n",
       "      <td>0.212445</td>\n",
       "      <td>0.224779</td>\n",
       "    </tr>\n",
       "    <tr>\n",
       "      <th>5</th>\n",
       "      <td>Organic Strawberries</td>\n",
       "      <td>Banana</td>\n",
       "      <td>0.529366</td>\n",
       "      <td>0.945130</td>\n",
       "      <td>0.112312</td>\n",
       "      <td>0.212163</td>\n",
       "      <td>0.224480</td>\n",
       "    </tr>\n",
       "    <tr>\n",
       "      <th>1</th>\n",
       "      <td>Organic Baby Spinach</td>\n",
       "      <td>Bag of Organic Bananas</td>\n",
       "      <td>0.483842</td>\n",
       "      <td>0.758900</td>\n",
       "      <td>0.100744</td>\n",
       "      <td>0.208217</td>\n",
       "      <td>0.274366</td>\n",
       "    </tr>\n",
       "  </tbody>\n",
       "</table>\n",
       "</div>"
      ],
      "text/plain": [
       "               Product_A               Product_B  Support_A  Support_B  \\\n",
       "8     Organic Fuji Apple                  Banana   0.179264   0.945130   \n",
       "10       Organic Avocado                  Banana   0.353630   0.945130   \n",
       "2    Organic Raspberries  Bag of Organic Bananas   0.274114   0.758900   \n",
       "3   Organic Hass Avocado  Bag of Organic Bananas   0.427168   0.758900   \n",
       "4           Strawberries                  Banana   0.285902   0.945130   \n",
       "9            Large Lemon                  Banana   0.305314   0.945130   \n",
       "6    Organic Raspberries    Organic Strawberries   0.274114   0.529366   \n",
       "0   Organic Strawberries  Bag of Organic Bananas   0.529366   0.758900   \n",
       "7   Organic Baby Spinach                  Banana   0.483842   0.945130   \n",
       "5   Organic Strawberries                  Banana   0.529366   0.945130   \n",
       "1   Organic Baby Spinach  Bag of Organic Bananas   0.483842   0.758900   \n",
       "\n",
       "    Support_AB  Confidence_AB   Lift_AB  \n",
       "8     0.067886       0.378693  0.400678  \n",
       "10    0.106790       0.301982  0.319514  \n",
       "2     0.081006       0.295519  0.389405  \n",
       "3     0.124682       0.291880  0.384610  \n",
       "4     0.082464       0.288434  0.305180  \n",
       "9     0.081760       0.267790  0.283337  \n",
       "6     0.067726       0.247072  0.466733  \n",
       "0     0.123256       0.232837  0.306809  \n",
       "7     0.102790       0.212445  0.224779  \n",
       "5     0.112312       0.212163  0.224480  \n",
       "1     0.100744       0.208217  0.274366  "
      ]
     },
     "execution_count": 119,
     "metadata": {},
     "output_type": "execute_result"
    }
   ],
   "source": [
    "df_rules_ap.sort_values(by = 'Confidence_AB', ascending = False)"
   ]
  },
  {
   "cell_type": "code",
   "execution_count": 120,
   "metadata": {
    "id": "Es32kwj58Kw7",
    "outputId": "c206fc2d-5644-40c5-9322-14be3b327e59"
   },
   "outputs": [
    {
     "data": {
      "text/html": [
       "<div>\n",
       "<style scoped>\n",
       "    .dataframe tbody tr th:only-of-type {\n",
       "        vertical-align: middle;\n",
       "    }\n",
       "\n",
       "    .dataframe tbody tr th {\n",
       "        vertical-align: top;\n",
       "    }\n",
       "\n",
       "    .dataframe thead th {\n",
       "        text-align: right;\n",
       "    }\n",
       "</style>\n",
       "<table border=\"1\" class=\"dataframe\">\n",
       "  <thead>\n",
       "    <tr style=\"text-align: right;\">\n",
       "      <th></th>\n",
       "      <th>Product_A</th>\n",
       "      <th>Product_B</th>\n",
       "      <th>Support_A</th>\n",
       "      <th>Support_B</th>\n",
       "      <th>Support_AB</th>\n",
       "      <th>Confidence_AB</th>\n",
       "      <th>Lift_AB</th>\n",
       "    </tr>\n",
       "  </thead>\n",
       "  <tbody>\n",
       "    <tr>\n",
       "      <th>6</th>\n",
       "      <td>Organic Raspberries</td>\n",
       "      <td>Organic Strawberries</td>\n",
       "      <td>0.274114</td>\n",
       "      <td>0.529366</td>\n",
       "      <td>0.067726</td>\n",
       "      <td>0.247072</td>\n",
       "      <td>0.466733</td>\n",
       "    </tr>\n",
       "    <tr>\n",
       "      <th>8</th>\n",
       "      <td>Organic Fuji Apple</td>\n",
       "      <td>Banana</td>\n",
       "      <td>0.179264</td>\n",
       "      <td>0.945130</td>\n",
       "      <td>0.067886</td>\n",
       "      <td>0.378693</td>\n",
       "      <td>0.400678</td>\n",
       "    </tr>\n",
       "    <tr>\n",
       "      <th>2</th>\n",
       "      <td>Organic Raspberries</td>\n",
       "      <td>Bag of Organic Bananas</td>\n",
       "      <td>0.274114</td>\n",
       "      <td>0.758900</td>\n",
       "      <td>0.081006</td>\n",
       "      <td>0.295519</td>\n",
       "      <td>0.389405</td>\n",
       "    </tr>\n",
       "    <tr>\n",
       "      <th>3</th>\n",
       "      <td>Organic Hass Avocado</td>\n",
       "      <td>Bag of Organic Bananas</td>\n",
       "      <td>0.427168</td>\n",
       "      <td>0.758900</td>\n",
       "      <td>0.124682</td>\n",
       "      <td>0.291880</td>\n",
       "      <td>0.384610</td>\n",
       "    </tr>\n",
       "    <tr>\n",
       "      <th>10</th>\n",
       "      <td>Organic Avocado</td>\n",
       "      <td>Banana</td>\n",
       "      <td>0.353630</td>\n",
       "      <td>0.945130</td>\n",
       "      <td>0.106790</td>\n",
       "      <td>0.301982</td>\n",
       "      <td>0.319514</td>\n",
       "    </tr>\n",
       "    <tr>\n",
       "      <th>0</th>\n",
       "      <td>Organic Strawberries</td>\n",
       "      <td>Bag of Organic Bananas</td>\n",
       "      <td>0.529366</td>\n",
       "      <td>0.758900</td>\n",
       "      <td>0.123256</td>\n",
       "      <td>0.232837</td>\n",
       "      <td>0.306809</td>\n",
       "    </tr>\n",
       "    <tr>\n",
       "      <th>4</th>\n",
       "      <td>Strawberries</td>\n",
       "      <td>Banana</td>\n",
       "      <td>0.285902</td>\n",
       "      <td>0.945130</td>\n",
       "      <td>0.082464</td>\n",
       "      <td>0.288434</td>\n",
       "      <td>0.305180</td>\n",
       "    </tr>\n",
       "    <tr>\n",
       "      <th>9</th>\n",
       "      <td>Large Lemon</td>\n",
       "      <td>Banana</td>\n",
       "      <td>0.305314</td>\n",
       "      <td>0.945130</td>\n",
       "      <td>0.081760</td>\n",
       "      <td>0.267790</td>\n",
       "      <td>0.283337</td>\n",
       "    </tr>\n",
       "    <tr>\n",
       "      <th>1</th>\n",
       "      <td>Organic Baby Spinach</td>\n",
       "      <td>Bag of Organic Bananas</td>\n",
       "      <td>0.483842</td>\n",
       "      <td>0.758900</td>\n",
       "      <td>0.100744</td>\n",
       "      <td>0.208217</td>\n",
       "      <td>0.274366</td>\n",
       "    </tr>\n",
       "    <tr>\n",
       "      <th>7</th>\n",
       "      <td>Organic Baby Spinach</td>\n",
       "      <td>Banana</td>\n",
       "      <td>0.483842</td>\n",
       "      <td>0.945130</td>\n",
       "      <td>0.102790</td>\n",
       "      <td>0.212445</td>\n",
       "      <td>0.224779</td>\n",
       "    </tr>\n",
       "    <tr>\n",
       "      <th>5</th>\n",
       "      <td>Organic Strawberries</td>\n",
       "      <td>Banana</td>\n",
       "      <td>0.529366</td>\n",
       "      <td>0.945130</td>\n",
       "      <td>0.112312</td>\n",
       "      <td>0.212163</td>\n",
       "      <td>0.224480</td>\n",
       "    </tr>\n",
       "  </tbody>\n",
       "</table>\n",
       "</div>"
      ],
      "text/plain": [
       "               Product_A               Product_B  Support_A  Support_B  \\\n",
       "6    Organic Raspberries    Organic Strawberries   0.274114   0.529366   \n",
       "8     Organic Fuji Apple                  Banana   0.179264   0.945130   \n",
       "2    Organic Raspberries  Bag of Organic Bananas   0.274114   0.758900   \n",
       "3   Organic Hass Avocado  Bag of Organic Bananas   0.427168   0.758900   \n",
       "10       Organic Avocado                  Banana   0.353630   0.945130   \n",
       "0   Organic Strawberries  Bag of Organic Bananas   0.529366   0.758900   \n",
       "4           Strawberries                  Banana   0.285902   0.945130   \n",
       "9            Large Lemon                  Banana   0.305314   0.945130   \n",
       "1   Organic Baby Spinach  Bag of Organic Bananas   0.483842   0.758900   \n",
       "7   Organic Baby Spinach                  Banana   0.483842   0.945130   \n",
       "5   Organic Strawberries                  Banana   0.529366   0.945130   \n",
       "\n",
       "    Support_AB  Confidence_AB   Lift_AB  \n",
       "6     0.067726       0.247072  0.466733  \n",
       "8     0.067886       0.378693  0.400678  \n",
       "2     0.081006       0.295519  0.389405  \n",
       "3     0.124682       0.291880  0.384610  \n",
       "10    0.106790       0.301982  0.319514  \n",
       "0     0.123256       0.232837  0.306809  \n",
       "4     0.082464       0.288434  0.305180  \n",
       "9     0.081760       0.267790  0.283337  \n",
       "1     0.100744       0.208217  0.274366  \n",
       "7     0.102790       0.212445  0.224779  \n",
       "5     0.112312       0.212163  0.224480  "
      ]
     },
     "execution_count": 120,
     "metadata": {},
     "output_type": "execute_result"
    }
   ],
   "source": [
    "df_rules_ap.sort_values(by = 'Lift_AB', ascending = False)"
   ]
  },
  {
   "cell_type": "markdown",
   "metadata": {
    "id": "HvWTaY8F8Kw7"
   },
   "source": [
    "### Executa o Algoritmo Apriori Com Support = 0.005 e Confidence = 0.2"
   ]
  },
  {
   "cell_type": "code",
   "execution_count": 123,
   "metadata": {
    "id": "rB5MHDKH8Kw7",
    "outputId": "bccee306-72e8-4bb9-b1f9-c717cd4d128d"
   },
   "outputs": [
    {
     "name": "stdout",
     "output_type": "stream",
     "text": [
      "Tempo de Execução:  0:01:18.710832\n"
     ]
    }
   ],
   "source": [
    "st = datetime.now()\n",
    "itemsets_ap_1, rules_ap_1 = apriori(transactions_tup, min_support = 0.005, min_confidence = 0.2)\n",
    "print('Tempo de Execução: ', datetime.now() - st)"
   ]
  },
  {
   "cell_type": "code",
   "execution_count": 124,
   "metadata": {
    "id": "LAJ5MPgK8Kw7",
    "outputId": "d57e5668-3c7e-4af0-8742-3112a7ab7a3a"
   },
   "outputs": [
    {
     "data": {
      "text/plain": [
       "[{4605} -> {24852},\n",
       " {4920} -> {24852},\n",
       " {5876} -> {13176},\n",
       " {5876} -> {47209},\n",
       " {8277} -> {13176},\n",
       " {8277} -> {24852},\n",
       " {9076} -> {24852},\n",
       " {19057} -> {13176},\n",
       " {21137} -> {13176},\n",
       " {21903} -> {13176},\n",
       " {22935} -> {13176},\n",
       " {27966} -> {13176},\n",
       " {30391} -> {13176},\n",
       " {37646} -> {13176},\n",
       " {39275} -> {13176},\n",
       " {45007} -> {13176},\n",
       " {47209} -> {13176},\n",
       " {16797} -> {24852},\n",
       " {21137} -> {24852},\n",
       " {27966} -> {21137},\n",
       " {30391} -> {21137},\n",
       " {39275} -> {21137},\n",
       " {21903} -> {24852},\n",
       " {24964} -> {22935},\n",
       " {26209} -> {24852},\n",
       " {27845} -> {24852},\n",
       " {28204} -> {24852},\n",
       " {30489} -> {24852},\n",
       " {37646} -> {24852},\n",
       " {40706} -> {24852},\n",
       " {42265} -> {24852},\n",
       " {45066} -> {24852},\n",
       " {47626} -> {24852},\n",
       " {47766} -> {24852},\n",
       " {49683} -> {24852},\n",
       " {31717} -> {26209},\n",
       " {30391} -> {47209}]"
      ]
     },
     "execution_count": 124,
     "metadata": {},
     "output_type": "execute_result"
    }
   ],
   "source": [
    "rules_ap_1"
   ]
  },
  {
   "cell_type": "code",
   "execution_count": 131,
   "metadata": {},
   "outputs": [
    {
     "name": "stdout",
     "output_type": "stream",
     "text": [
      "DataFrame resultante:\n",
      "    itemA  itemB\n",
      "0    4605  24852\n",
      "1    4920  24852\n",
      "2    5876  13176\n",
      "3    5876  47209\n",
      "4    8277  13176\n",
      "5    8277  24852\n",
      "6    9076  24852\n",
      "7   19057  13176\n",
      "8   21137  13176\n",
      "9   21903  13176\n",
      "10  22935  13176\n",
      "11  27966  13176\n",
      "12  30391  13176\n",
      "13  37646  13176\n",
      "14  39275  13176\n",
      "15  45007  13176\n",
      "16  47209  13176\n",
      "17  16797  24852\n",
      "18  21137  24852\n",
      "19  27966  21137\n",
      "20  30391  21137\n",
      "21  39275  21137\n",
      "22  21903  24852\n",
      "23  24964  22935\n",
      "24  26209  24852\n",
      "25  27845  24852\n",
      "26  28204  24852\n",
      "27  30489  24852\n",
      "28  37646  24852\n",
      "29  40706  24852\n",
      "30  42265  24852\n",
      "31  45066  24852\n",
      "32  47626  24852\n",
      "33  47766  24852\n",
      "34  49683  24852\n",
      "35  31717  26209\n",
      "36  30391  47209\n",
      "\n",
      "Total de regras processadas: 37\n"
     ]
    }
   ],
   "source": [
    "def extrair_regras_ap(rules_ap):\n",
    "    item_A1 = []\n",
    "    item_B1 = []\n",
    "    \n",
    "    for regra in rules_ap_1:\n",
    "        # Converter para string\n",
    "        regra_str = str(regra)\n",
    "\n",
    "        parte_regra = regra_str.split(' (conf:')[0]\n",
    "        \n",
    "        # Dividir pela seta\n",
    "        partes = parte_regra.split(' -> ')\n",
    "        \n",
    "        # Extrair números - remover chaves e espaços\n",
    "        num_A = partes[0].replace('{', '').replace('}', '').strip()\n",
    "        num_B = partes[1].replace('{', '').replace('}', '').strip()\n",
    "        \n",
    "        item_A1.append(int(num_A))\n",
    "        item_B1.append(int(num_B))\n",
    "    \n",
    "    return item_A1, item_B1\n",
    "\n",
    "# Uso\n",
    "item_A1, item_B1 = extrair_regras_ap(rules_ap)\n",
    "df_regras = pd.DataFrame({'itemA': item_A1, 'itemB': item_B1})\n",
    "print(\"DataFrame resultante:\")\n",
    "print(df_regras)\n",
    "print(f\"\\nTotal de regras processadas: {len(df_regras)}\")"
   ]
  },
  {
   "cell_type": "code",
   "execution_count": 132,
   "metadata": {
    "id": "dMHkTsE-8Kw7"
   },
   "outputs": [],
   "source": [
    "temp1 = pd.DataFrame()\n",
    "temp1['itemA'] = item_A1\n",
    "temp1['itemB'] = item_B1"
   ]
  },
  {
   "cell_type": "code",
   "execution_count": 133,
   "metadata": {},
   "outputs": [],
   "source": [
    "# Listas de métricas\n",
    "support_A1 = []\n",
    "support_B1 = []\n",
    "support_AB1 = []\n",
    "confidence_AB1 = []\n",
    "lift_AB1 = []"
   ]
  },
  {
   "cell_type": "code",
   "execution_count": 134,
   "metadata": {
    "id": "jntXrWc_8Kw8"
   },
   "outputs": [],
   "source": [
    "# Loop\n",
    "for i in range(len(temp1)):\n",
    "    \n",
    "    support_A1.append(itemsets_ap_1[1][tuple([temp1['itemA'][i],])] / 500000)\n",
    "    \n",
    "    support_B1.append(itemsets_ap_1[1][tuple([temp1['itemB'][i],])] / 500000)\n",
    "    \n",
    "    if tuple([temp1['itemA'][i],temp1['itemB'][i]]) in itemsets_ap_1[2].keys():\n",
    "        support_AB1.append(itemsets_ap_1[2][tuple([temp1['itemA'][i],temp1['itemB'][i]])] / 500000)\n",
    "    else:\n",
    "        support_AB1.append(itemsets_ap_1[2][tuple([temp1['itemB'][i],temp1['itemA'][i]])] / 500000)\n",
    "    \n",
    "    confidence_AB1.append(support_AB1[i] / support_A1[i])\n",
    "    \n",
    "    lift_AB1.append(support_AB1[i] / (support_A1[i] * support_B1[i]))"
   ]
  },
  {
   "cell_type": "code",
   "execution_count": 135,
   "metadata": {
    "id": "ZNddO7_78Kw8"
   },
   "outputs": [],
   "source": [
    "# Dataframe com as regras de associação\n",
    "df_rules_ap1 = pd.DataFrame()\n",
    "df_rules_ap1['product_id'] = item_A1\n",
    "df_rules_ap1 = df_rules_ap1.merge(product, on = 'product_id', how = 'left')\n",
    "df_rules_ap1['Product_A'] = df_rules_ap1['product_name']\n",
    "df_rules_ap1 = df_rules_ap1.drop(columns = ['product_id','product_name','aisle_id','department_id'], axis = 1)\n",
    "df_rules_ap1['product_id'] = item_B1\n",
    "df_rules_ap1 = df_rules_ap1.merge(product, on = 'product_id', how = 'left')\n",
    "df_rules_ap1['Product_B'] = df_rules_ap1['product_name']\n",
    "df_rules_ap1 = df_rules_ap1.drop(columns = ['product_id','product_name','aisle_id','department_id'], axis = 1)\n",
    "df_rules_ap1['Support_A'] = support_A1\n",
    "df_rules_ap1['Support_B'] = support_B1\n",
    "df_rules_ap1['Support_AB'] = support_AB1\n",
    "df_rules_ap1['Confidence_AB'] = confidence_AB1\n",
    "df_rules_ap1['Lift_AB'] = lift_AB1"
   ]
  },
  {
   "cell_type": "code",
   "execution_count": 136,
   "metadata": {
    "id": "IFZWz9k78Kw8",
    "outputId": "adf8b394-2c9e-48ff-dcef-d8f04328c80c"
   },
   "outputs": [
    {
     "data": {
      "text/html": [
       "<div>\n",
       "<style scoped>\n",
       "    .dataframe tbody tr th:only-of-type {\n",
       "        vertical-align: middle;\n",
       "    }\n",
       "\n",
       "    .dataframe tbody tr th {\n",
       "        vertical-align: top;\n",
       "    }\n",
       "\n",
       "    .dataframe thead th {\n",
       "        text-align: right;\n",
       "    }\n",
       "</style>\n",
       "<table border=\"1\" class=\"dataframe\">\n",
       "  <thead>\n",
       "    <tr style=\"text-align: right;\">\n",
       "      <th></th>\n",
       "      <th>Product_A</th>\n",
       "      <th>Product_B</th>\n",
       "      <th>Support_A</th>\n",
       "      <th>Support_B</th>\n",
       "      <th>Support_AB</th>\n",
       "      <th>Confidence_AB</th>\n",
       "      <th>Lift_AB</th>\n",
       "    </tr>\n",
       "  </thead>\n",
       "  <tbody>\n",
       "    <tr>\n",
       "      <th>26</th>\n",
       "      <td>Organic Fuji Apple</td>\n",
       "      <td>Banana</td>\n",
       "      <td>0.179264</td>\n",
       "      <td>0.94513</td>\n",
       "      <td>0.067886</td>\n",
       "      <td>0.378693</td>\n",
       "      <td>0.400678</td>\n",
       "    </tr>\n",
       "    <tr>\n",
       "      <th>31</th>\n",
       "      <td>Honeycrisp Apple</td>\n",
       "      <td>Banana</td>\n",
       "      <td>0.159538</td>\n",
       "      <td>0.94513</td>\n",
       "      <td>0.056816</td>\n",
       "      <td>0.356128</td>\n",
       "      <td>0.376804</td>\n",
       "    </tr>\n",
       "    <tr>\n",
       "      <th>34</th>\n",
       "      <td>Cucumber Kirby</td>\n",
       "      <td>Banana</td>\n",
       "      <td>0.194630</td>\n",
       "      <td>0.94513</td>\n",
       "      <td>0.064194</td>\n",
       "      <td>0.329826</td>\n",
       "      <td>0.348974</td>\n",
       "    </tr>\n",
       "    <tr>\n",
       "      <th>7</th>\n",
       "      <td>Organic Large Extra Fancy Fuji Apple</td>\n",
       "      <td>Bag of Organic Bananas</td>\n",
       "      <td>0.150330</td>\n",
       "      <td>0.75890</td>\n",
       "      <td>0.046728</td>\n",
       "      <td>0.310836</td>\n",
       "      <td>0.409588</td>\n",
       "    </tr>\n",
       "    <tr>\n",
       "      <th>33</th>\n",
       "      <td>Organic Avocado</td>\n",
       "      <td>Banana</td>\n",
       "      <td>0.353630</td>\n",
       "      <td>0.94513</td>\n",
       "      <td>0.106790</td>\n",
       "      <td>0.301982</td>\n",
       "      <td>0.319514</td>\n",
       "    </tr>\n",
       "    <tr>\n",
       "      <th>1</th>\n",
       "      <td>Seedless Red Grapes</td>\n",
       "      <td>Banana</td>\n",
       "      <td>0.165378</td>\n",
       "      <td>0.94513</td>\n",
       "      <td>0.049188</td>\n",
       "      <td>0.297428</td>\n",
       "      <td>0.314695</td>\n",
       "    </tr>\n",
       "    <tr>\n",
       "      <th>11</th>\n",
       "      <td>Organic Raspberries</td>\n",
       "      <td>Bag of Organic Bananas</td>\n",
       "      <td>0.274114</td>\n",
       "      <td>0.75890</td>\n",
       "      <td>0.081006</td>\n",
       "      <td>0.295519</td>\n",
       "      <td>0.389405</td>\n",
       "    </tr>\n",
       "    <tr>\n",
       "      <th>16</th>\n",
       "      <td>Organic Hass Avocado</td>\n",
       "      <td>Bag of Organic Bananas</td>\n",
       "      <td>0.427168</td>\n",
       "      <td>0.75890</td>\n",
       "      <td>0.124682</td>\n",
       "      <td>0.291880</td>\n",
       "      <td>0.384610</td>\n",
       "    </tr>\n",
       "    <tr>\n",
       "      <th>6</th>\n",
       "      <td>Blueberries</td>\n",
       "      <td>Banana</td>\n",
       "      <td>0.111892</td>\n",
       "      <td>0.94513</td>\n",
       "      <td>0.032572</td>\n",
       "      <td>0.291102</td>\n",
       "      <td>0.308002</td>\n",
       "    </tr>\n",
       "    <tr>\n",
       "      <th>0</th>\n",
       "      <td>Yellow Onions</td>\n",
       "      <td>Banana</td>\n",
       "      <td>0.146334</td>\n",
       "      <td>0.94513</td>\n",
       "      <td>0.042336</td>\n",
       "      <td>0.289311</td>\n",
       "      <td>0.306107</td>\n",
       "    </tr>\n",
       "  </tbody>\n",
       "</table>\n",
       "</div>"
      ],
      "text/plain": [
       "                               Product_A               Product_B  Support_A  \\\n",
       "26                    Organic Fuji Apple                  Banana   0.179264   \n",
       "31                      Honeycrisp Apple                  Banana   0.159538   \n",
       "34                        Cucumber Kirby                  Banana   0.194630   \n",
       "7   Organic Large Extra Fancy Fuji Apple  Bag of Organic Bananas   0.150330   \n",
       "33                       Organic Avocado                  Banana   0.353630   \n",
       "1                    Seedless Red Grapes                  Banana   0.165378   \n",
       "11                   Organic Raspberries  Bag of Organic Bananas   0.274114   \n",
       "16                  Organic Hass Avocado  Bag of Organic Bananas   0.427168   \n",
       "6                            Blueberries                  Banana   0.111892   \n",
       "0                          Yellow Onions                  Banana   0.146334   \n",
       "\n",
       "    Support_B  Support_AB  Confidence_AB   Lift_AB  \n",
       "26    0.94513    0.067886       0.378693  0.400678  \n",
       "31    0.94513    0.056816       0.356128  0.376804  \n",
       "34    0.94513    0.064194       0.329826  0.348974  \n",
       "7     0.75890    0.046728       0.310836  0.409588  \n",
       "33    0.94513    0.106790       0.301982  0.319514  \n",
       "1     0.94513    0.049188       0.297428  0.314695  \n",
       "11    0.75890    0.081006       0.295519  0.389405  \n",
       "16    0.75890    0.124682       0.291880  0.384610  \n",
       "6     0.94513    0.032572       0.291102  0.308002  \n",
       "0     0.94513    0.042336       0.289311  0.306107  "
      ]
     },
     "execution_count": 136,
     "metadata": {},
     "output_type": "execute_result"
    }
   ],
   "source": [
    "df_rules_ap1.sort_values(by = 'Confidence_AB', ascending = False).head(10)"
   ]
  },
  {
   "cell_type": "code",
   "execution_count": 138,
   "metadata": {
    "id": "4ycRyseN8Kw8",
    "outputId": "3816b880-5c30-43b2-a7f3-2b797030851e"
   },
   "outputs": [
    {
     "data": {
      "text/html": [
       "<div>\n",
       "<style scoped>\n",
       "    .dataframe tbody tr th:only-of-type {\n",
       "        vertical-align: middle;\n",
       "    }\n",
       "\n",
       "    .dataframe tbody tr th {\n",
       "        vertical-align: top;\n",
       "    }\n",
       "\n",
       "    .dataframe thead th {\n",
       "        text-align: right;\n",
       "    }\n",
       "</style>\n",
       "<table border=\"1\" class=\"dataframe\">\n",
       "  <thead>\n",
       "    <tr style=\"text-align: right;\">\n",
       "      <th></th>\n",
       "      <th>Product_A</th>\n",
       "      <th>Product_B</th>\n",
       "      <th>Support_A</th>\n",
       "      <th>Support_B</th>\n",
       "      <th>Support_AB</th>\n",
       "      <th>Confidence_AB</th>\n",
       "      <th>Lift_AB</th>\n",
       "    </tr>\n",
       "  </thead>\n",
       "  <tbody>\n",
       "    <tr>\n",
       "      <th>35</th>\n",
       "      <td>Organic Cilantro</td>\n",
       "      <td>Limes</td>\n",
       "      <td>0.139048</td>\n",
       "      <td>0.281254</td>\n",
       "      <td>0.035130</td>\n",
       "      <td>0.252647</td>\n",
       "      <td>0.898286</td>\n",
       "    </tr>\n",
       "    <tr>\n",
       "      <th>23</th>\n",
       "      <td>Organic Garlic</td>\n",
       "      <td>Organic Yellow Onion</td>\n",
       "      <td>0.219556</td>\n",
       "      <td>0.226852</td>\n",
       "      <td>0.044146</td>\n",
       "      <td>0.201069</td>\n",
       "      <td>0.886346</td>\n",
       "    </tr>\n",
       "    <tr>\n",
       "      <th>3</th>\n",
       "      <td>Organic Lemon</td>\n",
       "      <td>Organic Hass Avocado</td>\n",
       "      <td>0.175492</td>\n",
       "      <td>0.427168</td>\n",
       "      <td>0.042492</td>\n",
       "      <td>0.242131</td>\n",
       "      <td>0.566828</td>\n",
       "    </tr>\n",
       "    <tr>\n",
       "      <th>36</th>\n",
       "      <td>Organic Cucumber</td>\n",
       "      <td>Organic Hass Avocado</td>\n",
       "      <td>0.160784</td>\n",
       "      <td>0.427168</td>\n",
       "      <td>0.034912</td>\n",
       "      <td>0.217136</td>\n",
       "      <td>0.508315</td>\n",
       "    </tr>\n",
       "    <tr>\n",
       "      <th>19</th>\n",
       "      <td>Organic Raspberries</td>\n",
       "      <td>Organic Strawberries</td>\n",
       "      <td>0.274114</td>\n",
       "      <td>0.529366</td>\n",
       "      <td>0.067726</td>\n",
       "      <td>0.247072</td>\n",
       "      <td>0.466733</td>\n",
       "    </tr>\n",
       "    <tr>\n",
       "      <th>21</th>\n",
       "      <td>Organic Blueberries</td>\n",
       "      <td>Organic Strawberries</td>\n",
       "      <td>0.200120</td>\n",
       "      <td>0.529366</td>\n",
       "      <td>0.047512</td>\n",
       "      <td>0.237418</td>\n",
       "      <td>0.448494</td>\n",
       "    </tr>\n",
       "    <tr>\n",
       "      <th>7</th>\n",
       "      <td>Organic Large Extra Fancy Fuji Apple</td>\n",
       "      <td>Bag of Organic Bananas</td>\n",
       "      <td>0.150330</td>\n",
       "      <td>0.758900</td>\n",
       "      <td>0.046728</td>\n",
       "      <td>0.310836</td>\n",
       "      <td>0.409588</td>\n",
       "    </tr>\n",
       "    <tr>\n",
       "      <th>26</th>\n",
       "      <td>Organic Fuji Apple</td>\n",
       "      <td>Banana</td>\n",
       "      <td>0.179264</td>\n",
       "      <td>0.945130</td>\n",
       "      <td>0.067886</td>\n",
       "      <td>0.378693</td>\n",
       "      <td>0.400678</td>\n",
       "    </tr>\n",
       "    <tr>\n",
       "      <th>11</th>\n",
       "      <td>Organic Raspberries</td>\n",
       "      <td>Bag of Organic Bananas</td>\n",
       "      <td>0.274114</td>\n",
       "      <td>0.758900</td>\n",
       "      <td>0.081006</td>\n",
       "      <td>0.295519</td>\n",
       "      <td>0.389405</td>\n",
       "    </tr>\n",
       "    <tr>\n",
       "      <th>20</th>\n",
       "      <td>Organic Cucumber</td>\n",
       "      <td>Organic Strawberries</td>\n",
       "      <td>0.160784</td>\n",
       "      <td>0.529366</td>\n",
       "      <td>0.033110</td>\n",
       "      <td>0.205928</td>\n",
       "      <td>0.389010</td>\n",
       "    </tr>\n",
       "    <tr>\n",
       "      <th>16</th>\n",
       "      <td>Organic Hass Avocado</td>\n",
       "      <td>Bag of Organic Bananas</td>\n",
       "      <td>0.427168</td>\n",
       "      <td>0.758900</td>\n",
       "      <td>0.124682</td>\n",
       "      <td>0.291880</td>\n",
       "      <td>0.384610</td>\n",
       "    </tr>\n",
       "    <tr>\n",
       "      <th>31</th>\n",
       "      <td>Honeycrisp Apple</td>\n",
       "      <td>Banana</td>\n",
       "      <td>0.159538</td>\n",
       "      <td>0.945130</td>\n",
       "      <td>0.056816</td>\n",
       "      <td>0.356128</td>\n",
       "      <td>0.376804</td>\n",
       "    </tr>\n",
       "    <tr>\n",
       "      <th>4</th>\n",
       "      <td>Apple Honeycrisp Organic</td>\n",
       "      <td>Bag of Organic Bananas</td>\n",
       "      <td>0.170040</td>\n",
       "      <td>0.758900</td>\n",
       "      <td>0.047392</td>\n",
       "      <td>0.278711</td>\n",
       "      <td>0.367256</td>\n",
       "    </tr>\n",
       "    <tr>\n",
       "      <th>12</th>\n",
       "      <td>Organic Cucumber</td>\n",
       "      <td>Bag of Organic Bananas</td>\n",
       "      <td>0.160784</td>\n",
       "      <td>0.758900</td>\n",
       "      <td>0.043068</td>\n",
       "      <td>0.267862</td>\n",
       "      <td>0.352961</td>\n",
       "    </tr>\n",
       "    <tr>\n",
       "      <th>34</th>\n",
       "      <td>Cucumber Kirby</td>\n",
       "      <td>Banana</td>\n",
       "      <td>0.194630</td>\n",
       "      <td>0.945130</td>\n",
       "      <td>0.064194</td>\n",
       "      <td>0.329826</td>\n",
       "      <td>0.348974</td>\n",
       "    </tr>\n",
       "    <tr>\n",
       "      <th>13</th>\n",
       "      <td>Organic Gala Apples</td>\n",
       "      <td>Bag of Organic Bananas</td>\n",
       "      <td>0.145692</td>\n",
       "      <td>0.758900</td>\n",
       "      <td>0.037916</td>\n",
       "      <td>0.260248</td>\n",
       "      <td>0.342927</td>\n",
       "    </tr>\n",
       "    <tr>\n",
       "      <th>2</th>\n",
       "      <td>Organic Lemon</td>\n",
       "      <td>Bag of Organic Bananas</td>\n",
       "      <td>0.175492</td>\n",
       "      <td>0.758900</td>\n",
       "      <td>0.044766</td>\n",
       "      <td>0.255089</td>\n",
       "      <td>0.336129</td>\n",
       "    </tr>\n",
       "    <tr>\n",
       "      <th>33</th>\n",
       "      <td>Organic Avocado</td>\n",
       "      <td>Banana</td>\n",
       "      <td>0.353630</td>\n",
       "      <td>0.945130</td>\n",
       "      <td>0.106790</td>\n",
       "      <td>0.301982</td>\n",
       "      <td>0.319514</td>\n",
       "    </tr>\n",
       "    <tr>\n",
       "      <th>1</th>\n",
       "      <td>Seedless Red Grapes</td>\n",
       "      <td>Banana</td>\n",
       "      <td>0.165378</td>\n",
       "      <td>0.945130</td>\n",
       "      <td>0.049188</td>\n",
       "      <td>0.297428</td>\n",
       "      <td>0.314695</td>\n",
       "    </tr>\n",
       "    <tr>\n",
       "      <th>6</th>\n",
       "      <td>Blueberries</td>\n",
       "      <td>Banana</td>\n",
       "      <td>0.111892</td>\n",
       "      <td>0.945130</td>\n",
       "      <td>0.032572</td>\n",
       "      <td>0.291102</td>\n",
       "      <td>0.308002</td>\n",
       "    </tr>\n",
       "    <tr>\n",
       "      <th>8</th>\n",
       "      <td>Organic Strawberries</td>\n",
       "      <td>Bag of Organic Bananas</td>\n",
       "      <td>0.529366</td>\n",
       "      <td>0.758900</td>\n",
       "      <td>0.123256</td>\n",
       "      <td>0.232837</td>\n",
       "      <td>0.306809</td>\n",
       "    </tr>\n",
       "    <tr>\n",
       "      <th>0</th>\n",
       "      <td>Yellow Onions</td>\n",
       "      <td>Banana</td>\n",
       "      <td>0.146334</td>\n",
       "      <td>0.945130</td>\n",
       "      <td>0.042336</td>\n",
       "      <td>0.289311</td>\n",
       "      <td>0.306107</td>\n",
       "    </tr>\n",
       "    <tr>\n",
       "      <th>17</th>\n",
       "      <td>Strawberries</td>\n",
       "      <td>Banana</td>\n",
       "      <td>0.285902</td>\n",
       "      <td>0.945130</td>\n",
       "      <td>0.082464</td>\n",
       "      <td>0.288434</td>\n",
       "      <td>0.305180</td>\n",
       "    </tr>\n",
       "    <tr>\n",
       "      <th>14</th>\n",
       "      <td>Organic Blueberries</td>\n",
       "      <td>Bag of Organic Bananas</td>\n",
       "      <td>0.200120</td>\n",
       "      <td>0.758900</td>\n",
       "      <td>0.043736</td>\n",
       "      <td>0.218549</td>\n",
       "      <td>0.287981</td>\n",
       "    </tr>\n",
       "    <tr>\n",
       "      <th>10</th>\n",
       "      <td>Organic Yellow Onion</td>\n",
       "      <td>Bag of Organic Bananas</td>\n",
       "      <td>0.226852</td>\n",
       "      <td>0.758900</td>\n",
       "      <td>0.049148</td>\n",
       "      <td>0.216652</td>\n",
       "      <td>0.285482</td>\n",
       "    </tr>\n",
       "    <tr>\n",
       "      <th>15</th>\n",
       "      <td>Organic Zucchini</td>\n",
       "      <td>Bag of Organic Bananas</td>\n",
       "      <td>0.209646</td>\n",
       "      <td>0.758900</td>\n",
       "      <td>0.045264</td>\n",
       "      <td>0.215907</td>\n",
       "      <td>0.284500</td>\n",
       "    </tr>\n",
       "    <tr>\n",
       "      <th>32</th>\n",
       "      <td>Large Lemon</td>\n",
       "      <td>Banana</td>\n",
       "      <td>0.305314</td>\n",
       "      <td>0.945130</td>\n",
       "      <td>0.081760</td>\n",
       "      <td>0.267790</td>\n",
       "      <td>0.283337</td>\n",
       "    </tr>\n",
       "    <tr>\n",
       "      <th>9</th>\n",
       "      <td>Organic Baby Spinach</td>\n",
       "      <td>Bag of Organic Bananas</td>\n",
       "      <td>0.483842</td>\n",
       "      <td>0.758900</td>\n",
       "      <td>0.100744</td>\n",
       "      <td>0.208217</td>\n",
       "      <td>0.274366</td>\n",
       "    </tr>\n",
       "    <tr>\n",
       "      <th>27</th>\n",
       "      <td>Original Hummus</td>\n",
       "      <td>Banana</td>\n",
       "      <td>0.142628</td>\n",
       "      <td>0.945130</td>\n",
       "      <td>0.036420</td>\n",
       "      <td>0.255350</td>\n",
       "      <td>0.270174</td>\n",
       "    </tr>\n",
       "    <tr>\n",
       "      <th>28</th>\n",
       "      <td>Organic Gala Apples</td>\n",
       "      <td>Banana</td>\n",
       "      <td>0.145692</td>\n",
       "      <td>0.945130</td>\n",
       "      <td>0.033950</td>\n",
       "      <td>0.233026</td>\n",
       "      <td>0.246554</td>\n",
       "    </tr>\n",
       "    <tr>\n",
       "      <th>25</th>\n",
       "      <td>Organic Whole Milk</td>\n",
       "      <td>Banana</td>\n",
       "      <td>0.275810</td>\n",
       "      <td>0.945130</td>\n",
       "      <td>0.063282</td>\n",
       "      <td>0.229441</td>\n",
       "      <td>0.242761</td>\n",
       "    </tr>\n",
       "    <tr>\n",
       "      <th>24</th>\n",
       "      <td>Limes</td>\n",
       "      <td>Banana</td>\n",
       "      <td>0.281254</td>\n",
       "      <td>0.945130</td>\n",
       "      <td>0.063544</td>\n",
       "      <td>0.225931</td>\n",
       "      <td>0.239048</td>\n",
       "    </tr>\n",
       "    <tr>\n",
       "      <th>29</th>\n",
       "      <td>Organic Grape Tomatoes</td>\n",
       "      <td>Banana</td>\n",
       "      <td>0.168510</td>\n",
       "      <td>0.945130</td>\n",
       "      <td>0.037440</td>\n",
       "      <td>0.222183</td>\n",
       "      <td>0.235082</td>\n",
       "    </tr>\n",
       "    <tr>\n",
       "      <th>30</th>\n",
       "      <td>Organic Baby Carrots</td>\n",
       "      <td>Banana</td>\n",
       "      <td>0.153792</td>\n",
       "      <td>0.945130</td>\n",
       "      <td>0.033508</td>\n",
       "      <td>0.217879</td>\n",
       "      <td>0.230528</td>\n",
       "    </tr>\n",
       "    <tr>\n",
       "      <th>22</th>\n",
       "      <td>Organic Baby Spinach</td>\n",
       "      <td>Banana</td>\n",
       "      <td>0.483842</td>\n",
       "      <td>0.945130</td>\n",
       "      <td>0.102790</td>\n",
       "      <td>0.212445</td>\n",
       "      <td>0.224779</td>\n",
       "    </tr>\n",
       "    <tr>\n",
       "      <th>18</th>\n",
       "      <td>Organic Strawberries</td>\n",
       "      <td>Banana</td>\n",
       "      <td>0.529366</td>\n",
       "      <td>0.945130</td>\n",
       "      <td>0.112312</td>\n",
       "      <td>0.212163</td>\n",
       "      <td>0.224480</td>\n",
       "    </tr>\n",
       "    <tr>\n",
       "      <th>5</th>\n",
       "      <td>Apple Honeycrisp Organic</td>\n",
       "      <td>Banana</td>\n",
       "      <td>0.170040</td>\n",
       "      <td>0.945130</td>\n",
       "      <td>0.034864</td>\n",
       "      <td>0.205034</td>\n",
       "      <td>0.216937</td>\n",
       "    </tr>\n",
       "  </tbody>\n",
       "</table>\n",
       "</div>"
      ],
      "text/plain": [
       "                               Product_A               Product_B  Support_A  \\\n",
       "35                      Organic Cilantro                   Limes   0.139048   \n",
       "23                        Organic Garlic    Organic Yellow Onion   0.219556   \n",
       "3                          Organic Lemon    Organic Hass Avocado   0.175492   \n",
       "36                      Organic Cucumber    Organic Hass Avocado   0.160784   \n",
       "19                   Organic Raspberries    Organic Strawberries   0.274114   \n",
       "21                   Organic Blueberries    Organic Strawberries   0.200120   \n",
       "7   Organic Large Extra Fancy Fuji Apple  Bag of Organic Bananas   0.150330   \n",
       "26                    Organic Fuji Apple                  Banana   0.179264   \n",
       "11                   Organic Raspberries  Bag of Organic Bananas   0.274114   \n",
       "20                      Organic Cucumber    Organic Strawberries   0.160784   \n",
       "16                  Organic Hass Avocado  Bag of Organic Bananas   0.427168   \n",
       "31                      Honeycrisp Apple                  Banana   0.159538   \n",
       "4               Apple Honeycrisp Organic  Bag of Organic Bananas   0.170040   \n",
       "12                      Organic Cucumber  Bag of Organic Bananas   0.160784   \n",
       "34                        Cucumber Kirby                  Banana   0.194630   \n",
       "13                   Organic Gala Apples  Bag of Organic Bananas   0.145692   \n",
       "2                          Organic Lemon  Bag of Organic Bananas   0.175492   \n",
       "33                       Organic Avocado                  Banana   0.353630   \n",
       "1                    Seedless Red Grapes                  Banana   0.165378   \n",
       "6                            Blueberries                  Banana   0.111892   \n",
       "8                   Organic Strawberries  Bag of Organic Bananas   0.529366   \n",
       "0                          Yellow Onions                  Banana   0.146334   \n",
       "17                          Strawberries                  Banana   0.285902   \n",
       "14                   Organic Blueberries  Bag of Organic Bananas   0.200120   \n",
       "10                  Organic Yellow Onion  Bag of Organic Bananas   0.226852   \n",
       "15                      Organic Zucchini  Bag of Organic Bananas   0.209646   \n",
       "32                           Large Lemon                  Banana   0.305314   \n",
       "9                   Organic Baby Spinach  Bag of Organic Bananas   0.483842   \n",
       "27                       Original Hummus                  Banana   0.142628   \n",
       "28                   Organic Gala Apples                  Banana   0.145692   \n",
       "25                    Organic Whole Milk                  Banana   0.275810   \n",
       "24                                 Limes                  Banana   0.281254   \n",
       "29                Organic Grape Tomatoes                  Banana   0.168510   \n",
       "30                  Organic Baby Carrots                  Banana   0.153792   \n",
       "22                  Organic Baby Spinach                  Banana   0.483842   \n",
       "18                  Organic Strawberries                  Banana   0.529366   \n",
       "5               Apple Honeycrisp Organic                  Banana   0.170040   \n",
       "\n",
       "    Support_B  Support_AB  Confidence_AB   Lift_AB  \n",
       "35   0.281254    0.035130       0.252647  0.898286  \n",
       "23   0.226852    0.044146       0.201069  0.886346  \n",
       "3    0.427168    0.042492       0.242131  0.566828  \n",
       "36   0.427168    0.034912       0.217136  0.508315  \n",
       "19   0.529366    0.067726       0.247072  0.466733  \n",
       "21   0.529366    0.047512       0.237418  0.448494  \n",
       "7    0.758900    0.046728       0.310836  0.409588  \n",
       "26   0.945130    0.067886       0.378693  0.400678  \n",
       "11   0.758900    0.081006       0.295519  0.389405  \n",
       "20   0.529366    0.033110       0.205928  0.389010  \n",
       "16   0.758900    0.124682       0.291880  0.384610  \n",
       "31   0.945130    0.056816       0.356128  0.376804  \n",
       "4    0.758900    0.047392       0.278711  0.367256  \n",
       "12   0.758900    0.043068       0.267862  0.352961  \n",
       "34   0.945130    0.064194       0.329826  0.348974  \n",
       "13   0.758900    0.037916       0.260248  0.342927  \n",
       "2    0.758900    0.044766       0.255089  0.336129  \n",
       "33   0.945130    0.106790       0.301982  0.319514  \n",
       "1    0.945130    0.049188       0.297428  0.314695  \n",
       "6    0.945130    0.032572       0.291102  0.308002  \n",
       "8    0.758900    0.123256       0.232837  0.306809  \n",
       "0    0.945130    0.042336       0.289311  0.306107  \n",
       "17   0.945130    0.082464       0.288434  0.305180  \n",
       "14   0.758900    0.043736       0.218549  0.287981  \n",
       "10   0.758900    0.049148       0.216652  0.285482  \n",
       "15   0.758900    0.045264       0.215907  0.284500  \n",
       "32   0.945130    0.081760       0.267790  0.283337  \n",
       "9    0.758900    0.100744       0.208217  0.274366  \n",
       "27   0.945130    0.036420       0.255350  0.270174  \n",
       "28   0.945130    0.033950       0.233026  0.246554  \n",
       "25   0.945130    0.063282       0.229441  0.242761  \n",
       "24   0.945130    0.063544       0.225931  0.239048  \n",
       "29   0.945130    0.037440       0.222183  0.235082  \n",
       "30   0.945130    0.033508       0.217879  0.230528  \n",
       "22   0.945130    0.102790       0.212445  0.224779  \n",
       "18   0.945130    0.112312       0.212163  0.224480  \n",
       "5    0.945130    0.034864       0.205034  0.216937  "
      ]
     },
     "execution_count": 138,
     "metadata": {},
     "output_type": "execute_result"
    }
   ],
   "source": [
    "df_rules_ap1.sort_values(by = 'Lift_AB', ascending = False)"
   ]
  }
 ],
 "metadata": {
  "colab": {
   "collapsed_sections": [
    "LLQGe8qIcf3s"
   ],
   "name": "Copy of ML_Project.ipynb",
   "provenance": [
    {
     "file_id": "1GIKEtfM-U_W3jLzt-S-qTAEleUzQihDb",
     "timestamp": 1619733841555
    }
   ]
  },
  "kernelspec": {
   "display_name": "Python 3 (ipykernel)",
   "language": "python",
   "name": "python3"
  },
  "language_info": {
   "codemirror_mode": {
    "name": "ipython",
    "version": 3
   },
   "file_extension": ".py",
   "mimetype": "text/x-python",
   "name": "python",
   "nbconvert_exporter": "python",
   "pygments_lexer": "ipython3",
   "version": "3.13.5"
  }
 },
 "nbformat": 4,
 "nbformat_minor": 4
}
